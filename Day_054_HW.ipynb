{
 "cells": [
  {
   "cell_type": "markdown",
   "metadata": {},
   "source": [
    "# 作業\n",
    "* 試著想想看, 非監督學習是否有可能使用評價函數 (Metric) 來鑑別好壞呢?  \n",
    "(Hint : 可以分為 \"有目標值\" 與 \"無目標值\" 兩個方向思考)"
   ]
  },
  {
   "cell_type": "markdown",
   "metadata": {
    "collapsed": true
   },
   "source": [
    "非監督式學習本身沒有label過的資料集，用評價函數來評估似乎有困難\n",
    "考慮兩種狀況：\n",
    "\n",
    "**1.有目標值(ex : 分辨貓狗，判斷年紀)：**\n",
    "\n",
    "這類的可能透過無監督式學習來分類後再進行評價，雖然結果不一定準確，但是具有參考價值\n",
    "\n",
    "**2.無目標值(ex : 圖片生成， 文章評分):**\n",
    "\n",
    "無一定目標值的判斷標準非常的主觀，不適合用評價函數來進行判斷，最典型的非監督式學習,GAN就無法用此方法進行評估"
   ]
  }
 ],
 "metadata": {
  "kernelspec": {
   "display_name": "Python 3",
   "language": "python",
   "name": "python3"
  },
  "language_info": {
   "codemirror_mode": {
    "name": "ipython",
    "version": 3
   },
   "file_extension": ".py",
   "mimetype": "text/x-python",
   "name": "python",
   "nbconvert_exporter": "python",
   "pygments_lexer": "ipython3",
   "version": "3.8.3"
  }
 },
 "nbformat": 4,
 "nbformat_minor": 1
}

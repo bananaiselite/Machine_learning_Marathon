{
  "nbformat": 4,
  "nbformat_minor": 0,
  "metadata": {
    "colab": {
      "name": "Day_78_HW.ipynb",
      "provenance": [],
      "collapsed_sections": []
    },
    "kernelspec": {
      "name": "python3",
      "display_name": "Python 3"
    },
    "accelerator": "GPU"
  },
  "cells": [
    {
      "cell_type": "markdown",
      "metadata": {
        "id": "3htfn44Hxa9F"
      },
      "source": [
        "## Work\n",
        "1. 請嘗試將 preproc_x 替換成以每筆資料的 min/max 進行標準化至 -1 ~ 1 間，再進行訓練\n",
        "2. 請嘗試將 mlp 疊更深 (e.g 5~10 層)，進行訓練後觀察 learning curve 的走勢\n",
        "3. (optional) 請改用 GPU 進行訓練 (如果你有 GPU 的話)，比較使用 CPU 與 GPU 的訓練速度"
      ]
    },
    {
      "cell_type": "code",
      "metadata": {
        "colab": {
          "base_uri": "https://localhost:8080/",
          "height": 37
        },
        "id": "iFtMfL42xXYG",
        "outputId": "bb8d6da5-b963-4b83-80f0-fe7f72ff3f4c"
      },
      "source": [
        "## \n",
        "\"\"\"\n",
        "Your code here (optional)\n",
        "確認硬體資源\n",
        "\"\"\"\n",
        "import tensorflow as tf\n",
        "import keras\n",
        "import os\n",
        "os.environ[\"CUDA_VISIBLE_DEVICES\"] = '0'\n",
        "\n",
        "keras.__version__"
      ],
      "execution_count": null,
      "outputs": [
        {
          "output_type": "execute_result",
          "data": {
            "application/vnd.google.colaboratory.intrinsic+json": {
              "type": "string"
            },
            "text/plain": [
              "'2.4.3'"
            ]
          },
          "metadata": {
            "tags": []
          },
          "execution_count": 23
        }
      ]
    },
    {
      "cell_type": "code",
      "metadata": {
        "colab": {
          "base_uri": "https://localhost:8080/"
        },
        "id": "Cc4lTRQJ23Lo",
        "outputId": "90c055d7-70eb-4de9-91f5-8a3a70000ada"
      },
      "source": [
        "# 從 Keras 的內建功能中，取得 train 與 test 資料集\n",
        "train, test = keras.datasets.cifar10.load_data()"
      ],
      "execution_count": null,
      "outputs": [
        {
          "output_type": "stream",
          "text": [
            "Downloading data from https://www.cs.toronto.edu/~kriz/cifar-10-python.tar.gz\n",
            "170500096/170498071 [==============================] - 2s 0us/step\n"
          ],
          "name": "stdout"
        }
      ]
    },
    {
      "cell_type": "code",
      "metadata": {
        "id": "i6Fcrown07zx"
      },
      "source": [
        "## 資料前處理\n",
        "from sklearn.preprocessing import StandardScaler\n",
        "def preproc_x(x):\n",
        "    x = x.reshape((len(x), -1))\n",
        "    scaler = StandardScaler()\n",
        "    x = (scaler.fit_transform(x) - 0.5)*2\n",
        "    return x\n",
        "\n",
        "def preproc_y(y, num_classes=10):\n",
        "    if y.shape[-1] == 1:\n",
        "        y = keras.utils.to_categorical(y, num_classes)\n",
        "    return y    "
      ],
      "execution_count": null,
      "outputs": []
    },
    {
      "cell_type": "code",
      "metadata": {
        "id": "LupgS9Y14HR6"
      },
      "source": [
        "x_train, y_train = train\n",
        "x_test, y_test = test\n",
        "\n",
        "# 資料前處理 - X 標準化\n",
        "x_train = preproc_x(x_train)\n",
        "x_test = preproc_x(x_test)\n",
        "\n",
        "# 資料前處理 -Y 轉成 onehot\n",
        "y_train = preproc_y(y_train)\n",
        "y_test = preproc_y(y_test)"
      ],
      "execution_count": null,
      "outputs": []
    },
    {
      "cell_type": "code",
      "metadata": {
        "id": "tlb_HdLw4J4V"
      },
      "source": [
        "def build_mlp(input_shape, output_units=10, num_neurons=[512, 256, 128, 64, 32, 16, 8, 4]):\n",
        "    input_layer = keras.layers.Input(input_shape)\n",
        "    \n",
        "    for i, n_units in enumerate(num_neurons):\n",
        "        if i == 0:\n",
        "            x = keras.layers.Dense(units=n_units, activation=\"relu\", name=\"hidden_layer\"+str(i+1))(input_layer)\n",
        "        else:\n",
        "            x = keras.layers.Dense(units=n_units, activation=\"relu\", name=\"hidden_layer\"+str(i+1))(x)\n",
        "    \n",
        "    out = keras.layers.Dense(units=output_units, activation=\"softmax\", name=\"output\")(x)\n",
        "    \n",
        "    model = keras.models.Model(inputs=[input_layer], outputs=[out])\n",
        "    return model"
      ],
      "execution_count": null,
      "outputs": []
    },
    {
      "cell_type": "code",
      "metadata": {
        "colab": {
          "base_uri": "https://localhost:8080/"
        },
        "id": "bQqr5lkC6Ark",
        "outputId": "54ecb1a9-a955-42e1-ebcc-88b23d5b7701"
      },
      "source": [
        "model = build_mlp(input_shape=x_train.shape[1:])\n",
        "model.summary()"
      ],
      "execution_count": null,
      "outputs": [
        {
          "output_type": "stream",
          "text": [
            "Model: \"model\"\n",
            "_________________________________________________________________\n",
            "Layer (type)                 Output Shape              Param #   \n",
            "=================================================================\n",
            "input_1 (InputLayer)         [(None, 3072)]            0         \n",
            "_________________________________________________________________\n",
            "hidden_layer1 (Dense)        (None, 512)               1573376   \n",
            "_________________________________________________________________\n",
            "hidden_layer2 (Dense)        (None, 256)               131328    \n",
            "_________________________________________________________________\n",
            "hidden_layer3 (Dense)        (None, 128)               32896     \n",
            "_________________________________________________________________\n",
            "hidden_layer4 (Dense)        (None, 64)                8256      \n",
            "_________________________________________________________________\n",
            "hidden_layer5 (Dense)        (None, 32)                2080      \n",
            "_________________________________________________________________\n",
            "hidden_layer6 (Dense)        (None, 16)                528       \n",
            "_________________________________________________________________\n",
            "hidden_layer7 (Dense)        (None, 8)                 136       \n",
            "_________________________________________________________________\n",
            "hidden_layer8 (Dense)        (None, 4)                 36        \n",
            "_________________________________________________________________\n",
            "output (Dense)               (None, 10)                50        \n",
            "=================================================================\n",
            "Total params: 1,748,686\n",
            "Trainable params: 1,748,686\n",
            "Non-trainable params: 0\n",
            "_________________________________________________________________\n"
          ],
          "name": "stdout"
        }
      ]
    },
    {
      "cell_type": "code",
      "metadata": {
        "id": "AE9wQ4sK6CI1"
      },
      "source": [
        "## 超參數設定\n",
        "LEARNING_RATE = 0.001\n",
        "EPOCHS = 100\n",
        "BATCH_SIZE = 256"
      ],
      "execution_count": null,
      "outputs": []
    },
    {
      "cell_type": "code",
      "metadata": {
        "id": "0OMGmm6f6ETB"
      },
      "source": [
        "optimizer = keras.optimizers.Adam(lr=LEARNING_RATE)\n",
        "model.compile(loss=\"categorical_crossentropy\", metrics=[\"accuracy\"], optimizer=optimizer)"
      ],
      "execution_count": null,
      "outputs": []
    },
    {
      "cell_type": "code",
      "metadata": {
        "colab": {
          "base_uri": "https://localhost:8080/"
        },
        "id": "WijZNyr76FPg",
        "outputId": "1957c170-7e75-4401-d8b0-6ae56983f764"
      },
      "source": [
        "model.fit(x_train, y_train, \n",
        "          epochs=EPOCHS, \n",
        "          batch_size=BATCH_SIZE, \n",
        "          validation_data=(x_test, y_test), \n",
        "          shuffle=True)"
      ],
      "execution_count": null,
      "outputs": [
        {
          "output_type": "stream",
          "text": [
            "Epoch 1/100\n",
            "196/196 [==============================] - 11s 49ms/step - loss: 2.2827 - accuracy: 0.1340 - val_loss: 2.1367 - val_accuracy: 0.1999\n",
            "Epoch 2/100\n",
            "196/196 [==============================] - 12s 59ms/step - loss: 2.1090 - accuracy: 0.2061 - val_loss: 2.0383 - val_accuracy: 0.2187\n",
            "Epoch 3/100\n",
            "196/196 [==============================] - 9s 48ms/step - loss: 2.0148 - accuracy: 0.2233 - val_loss: 1.9312 - val_accuracy: 0.2599\n",
            "Epoch 4/100\n",
            "196/196 [==============================] - 9s 48ms/step - loss: 1.8914 - accuracy: 0.2868 - val_loss: 1.8339 - val_accuracy: 0.3241\n",
            "Epoch 5/100\n",
            "196/196 [==============================] - 10s 49ms/step - loss: 1.7662 - accuracy: 0.3481 - val_loss: 1.7469 - val_accuracy: 0.3680\n",
            "Epoch 6/100\n",
            "196/196 [==============================] - 9s 47ms/step - loss: 1.6475 - accuracy: 0.4107 - val_loss: 1.6432 - val_accuracy: 0.4233\n",
            "Epoch 7/100\n",
            "196/196 [==============================] - 9s 47ms/step - loss: 1.5361 - accuracy: 0.4573 - val_loss: 1.5897 - val_accuracy: 0.4400\n",
            "Epoch 8/100\n",
            "196/196 [==============================] - 9s 48ms/step - loss: 1.4617 - accuracy: 0.4801 - val_loss: 1.5691 - val_accuracy: 0.4570\n",
            "Epoch 9/100\n",
            "196/196 [==============================] - 9s 48ms/step - loss: 1.3896 - accuracy: 0.5018 - val_loss: 1.5615 - val_accuracy: 0.4660\n",
            "Epoch 10/100\n",
            "196/196 [==============================] - 9s 47ms/step - loss: 1.3150 - accuracy: 0.5280 - val_loss: 1.5449 - val_accuracy: 0.4724\n",
            "Epoch 11/100\n",
            "196/196 [==============================] - 9s 47ms/step - loss: 1.2539 - accuracy: 0.5507 - val_loss: 1.5722 - val_accuracy: 0.4780\n",
            "Epoch 12/100\n",
            "196/196 [==============================] - 9s 48ms/step - loss: 1.1880 - accuracy: 0.5713 - val_loss: 1.6526 - val_accuracy: 0.4807\n",
            "Epoch 13/100\n",
            "196/196 [==============================] - 9s 48ms/step - loss: 1.1287 - accuracy: 0.5920 - val_loss: 1.6483 - val_accuracy: 0.4822\n",
            "Epoch 14/100\n",
            "196/196 [==============================] - 9s 47ms/step - loss: 1.0744 - accuracy: 0.6050 - val_loss: 1.6708 - val_accuracy: 0.5001\n",
            "Epoch 15/100\n",
            "196/196 [==============================] - 9s 48ms/step - loss: 1.0215 - accuracy: 0.6268 - val_loss: 1.7369 - val_accuracy: 0.4957\n",
            "Epoch 16/100\n",
            "196/196 [==============================] - 9s 47ms/step - loss: 0.9727 - accuracy: 0.6395 - val_loss: 1.7608 - val_accuracy: 0.4849\n",
            "Epoch 17/100\n",
            "196/196 [==============================] - 9s 47ms/step - loss: 0.9240 - accuracy: 0.6565 - val_loss: 1.7526 - val_accuracy: 0.5005\n",
            "Epoch 18/100\n",
            "196/196 [==============================] - 9s 47ms/step - loss: 0.8865 - accuracy: 0.6721 - val_loss: 1.9214 - val_accuracy: 0.4949\n",
            "Epoch 19/100\n",
            "196/196 [==============================] - 9s 47ms/step - loss: 0.8367 - accuracy: 0.6855 - val_loss: 1.9162 - val_accuracy: 0.4927\n",
            "Epoch 20/100\n",
            "196/196 [==============================] - 9s 47ms/step - loss: 0.8028 - accuracy: 0.6994 - val_loss: 2.0362 - val_accuracy: 0.4965\n",
            "Epoch 21/100\n",
            "196/196 [==============================] - 9s 48ms/step - loss: 0.7377 - accuracy: 0.7195 - val_loss: 2.0304 - val_accuracy: 0.4940\n",
            "Epoch 22/100\n",
            "196/196 [==============================] - 9s 47ms/step - loss: 0.7171 - accuracy: 0.7278 - val_loss: 2.2213 - val_accuracy: 0.4986\n",
            "Epoch 23/100\n",
            "196/196 [==============================] - 9s 48ms/step - loss: 0.6911 - accuracy: 0.7347 - val_loss: 2.2244 - val_accuracy: 0.4912\n",
            "Epoch 24/100\n",
            "196/196 [==============================] - 9s 47ms/step - loss: 0.6477 - accuracy: 0.7523 - val_loss: 2.3735 - val_accuracy: 0.4980\n",
            "Epoch 25/100\n",
            "196/196 [==============================] - 9s 48ms/step - loss: 0.6200 - accuracy: 0.7637 - val_loss: 2.4504 - val_accuracy: 0.4954\n",
            "Epoch 26/100\n",
            "196/196 [==============================] - 9s 48ms/step - loss: 0.6108 - accuracy: 0.7685 - val_loss: 2.5608 - val_accuracy: 0.5000\n",
            "Epoch 27/100\n",
            "196/196 [==============================] - 9s 48ms/step - loss: 0.5669 - accuracy: 0.7842 - val_loss: 2.6837 - val_accuracy: 0.4993\n",
            "Epoch 28/100\n",
            "196/196 [==============================] - 9s 48ms/step - loss: 0.5573 - accuracy: 0.7865 - val_loss: 2.5661 - val_accuracy: 0.5023\n",
            "Epoch 29/100\n",
            "196/196 [==============================] - 9s 48ms/step - loss: 0.5229 - accuracy: 0.7995 - val_loss: 2.8183 - val_accuracy: 0.4941\n",
            "Epoch 30/100\n",
            "196/196 [==============================] - 9s 48ms/step - loss: 0.5122 - accuracy: 0.8034 - val_loss: 2.8853 - val_accuracy: 0.4977\n",
            "Epoch 31/100\n",
            "196/196 [==============================] - 9s 48ms/step - loss: 0.4875 - accuracy: 0.8140 - val_loss: 2.8779 - val_accuracy: 0.4905\n",
            "Epoch 32/100\n",
            "196/196 [==============================] - 9s 48ms/step - loss: 0.4860 - accuracy: 0.8156 - val_loss: 3.0079 - val_accuracy: 0.4929\n",
            "Epoch 33/100\n",
            "196/196 [==============================] - 15s 75ms/step - loss: 0.4529 - accuracy: 0.8297 - val_loss: 3.0592 - val_accuracy: 0.4882\n",
            "Epoch 34/100\n",
            "196/196 [==============================] - 10s 50ms/step - loss: 0.4410 - accuracy: 0.8332 - val_loss: 3.1502 - val_accuracy: 0.5041\n",
            "Epoch 35/100\n",
            "196/196 [==============================] - 10s 49ms/step - loss: 0.4123 - accuracy: 0.8436 - val_loss: 3.3811 - val_accuracy: 0.4974\n",
            "Epoch 36/100\n",
            "196/196 [==============================] - 10s 49ms/step - loss: 0.3948 - accuracy: 0.8491 - val_loss: 3.5745 - val_accuracy: 0.5037\n",
            "Epoch 37/100\n",
            "196/196 [==============================] - 10s 49ms/step - loss: 0.3934 - accuracy: 0.8554 - val_loss: 3.5538 - val_accuracy: 0.4921\n",
            "Epoch 38/100\n",
            "196/196 [==============================] - 10s 49ms/step - loss: 0.3969 - accuracy: 0.8554 - val_loss: 3.4536 - val_accuracy: 0.4951\n",
            "Epoch 39/100\n",
            "196/196 [==============================] - 10s 49ms/step - loss: 0.3710 - accuracy: 0.8641 - val_loss: 3.5429 - val_accuracy: 0.4932\n",
            "Epoch 40/100\n",
            "196/196 [==============================] - 10s 49ms/step - loss: 0.3591 - accuracy: 0.8679 - val_loss: 3.7280 - val_accuracy: 0.5042\n",
            "Epoch 41/100\n",
            "196/196 [==============================] - 10s 50ms/step - loss: 0.3393 - accuracy: 0.8779 - val_loss: 3.7044 - val_accuracy: 0.4894\n",
            "Epoch 42/100\n",
            "196/196 [==============================] - 10s 49ms/step - loss: 0.3525 - accuracy: 0.8720 - val_loss: 4.1331 - val_accuracy: 0.5024\n",
            "Epoch 43/100\n",
            "196/196 [==============================] - 10s 49ms/step - loss: 0.3257 - accuracy: 0.8804 - val_loss: 3.9838 - val_accuracy: 0.5026\n",
            "Epoch 44/100\n",
            "196/196 [==============================] - 10s 49ms/step - loss: 0.3054 - accuracy: 0.8914 - val_loss: 3.9748 - val_accuracy: 0.4949\n",
            "Epoch 45/100\n",
            "196/196 [==============================] - 10s 49ms/step - loss: 0.3218 - accuracy: 0.8862 - val_loss: 4.3321 - val_accuracy: 0.4997\n",
            "Epoch 46/100\n",
            "196/196 [==============================] - 9s 48ms/step - loss: 0.2900 - accuracy: 0.8969 - val_loss: 3.9365 - val_accuracy: 0.4879\n",
            "Epoch 47/100\n",
            "196/196 [==============================] - 9s 48ms/step - loss: 0.2958 - accuracy: 0.8962 - val_loss: 4.2031 - val_accuracy: 0.5014\n",
            "Epoch 48/100\n",
            "196/196 [==============================] - 9s 48ms/step - loss: 0.2772 - accuracy: 0.9034 - val_loss: 4.2254 - val_accuracy: 0.4914\n",
            "Epoch 49/100\n",
            "196/196 [==============================] - 10s 50ms/step - loss: 0.2774 - accuracy: 0.9061 - val_loss: 4.3200 - val_accuracy: 0.4971\n",
            "Epoch 50/100\n",
            "196/196 [==============================] - 9s 48ms/step - loss: 0.2585 - accuracy: 0.9091 - val_loss: 4.4991 - val_accuracy: 0.4999\n",
            "Epoch 51/100\n",
            "196/196 [==============================] - 10s 49ms/step - loss: 0.2585 - accuracy: 0.9109 - val_loss: 4.6182 - val_accuracy: 0.4929\n",
            "Epoch 52/100\n",
            "196/196 [==============================] - 10s 49ms/step - loss: 0.2599 - accuracy: 0.9093 - val_loss: 4.7163 - val_accuracy: 0.4981\n",
            "Epoch 53/100\n",
            "196/196 [==============================] - 10s 49ms/step - loss: 0.2282 - accuracy: 0.9215 - val_loss: 4.7599 - val_accuracy: 0.5018\n",
            "Epoch 54/100\n",
            "196/196 [==============================] - 10s 49ms/step - loss: 0.2132 - accuracy: 0.9260 - val_loss: 4.8301 - val_accuracy: 0.4973\n",
            "Epoch 55/100\n",
            "196/196 [==============================] - 10s 49ms/step - loss: 0.2286 - accuracy: 0.9205 - val_loss: 4.8963 - val_accuracy: 0.4977\n",
            "Epoch 56/100\n",
            "196/196 [==============================] - 10s 49ms/step - loss: 0.2303 - accuracy: 0.9233 - val_loss: 4.8877 - val_accuracy: 0.5028\n",
            "Epoch 57/100\n",
            "196/196 [==============================] - 9s 48ms/step - loss: 0.2110 - accuracy: 0.9292 - val_loss: 4.9812 - val_accuracy: 0.4937\n",
            "Epoch 58/100\n",
            "196/196 [==============================] - 10s 49ms/step - loss: 0.2228 - accuracy: 0.9251 - val_loss: 5.2077 - val_accuracy: 0.4968\n",
            "Epoch 59/100\n",
            "196/196 [==============================] - 10s 49ms/step - loss: 0.2174 - accuracy: 0.9291 - val_loss: 4.6863 - val_accuracy: 0.4973\n",
            "Epoch 60/100\n",
            "196/196 [==============================] - 10s 49ms/step - loss: 0.2099 - accuracy: 0.9302 - val_loss: 5.2117 - val_accuracy: 0.4970\n",
            "Epoch 61/100\n",
            "196/196 [==============================] - 10s 49ms/step - loss: 0.1926 - accuracy: 0.9350 - val_loss: 4.8855 - val_accuracy: 0.4930\n",
            "Epoch 62/100\n",
            "196/196 [==============================] - 10s 50ms/step - loss: 0.2008 - accuracy: 0.9343 - val_loss: 5.2457 - val_accuracy: 0.5006\n",
            "Epoch 63/100\n",
            "196/196 [==============================] - 10s 50ms/step - loss: 0.1785 - accuracy: 0.9405 - val_loss: 5.4719 - val_accuracy: 0.4859\n",
            "Epoch 64/100\n",
            "196/196 [==============================] - 10s 49ms/step - loss: 0.1968 - accuracy: 0.9352 - val_loss: 5.4224 - val_accuracy: 0.5000\n",
            "Epoch 65/100\n",
            "196/196 [==============================] - 10s 49ms/step - loss: 0.1896 - accuracy: 0.9392 - val_loss: 4.7881 - val_accuracy: 0.4934\n",
            "Epoch 66/100\n",
            "196/196 [==============================] - 10s 49ms/step - loss: 0.2216 - accuracy: 0.9269 - val_loss: 5.3171 - val_accuracy: 0.5008\n",
            "Epoch 67/100\n",
            "196/196 [==============================] - 9s 48ms/step - loss: 0.1715 - accuracy: 0.9427 - val_loss: 5.3924 - val_accuracy: 0.4922\n",
            "Epoch 68/100\n",
            "196/196 [==============================] - 10s 49ms/step - loss: 0.1775 - accuracy: 0.9408 - val_loss: 5.2108 - val_accuracy: 0.5009\n",
            "Epoch 69/100\n",
            "196/196 [==============================] - 10s 49ms/step - loss: 0.1685 - accuracy: 0.9446 - val_loss: 5.6474 - val_accuracy: 0.4920\n",
            "Epoch 70/100\n",
            "196/196 [==============================] - 10s 49ms/step - loss: 0.1637 - accuracy: 0.9468 - val_loss: 6.0481 - val_accuracy: 0.5026\n",
            "Epoch 71/100\n",
            "196/196 [==============================] - 10s 49ms/step - loss: 0.1453 - accuracy: 0.9524 - val_loss: 5.5925 - val_accuracy: 0.4973\n",
            "Epoch 72/100\n",
            "196/196 [==============================] - 10s 49ms/step - loss: 0.1585 - accuracy: 0.9478 - val_loss: 5.2568 - val_accuracy: 0.4944\n",
            "Epoch 73/100\n",
            "196/196 [==============================] - 10s 50ms/step - loss: 0.1503 - accuracy: 0.9512 - val_loss: 5.5644 - val_accuracy: 0.4891\n",
            "Epoch 74/100\n",
            "196/196 [==============================] - 10s 49ms/step - loss: 0.2065 - accuracy: 0.9319 - val_loss: 5.2560 - val_accuracy: 0.4959\n",
            "Epoch 75/100\n",
            "196/196 [==============================] - 10s 49ms/step - loss: 0.1421 - accuracy: 0.9532 - val_loss: 6.1545 - val_accuracy: 0.4918\n",
            "Epoch 76/100\n",
            "196/196 [==============================] - 10s 49ms/step - loss: 0.1247 - accuracy: 0.9596 - val_loss: 5.9791 - val_accuracy: 0.4947\n",
            "Epoch 77/100\n",
            "196/196 [==============================] - 10s 49ms/step - loss: 0.1495 - accuracy: 0.9500 - val_loss: 5.6250 - val_accuracy: 0.4876\n",
            "Epoch 78/100\n",
            "196/196 [==============================] - 10s 49ms/step - loss: 0.2102 - accuracy: 0.9362 - val_loss: 5.9710 - val_accuracy: 0.5026\n",
            "Epoch 79/100\n",
            "196/196 [==============================] - 10s 49ms/step - loss: 0.1372 - accuracy: 0.9555 - val_loss: 5.7168 - val_accuracy: 0.5022\n",
            "Epoch 80/100\n",
            "196/196 [==============================] - 10s 49ms/step - loss: 0.1250 - accuracy: 0.9601 - val_loss: 6.0959 - val_accuracy: 0.4978\n",
            "Epoch 81/100\n",
            "196/196 [==============================] - 10s 49ms/step - loss: 0.1767 - accuracy: 0.9459 - val_loss: 5.8410 - val_accuracy: 0.4977\n",
            "Epoch 82/100\n",
            "196/196 [==============================] - 10s 49ms/step - loss: 0.1155 - accuracy: 0.9628 - val_loss: 5.5804 - val_accuracy: 0.4951\n",
            "Epoch 83/100\n",
            "196/196 [==============================] - 10s 49ms/step - loss: 0.1449 - accuracy: 0.9536 - val_loss: 6.1543 - val_accuracy: 0.4918\n",
            "Epoch 84/100\n",
            "196/196 [==============================] - 10s 49ms/step - loss: 0.1683 - accuracy: 0.9471 - val_loss: 5.8511 - val_accuracy: 0.5003\n",
            "Epoch 85/100\n",
            "196/196 [==============================] - 10s 49ms/step - loss: 0.1050 - accuracy: 0.9664 - val_loss: 5.7063 - val_accuracy: 0.4923\n",
            "Epoch 86/100\n",
            "196/196 [==============================] - 10s 49ms/step - loss: 0.1265 - accuracy: 0.9589 - val_loss: 5.9443 - val_accuracy: 0.4879\n",
            "Epoch 87/100\n",
            "196/196 [==============================] - 10s 49ms/step - loss: 0.1293 - accuracy: 0.9601 - val_loss: 5.9154 - val_accuracy: 0.4958\n",
            "Epoch 88/100\n",
            "196/196 [==============================] - 10s 49ms/step - loss: 0.1310 - accuracy: 0.9592 - val_loss: 6.0969 - val_accuracy: 0.4947\n",
            "Epoch 89/100\n",
            "196/196 [==============================] - 10s 49ms/step - loss: 0.1428 - accuracy: 0.9560 - val_loss: 5.7612 - val_accuracy: 0.4957\n",
            "Epoch 90/100\n",
            "196/196 [==============================] - 10s 49ms/step - loss: 0.1142 - accuracy: 0.9646 - val_loss: 6.1504 - val_accuracy: 0.4944\n",
            "Epoch 91/100\n",
            "196/196 [==============================] - 10s 49ms/step - loss: 0.1189 - accuracy: 0.9627 - val_loss: 5.9937 - val_accuracy: 0.5065\n",
            "Epoch 92/100\n",
            "196/196 [==============================] - 10s 49ms/step - loss: 0.1257 - accuracy: 0.9604 - val_loss: 5.7864 - val_accuracy: 0.5002\n",
            "Epoch 93/100\n",
            "196/196 [==============================] - 10s 50ms/step - loss: 0.1352 - accuracy: 0.9577 - val_loss: 6.0425 - val_accuracy: 0.4955\n",
            "Epoch 94/100\n",
            "196/196 [==============================] - 10s 49ms/step - loss: 0.1212 - accuracy: 0.9616 - val_loss: 5.6878 - val_accuracy: 0.4958\n",
            "Epoch 95/100\n",
            "196/196 [==============================] - 10s 50ms/step - loss: 0.1270 - accuracy: 0.9605 - val_loss: 5.8808 - val_accuracy: 0.5036\n",
            "Epoch 96/100\n",
            "196/196 [==============================] - 10s 50ms/step - loss: 0.1082 - accuracy: 0.9664 - val_loss: 6.1598 - val_accuracy: 0.5062\n",
            "Epoch 97/100\n",
            "196/196 [==============================] - 10s 49ms/step - loss: 0.0816 - accuracy: 0.9731 - val_loss: 5.8609 - val_accuracy: 0.4962\n",
            "Epoch 98/100\n",
            "196/196 [==============================] - 10s 49ms/step - loss: 0.1366 - accuracy: 0.9575 - val_loss: 5.7467 - val_accuracy: 0.5011\n",
            "Epoch 99/100\n",
            "196/196 [==============================] - 10s 50ms/step - loss: 0.1294 - accuracy: 0.9580 - val_loss: 5.8263 - val_accuracy: 0.4951\n",
            "Epoch 100/100\n",
            "196/196 [==============================] - 10s 50ms/step - loss: 0.1176 - accuracy: 0.9637 - val_loss: 6.4029 - val_accuracy: 0.4902\n"
          ],
          "name": "stdout"
        },
        {
          "output_type": "execute_result",
          "data": {
            "text/plain": [
              "<tensorflow.python.keras.callbacks.History at 0x7f66df480470>"
            ]
          },
          "metadata": {
            "tags": []
          },
          "execution_count": 49
        }
      ]
    },
    {
      "cell_type": "code",
      "metadata": {
        "colab": {
          "base_uri": "https://localhost:8080/",
          "height": 545
        },
        "id": "JgciJirN6HHv",
        "outputId": "1a253456-6af1-4f84-98f0-27504d81751a"
      },
      "source": [
        "# 訓練模型並檢視驗證集的結果\n",
        "import matplotlib.pyplot as plt\n",
        "\n",
        "train_loss = model.history.history[\"loss\"]\n",
        "valid_loss = model.history.history[\"val_loss\"]\n",
        "\n",
        "train_acc = model.history.history[\"accuracy\"]\n",
        "valid_acc = model.history.history[\"val_accuracy\"]\n",
        "\n",
        "plt.plot(range(len(train_loss)), train_loss, label=\"train loss\")\n",
        "plt.plot(range(len(valid_loss)), valid_loss, label=\"valid loss\")\n",
        "plt.legend()\n",
        "plt.title(\"Loss\")\n",
        "plt.show()\n",
        "\n",
        "plt.plot(range(len(train_acc)), train_acc, label=\"train accuracy\")\n",
        "plt.plot(range(len(valid_acc)), valid_acc, label=\"valid accuracy\")\n",
        "plt.legend()\n",
        "plt.title(\"Accuracy\")\n",
        "plt.show()"
      ],
      "execution_count": null,
      "outputs": [
        {
          "output_type": "display_data",
          "data": {
            "image/png": "[encoded data removed]",
            "text/plain": [
              "<Figure size 432x288 with 1 Axes>"
            ]
          },
          "metadata": {
            "tags": [],
            "needs_background": "light"
          }
        },
        {
          "output_type": "display_data",
          "data": {
            "image/png": "[encoded data removed]",
            "text/plain": [
              "<Figure size 432x288 with 1 Axes>"
            ]
          },
          "metadata": {
            "tags": [],
            "needs_background": "light"
          }
        }
      ]
    },
    {
      "cell_type": "code",
      "metadata": {
        "id": "_YEJ86Aw9_DT"
      },
      "source": [
        ""
      ],
      "execution_count": null,
      "outputs": []
    }
  ]
}
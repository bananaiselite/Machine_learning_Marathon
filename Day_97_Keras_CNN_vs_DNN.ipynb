{
  "nbformat": 4,
  "nbformat_minor": 0,
  "metadata": {
    "colab": {
      "name": "Day_97_Keras_CNN_vs_DNN",
      "provenance": [],
      "collapsed_sections": []
    },
    "kernelspec": {
      "name": "python3",
      "display_name": "Python 3"
    },
    "accelerator": "GPU"
  },
  "cells": [
    {
      "cell_type": "code",
      "metadata": {
        "id": "geTGyW5j3Zwh"
      },
      "source": [
        "import keras\n",
        "from keras.datasets import cifar10\n",
        "from keras.preprocessing.image import ImageDataGenerator\n",
        "from keras.models import Sequential\n",
        "from keras.layers import Dense, Dropout, Activation, Flatten\n",
        "from keras.layers import Conv2D, MaxPooling2D\n",
        "from keras.optimizers import RMSprop, Adam\n",
        "import os"
      ],
      "execution_count": 1,
      "outputs": []
    },
    {
      "cell_type": "code",
      "metadata": {
        "colab": {
          "base_uri": "https://localhost:8080/"
        },
        "id": "uUzJ9-KhNaAN",
        "outputId": "ba904fc5-85b0-495f-ddd8-551f946e80f0"
      },
      "source": [
        "batch_size = 128 # batch 的大小，如果出現 OOM error，請降低這個值\n",
        "num_classes = 10 # 類別的數量，Cifar 10 共有 10 個類別\n",
        "epochs = 10 # 訓練的 epochs 數量\n",
        "\n",
        "# 讀取資料並檢視\n",
        "(x_train, y_train), (x_test, y_test) = cifar10.load_data()\n",
        "print('x_train shape:', x_train.shape)\n",
        "print(x_train.shape[0], 'train samples')\n",
        "print(x_test.shape[0], 'test samples')\n",
        "\n",
        "# 對 label 進行 one-hot encoding (y_trian 原本是純數字)\n",
        "y_train = keras.utils.to_categorical(y_train, num_classes)\n",
        "y_test = keras.utils.to_categorical(y_test, num_classes)"
      ],
      "execution_count": 2,
      "outputs": [
        {
          "output_type": "stream",
          "text": [
            "Downloading data from https://www.cs.toronto.edu/~kriz/cifar-10-python.tar.gz\n",
            "170500096/170498071 [==============================] - 6s 0us/step\n",
            "x_train shape: (50000, 32, 32, 3)\n",
            "50000 train samples\n",
            "10000 test samples\n"
          ],
          "name": "stdout"
        }
      ]
    },
    {
      "cell_type": "markdown",
      "metadata": {
        "id": "t2INSX2KNdXl"
      },
      "source": [
        "## 首先我們使用一般的 DNN (MLP) 來訓練\n",
        "由於 DNN 只能輸入一維的資料，我們要先將影像進行攤平，若 (50000, 32, 32, 3) 的影像，攤平後會變成 (50000, 32*32*3) = (50000, 3072)"
      ]
    },
    {
      "cell_type": "code",
      "metadata": {
        "colab": {
          "base_uri": "https://localhost:8080/"
        },
        "id": "DzcwCHeANbLt",
        "outputId": "31eb5a74-0cad-48e7-f318-0d81f47cbe1e"
      },
      "source": [
        "# 將資料攤平成一維資料\n",
        "x_train = x_train.reshape(50000, 3072) \n",
        "x_test = x_test.reshape(10000, 3072)\n",
        "\n",
        "# 將資料變為 float32 並標準化\n",
        "x_train = x_train.astype('float32')\n",
        "x_test = x_test.astype('float32')\n",
        "x_train /= 255\n",
        "x_test /= 255\n",
        "print(x_train.shape[0], 'train samples')\n",
        "print(x_test.shape[0], 'test samples')"
      ],
      "execution_count": 3,
      "outputs": [
        {
          "output_type": "stream",
          "text": [
            "50000 train samples\n",
            "10000 test samples\n"
          ],
          "name": "stdout"
        }
      ]
    },
    {
      "cell_type": "code",
      "metadata": {
        "colab": {
          "base_uri": "https://localhost:8080/"
        },
        "id": "CMpcFBldNfhW",
        "outputId": "06a289ee-4b60-488c-a36c-a2b400f0793a"
      },
      "source": [
        "model = Sequential()\n",
        "model.add(Dense(512, activation='relu', input_shape=(3072,)))\n",
        "model.add(Dropout(0.2))\n",
        "model.add(Dense(512, activation='relu'))\n",
        "model.add(Dropout(0.2))\n",
        "model.add(Dense(num_classes, activation='softmax'))\n",
        "\n",
        "model.summary()\n",
        "\n",
        "model.compile(loss='categorical_crossentropy',\n",
        "              optimizer=RMSprop(),\n",
        "              metrics=['accuracy'])\n",
        "\n",
        "history = model.fit(x_train, y_train,\n",
        "                    batch_size=batch_size,\n",
        "                    epochs=epochs,\n",
        "                    verbose=1,\n",
        "                    validation_data=(x_test, y_test))\n",
        "score = model.evaluate(x_test, y_test, verbose=0)\n",
        "print('Test loss:', score[0])\n",
        "print('Test accuracy:', score[1])"
      ],
      "execution_count": 4,
      "outputs": [
        {
          "output_type": "stream",
          "text": [
            "Model: \"sequential\"\n",
            "_________________________________________________________________\n",
            "Layer (type)                 Output Shape              Param #   \n",
            "=================================================================\n",
            "dense (Dense)                (None, 512)               1573376   \n",
            "_________________________________________________________________\n",
            "dropout (Dropout)            (None, 512)               0         \n",
            "_________________________________________________________________\n",
            "dense_1 (Dense)              (None, 512)               262656    \n",
            "_________________________________________________________________\n",
            "dropout_1 (Dropout)          (None, 512)               0         \n",
            "_________________________________________________________________\n",
            "dense_2 (Dense)              (None, 10)                5130      \n",
            "=================================================================\n",
            "Total params: 1,841,162\n",
            "Trainable params: 1,841,162\n",
            "Non-trainable params: 0\n",
            "_________________________________________________________________\n",
            "Epoch 1/10\n",
            "391/391 [==============================] - 4s 4ms/step - loss: 2.6389 - accuracy: 0.2030 - val_loss: 1.8426 - val_accuracy: 0.3209\n",
            "Epoch 2/10\n",
            "391/391 [==============================] - 1s 4ms/step - loss: 1.8719 - accuracy: 0.3259 - val_loss: 1.7277 - val_accuracy: 0.3870\n",
            "Epoch 3/10\n",
            "391/391 [==============================] - 1s 4ms/step - loss: 1.7854 - accuracy: 0.3545 - val_loss: 1.6826 - val_accuracy: 0.4108\n",
            "Epoch 4/10\n",
            "391/391 [==============================] - 1s 4ms/step - loss: 1.7295 - accuracy: 0.3849 - val_loss: 1.7187 - val_accuracy: 0.3738\n",
            "Epoch 5/10\n",
            "391/391 [==============================] - 1s 4ms/step - loss: 1.6924 - accuracy: 0.3927 - val_loss: 1.6565 - val_accuracy: 0.4208\n",
            "Epoch 6/10\n",
            "391/391 [==============================] - 1s 4ms/step - loss: 1.6565 - accuracy: 0.4037 - val_loss: 1.6026 - val_accuracy: 0.4284\n",
            "Epoch 7/10\n",
            "391/391 [==============================] - 1s 4ms/step - loss: 1.6393 - accuracy: 0.4163 - val_loss: 1.5543 - val_accuracy: 0.4494\n",
            "Epoch 8/10\n",
            "391/391 [==============================] - 1s 4ms/step - loss: 1.6267 - accuracy: 0.4181 - val_loss: 1.6234 - val_accuracy: 0.4086\n",
            "Epoch 9/10\n",
            "391/391 [==============================] - 1s 4ms/step - loss: 1.6109 - accuracy: 0.4217 - val_loss: 1.5540 - val_accuracy: 0.4568\n",
            "Epoch 10/10\n",
            "391/391 [==============================] - 1s 4ms/step - loss: 1.5976 - accuracy: 0.4252 - val_loss: 1.5996 - val_accuracy: 0.4310\n",
            "Test loss: 1.5995728969573975\n",
            "Test accuracy: 0.4309999942779541\n"
          ],
          "name": "stdout"
        }
      ]
    },
    {
      "cell_type": "markdown",
      "metadata": {
        "id": "k-jwJIREOLxK"
      },
      "source": [
        "## 接下來我們使用 CNN 來訓練神經網路\n",
        "CNN 的原理非常適合處理影像類的資料，就讓我們來看看，同樣的訓練條件，CNN 是否顯著優於 DNN 呢?"
      ]
    },
    {
      "cell_type": "code",
      "metadata": {
        "colab": {
          "base_uri": "https://localhost:8080/"
        },
        "id": "r8y94ckOOJA-",
        "outputId": "efc5892b-27f4-4caa-c961-cd9593dea1bb"
      },
      "source": [
        "(x_train, y_train), (x_test, y_test) = cifar10.load_data()\n",
        "print('x_train shape:', x_train.shape)\n",
        "print(x_train.shape[0], 'train samples')\n",
        "print(x_test.shape[0], 'test samples')\n",
        "x_train = x_train.astype('float32')\n",
        "x_test = x_test.astype('float32')\n",
        "x_train /= 255\n",
        "x_test /= 255\n",
        "\n",
        "# Convert class vectors to binary class matrices.\n",
        "y_train = keras.utils.to_categorical(y_train, num_classes)\n",
        "y_test = keras.utils.to_categorical(y_test, num_classes)"
      ],
      "execution_count": 5,
      "outputs": [
        {
          "output_type": "stream",
          "text": [
            "x_train shape: (50000, 32, 32, 3)\n",
            "50000 train samples\n",
            "10000 test samples\n"
          ],
          "name": "stdout"
        }
      ]
    },
    {
      "cell_type": "code",
      "metadata": {
        "colab": {
          "base_uri": "https://localhost:8080/"
        },
        "id": "zhqQwEzxOM-r",
        "outputId": "6a4ff568-2da5-41d8-8c17-de8a2cbf0817"
      },
      "source": [
        "model = Sequential()\n",
        "model.add(Conv2D(32, (3, 3), padding='same',\n",
        "                 input_shape=x_train.shape[1:]))\n",
        "model.add(Activation('relu'))\n",
        "model.add(Conv2D(32, (3, 3)))\n",
        "model.add(Activation('relu'))\n",
        "model.add(MaxPooling2D(pool_size=(2, 2)))\n",
        "model.add(Dropout(0.25))\n",
        "\n",
        "model.add(Conv2D(64, (3, 3), padding='same'))\n",
        "model.add(Activation('relu'))\n",
        "model.add(Conv2D(64, (3, 3)))\n",
        "model.add(Activation('relu'))\n",
        "model.add(MaxPooling2D(pool_size=(2, 2)))\n",
        "model.add(Dropout(0.25))\n",
        "\n",
        "model.add(Flatten())\n",
        "model.add(Dense(512))\n",
        "model.add(Activation('relu'))\n",
        "model.add(Dropout(0.5))\n",
        "model.add(Dense(num_classes))\n",
        "model.add(Activation('softmax'))\n",
        "model.summary()\n",
        "\n",
        "model.compile(loss='categorical_crossentropy',\n",
        "              optimizer=RMSprop(),\n",
        "              metrics=['accuracy'])\n",
        "\n",
        "history = model.fit(x_train, y_train,\n",
        "                    batch_size=batch_size,\n",
        "                    epochs=epochs,\n",
        "                    verbose=1,\n",
        "                    validation_data=(x_test, y_test))\n",
        "score = model.evaluate(x_test, y_test, verbose=0)\n",
        "print('Test loss:', score[0])\n",
        "print('Test accuracy:', score[1])"
      ],
      "execution_count": 6,
      "outputs": [
        {
          "output_type": "stream",
          "text": [
            "Model: \"sequential_1\"\n",
            "_________________________________________________________________\n",
            "Layer (type)                 Output Shape              Param #   \n",
            "=================================================================\n",
            "conv2d (Conv2D)              (None, 32, 32, 32)        896       \n",
            "_________________________________________________________________\n",
            "activation (Activation)      (None, 32, 32, 32)        0         \n",
            "_________________________________________________________________\n",
            "conv2d_1 (Conv2D)            (None, 30, 30, 32)        9248      \n",
            "_________________________________________________________________\n",
            "activation_1 (Activation)    (None, 30, 30, 32)        0         \n",
            "_________________________________________________________________\n",
            "max_pooling2d (MaxPooling2D) (None, 15, 15, 32)        0         \n",
            "_________________________________________________________________\n",
            "dropout_2 (Dropout)          (None, 15, 15, 32)        0         \n",
            "_________________________________________________________________\n",
            "conv2d_2 (Conv2D)            (None, 15, 15, 64)        18496     \n",
            "_________________________________________________________________\n",
            "activation_2 (Activation)    (None, 15, 15, 64)        0         \n",
            "_________________________________________________________________\n",
            "conv2d_3 (Conv2D)            (None, 13, 13, 64)        36928     \n",
            "_________________________________________________________________\n",
            "activation_3 (Activation)    (None, 13, 13, 64)        0         \n",
            "_________________________________________________________________\n",
            "max_pooling2d_1 (MaxPooling2 (None, 6, 6, 64)          0         \n",
            "_________________________________________________________________\n",
            "dropout_3 (Dropout)          (None, 6, 6, 64)          0         \n",
            "_________________________________________________________________\n",
            "flatten (Flatten)            (None, 2304)              0         \n",
            "_________________________________________________________________\n",
            "dense_3 (Dense)              (None, 512)               1180160   \n",
            "_________________________________________________________________\n",
            "activation_4 (Activation)    (None, 512)               0         \n",
            "_________________________________________________________________\n",
            "dropout_4 (Dropout)          (None, 512)               0         \n",
            "_________________________________________________________________\n",
            "dense_4 (Dense)              (None, 10)                5130      \n",
            "_________________________________________________________________\n",
            "activation_5 (Activation)    (None, 10)                0         \n",
            "=================================================================\n",
            "Total params: 1,250,858\n",
            "Trainable params: 1,250,858\n",
            "Non-trainable params: 0\n",
            "_________________________________________________________________\n",
            "Epoch 1/10\n",
            "391/391 [==============================] - 9s 9ms/step - loss: 1.9710 - accuracy: 0.2801 - val_loss: 1.3209 - val_accuracy: 0.5190\n",
            "Epoch 2/10\n",
            "391/391 [==============================] - 3s 8ms/step - loss: 1.3670 - accuracy: 0.5154 - val_loss: 1.2601 - val_accuracy: 0.5610\n",
            "Epoch 3/10\n",
            "391/391 [==============================] - 3s 8ms/step - loss: 1.1281 - accuracy: 0.6037 - val_loss: 1.0527 - val_accuracy: 0.6262\n",
            "Epoch 4/10\n",
            "391/391 [==============================] - 3s 8ms/step - loss: 0.9681 - accuracy: 0.6606 - val_loss: 0.8510 - val_accuracy: 0.7033\n",
            "Epoch 5/10\n",
            "391/391 [==============================] - 3s 8ms/step - loss: 0.8675 - accuracy: 0.6970 - val_loss: 0.7784 - val_accuracy: 0.7243\n",
            "Epoch 6/10\n",
            "391/391 [==============================] - 3s 8ms/step - loss: 0.8006 - accuracy: 0.7217 - val_loss: 0.7795 - val_accuracy: 0.7324\n",
            "Epoch 7/10\n",
            "391/391 [==============================] - 3s 8ms/step - loss: 0.7505 - accuracy: 0.7395 - val_loss: 0.8120 - val_accuracy: 0.7178\n",
            "Epoch 8/10\n",
            "391/391 [==============================] - 3s 8ms/step - loss: 0.7184 - accuracy: 0.7511 - val_loss: 0.7663 - val_accuracy: 0.7389\n",
            "Epoch 9/10\n",
            "391/391 [==============================] - 3s 8ms/step - loss: 0.6895 - accuracy: 0.7631 - val_loss: 0.6715 - val_accuracy: 0.7677\n",
            "Epoch 10/10\n",
            "391/391 [==============================] - 3s 8ms/step - loss: 0.6565 - accuracy: 0.7760 - val_loss: 0.6916 - val_accuracy: 0.7722\n",
            "Test loss: 0.6915917992591858\n",
            "Test accuracy: 0.7721999883651733\n"
          ],
          "name": "stdout"
        }
      ]
    },
    {
      "cell_type": "markdown",
      "metadata": {
        "id": "YVlEV9r7OQ-C"
      },
      "source": [
        "## 同樣運算 10 個 epochs，但 CNN 在 test data 的準確率顯著優於 DNN!"
      ]
    },
    {
      "cell_type": "markdown",
      "metadata": {
        "id": "25KPy43fOTK_"
      },
      "source": [
        "## 作業\n",
        "1. 請試著調整各個超參數，並說明那些超參數對於結果有明顯的影響?\n",
        "\n",
        "   Batch size, 優化器的使用，Dropout的比例等等，都對結果有明顯的影響\n",
        "\n",
        "\n",
        "\n",
        "2. CNN 與 DNN 哪個模型的參數數量比較多? 造成參數的數量不同的原因在哪?\n",
        "   \n",
        "   DNN比模型參數較多，CNN有池化層可以減少參數"
      ]
    },
    {
      "cell_type": "markdown",
      "metadata": {
        "id": "twuC3pNHP5Ed"
      },
      "source": [
        "**試著使用不同優化器**"
      ]
    },
    {
      "cell_type": "code",
      "metadata": {
        "id": "bDfhTL7RP1aK"
      },
      "source": [
        " def Model(): \n",
        "  model = Sequential()\n",
        "  model.add(Conv2D(32, (3, 3), padding='same',\n",
        "                  input_shape=x_train.shape[1:]))\n",
        "  model.add(Activation('relu'))\n",
        "  model.add(Conv2D(32, (3, 3)))\n",
        "  model.add(Activation('relu'))\n",
        "  model.add(MaxPooling2D(pool_size=(2, 2)))\n",
        "  model.add(Dropout(0.25))\n",
        "\n",
        "  model.add(Conv2D(64, (3, 3), padding='same'))\n",
        "  model.add(Activation('relu'))\n",
        "  model.add(Conv2D(64, (3, 3)))\n",
        "  model.add(Activation('relu'))\n",
        "  model.add(MaxPooling2D(pool_size=(2, 2)))\n",
        "  model.add(Dropout(0.25))\n",
        "\n",
        "  model.add(Flatten())\n",
        "  model.add(Dense(512))\n",
        "  model.add(Activation('relu'))\n",
        "  model.add(Dropout(0.5))\n",
        "  model.add(Dense(num_classes))\n",
        "  model.add(Activation('softmax'))\n",
        "  model.summary()\n",
        "\n",
        "  return model\n"
      ],
      "execution_count": 31,
      "outputs": []
    },
    {
      "cell_type": "code",
      "metadata": {
        "id": "mWJNDyKrRB-T"
      },
      "source": [
        "results = {}\n",
        "\n",
        "def collect_history(model, expname):\n",
        "    global results\n",
        "    # Collect results\n",
        "    train_loss = model.history.history[\"loss\"]\n",
        "    valid_loss = model.history.history[\"val_loss\"]\n",
        "    train_acc = model.history.history[\"accuracy\"]\n",
        "    valid_acc = model.history.history[\"val_accuracy\"]\n",
        "    \n",
        "    exp_name_tag = \"exp-%s\" % str(expname)\n",
        "    results[exp_name_tag] = {'train-loss': train_loss,\n",
        "                             'valid-loss': valid_loss,\n",
        "                             'train-acc': train_acc,\n",
        "                             'valid-acc': valid_acc}"
      ],
      "execution_count": 26,
      "outputs": []
    },
    {
      "cell_type": "code",
      "metadata": {
        "id": "RKXfQ_q3TAW3"
      },
      "source": [
        ""
      ],
      "execution_count": 27,
      "outputs": []
    },
    {
      "cell_type": "code",
      "metadata": {
        "colab": {
          "base_uri": "https://localhost:8080/"
        },
        "id": "FwTQOsmGQGGO",
        "outputId": "f1389793-beb1-4194-c8a9-3ffabdf8d988"
      },
      "source": [
        "from keras.optimizers import RMSprop, Adam, Adagrad, Adadelta\n",
        "opts = {'RMS':RMSprop(), 'Adam':Adam(), 'Adagrad':Adagrad(), 'Adadelta':Adadelta()}\n",
        "\n",
        "for opt_name, opt in zip(opts.keys(), opts.values()):\n",
        "  print(f\"now using optimizer: {opt_name}\" )\n",
        "  model = Model()\n",
        "  model.compile(loss='categorical_crossentropy',\n",
        "              optimizer=opt,\n",
        "              metrics=['accuracy'])\n",
        "\n",
        "  history = model.fit(x_train, y_train,\n",
        "                    batch_size=batch_size,\n",
        "                    epochs=epochs,\n",
        "                    verbose=1,\n",
        "                    validation_data=(x_test, y_test))\n",
        "  collect_history(model, opt_name)\n",
        "  score = model.evaluate(x_test, y_test, verbose=0)\n"
      ],
      "execution_count": 33,
      "outputs": [
        {
          "output_type": "stream",
          "text": [
            "now using optimizer: RMS\n",
            "Model: \"sequential_8\"\n",
            "_________________________________________________________________\n",
            "Layer (type)                 Output Shape              Param #   \n",
            "=================================================================\n",
            "conv2d_28 (Conv2D)           (None, 32, 32, 32)        896       \n",
            "_________________________________________________________________\n",
            "activation_42 (Activation)   (None, 32, 32, 32)        0         \n",
            "_________________________________________________________________\n",
            "conv2d_29 (Conv2D)           (None, 30, 30, 32)        9248      \n",
            "_________________________________________________________________\n",
            "activation_43 (Activation)   (None, 30, 30, 32)        0         \n",
            "_________________________________________________________________\n",
            "max_pooling2d_14 (MaxPooling (None, 15, 15, 32)        0         \n",
            "_________________________________________________________________\n",
            "dropout_23 (Dropout)         (None, 15, 15, 32)        0         \n",
            "_________________________________________________________________\n",
            "conv2d_30 (Conv2D)           (None, 15, 15, 64)        18496     \n",
            "_________________________________________________________________\n",
            "activation_44 (Activation)   (None, 15, 15, 64)        0         \n",
            "_________________________________________________________________\n",
            "conv2d_31 (Conv2D)           (None, 13, 13, 64)        36928     \n",
            "_________________________________________________________________\n",
            "activation_45 (Activation)   (None, 13, 13, 64)        0         \n",
            "_________________________________________________________________\n",
            "max_pooling2d_15 (MaxPooling (None, 6, 6, 64)          0         \n",
            "_________________________________________________________________\n",
            "dropout_24 (Dropout)         (None, 6, 6, 64)          0         \n",
            "_________________________________________________________________\n",
            "flatten_7 (Flatten)          (None, 2304)              0         \n",
            "_________________________________________________________________\n",
            "dense_17 (Dense)             (None, 512)               1180160   \n",
            "_________________________________________________________________\n",
            "activation_46 (Activation)   (None, 512)               0         \n",
            "_________________________________________________________________\n",
            "dropout_25 (Dropout)         (None, 512)               0         \n",
            "_________________________________________________________________\n",
            "dense_18 (Dense)             (None, 10)                5130      \n",
            "_________________________________________________________________\n",
            "activation_47 (Activation)   (None, 10)                0         \n",
            "=================================================================\n",
            "Total params: 1,250,858\n",
            "Trainable params: 1,250,858\n",
            "Non-trainable params: 0\n",
            "_________________________________________________________________\n",
            "Epoch 1/10\n",
            "391/391 [==============================] - 4s 8ms/step - loss: 1.9773 - accuracy: 0.2749 - val_loss: 1.3083 - val_accuracy: 0.5289\n",
            "Epoch 2/10\n",
            "391/391 [==============================] - 3s 8ms/step - loss: 1.3554 - accuracy: 0.5171 - val_loss: 1.1346 - val_accuracy: 0.5973\n",
            "Epoch 3/10\n",
            "391/391 [==============================] - 3s 8ms/step - loss: 1.1352 - accuracy: 0.6006 - val_loss: 0.9456 - val_accuracy: 0.6697\n",
            "Epoch 4/10\n",
            "391/391 [==============================] - 3s 8ms/step - loss: 0.9866 - accuracy: 0.6514 - val_loss: 0.8756 - val_accuracy: 0.6940\n",
            "Epoch 5/10\n",
            "391/391 [==============================] - 3s 8ms/step - loss: 0.8871 - accuracy: 0.6923 - val_loss: 0.8934 - val_accuracy: 0.6920\n",
            "Epoch 6/10\n",
            "391/391 [==============================] - 3s 8ms/step - loss: 0.8168 - accuracy: 0.7185 - val_loss: 0.8695 - val_accuracy: 0.7024\n",
            "Epoch 7/10\n",
            "391/391 [==============================] - 3s 8ms/step - loss: 0.7552 - accuracy: 0.7382 - val_loss: 0.7485 - val_accuracy: 0.7484\n",
            "Epoch 8/10\n",
            "391/391 [==============================] - 3s 8ms/step - loss: 0.7125 - accuracy: 0.7524 - val_loss: 0.8238 - val_accuracy: 0.7305\n",
            "Epoch 9/10\n",
            "391/391 [==============================] - 3s 8ms/step - loss: 0.6909 - accuracy: 0.7609 - val_loss: 0.7469 - val_accuracy: 0.7504\n",
            "Epoch 10/10\n",
            "391/391 [==============================] - 3s 8ms/step - loss: 0.6574 - accuracy: 0.7746 - val_loss: 0.7134 - val_accuracy: 0.7635\n",
            "now using optimizer: Adam\n",
            "Model: \"sequential_9\"\n",
            "_________________________________________________________________\n",
            "Layer (type)                 Output Shape              Param #   \n",
            "=================================================================\n",
            "conv2d_32 (Conv2D)           (None, 32, 32, 32)        896       \n",
            "_________________________________________________________________\n",
            "activation_48 (Activation)   (None, 32, 32, 32)        0         \n",
            "_________________________________________________________________\n",
            "conv2d_33 (Conv2D)           (None, 30, 30, 32)        9248      \n",
            "_________________________________________________________________\n",
            "activation_49 (Activation)   (None, 30, 30, 32)        0         \n",
            "_________________________________________________________________\n",
            "max_pooling2d_16 (MaxPooling (None, 15, 15, 32)        0         \n",
            "_________________________________________________________________\n",
            "dropout_26 (Dropout)         (None, 15, 15, 32)        0         \n",
            "_________________________________________________________________\n",
            "conv2d_34 (Conv2D)           (None, 15, 15, 64)        18496     \n",
            "_________________________________________________________________\n",
            "activation_50 (Activation)   (None, 15, 15, 64)        0         \n",
            "_________________________________________________________________\n",
            "conv2d_35 (Conv2D)           (None, 13, 13, 64)        36928     \n",
            "_________________________________________________________________\n",
            "activation_51 (Activation)   (None, 13, 13, 64)        0         \n",
            "_________________________________________________________________\n",
            "max_pooling2d_17 (MaxPooling (None, 6, 6, 64)          0         \n",
            "_________________________________________________________________\n",
            "dropout_27 (Dropout)         (None, 6, 6, 64)          0         \n",
            "_________________________________________________________________\n",
            "flatten_8 (Flatten)          (None, 2304)              0         \n",
            "_________________________________________________________________\n",
            "dense_19 (Dense)             (None, 512)               1180160   \n",
            "_________________________________________________________________\n",
            "activation_52 (Activation)   (None, 512)               0         \n",
            "_________________________________________________________________\n",
            "dropout_28 (Dropout)         (None, 512)               0         \n",
            "_________________________________________________________________\n",
            "dense_20 (Dense)             (None, 10)                5130      \n",
            "_________________________________________________________________\n",
            "activation_53 (Activation)   (None, 10)                0         \n",
            "=================================================================\n",
            "Total params: 1,250,858\n",
            "Trainable params: 1,250,858\n",
            "Non-trainable params: 0\n",
            "_________________________________________________________________\n",
            "Epoch 1/10\n",
            "391/391 [==============================] - 4s 9ms/step - loss: 1.8650 - accuracy: 0.3060 - val_loss: 1.2239 - val_accuracy: 0.5693\n",
            "Epoch 2/10\n",
            "391/391 [==============================] - 3s 8ms/step - loss: 1.2238 - accuracy: 0.5631 - val_loss: 0.9808 - val_accuracy: 0.6564\n",
            "Epoch 3/10\n",
            "391/391 [==============================] - 3s 8ms/step - loss: 1.0154 - accuracy: 0.6426 - val_loss: 0.8551 - val_accuracy: 0.7036\n",
            "Epoch 4/10\n",
            "391/391 [==============================] - 3s 8ms/step - loss: 0.8876 - accuracy: 0.6872 - val_loss: 0.8200 - val_accuracy: 0.7133\n",
            "Epoch 5/10\n",
            "391/391 [==============================] - 3s 8ms/step - loss: 0.8009 - accuracy: 0.7215 - val_loss: 0.7643 - val_accuracy: 0.7335\n",
            "Epoch 6/10\n",
            "391/391 [==============================] - 3s 8ms/step - loss: 0.7361 - accuracy: 0.7411 - val_loss: 0.7104 - val_accuracy: 0.7505\n",
            "Epoch 7/10\n",
            "391/391 [==============================] - 3s 8ms/step - loss: 0.6745 - accuracy: 0.7593 - val_loss: 0.6870 - val_accuracy: 0.7667\n",
            "Epoch 8/10\n",
            "391/391 [==============================] - 3s 8ms/step - loss: 0.6534 - accuracy: 0.7706 - val_loss: 0.6590 - val_accuracy: 0.7706\n",
            "Epoch 9/10\n",
            "391/391 [==============================] - 3s 8ms/step - loss: 0.6010 - accuracy: 0.7897 - val_loss: 0.6571 - val_accuracy: 0.7711\n",
            "Epoch 10/10\n",
            "391/391 [==============================] - 3s 8ms/step - loss: 0.5702 - accuracy: 0.7997 - val_loss: 0.6629 - val_accuracy: 0.7740\n",
            "now using optimizer: Adagrad\n",
            "Model: \"sequential_10\"\n",
            "_________________________________________________________________\n",
            "Layer (type)                 Output Shape              Param #   \n",
            "=================================================================\n",
            "conv2d_36 (Conv2D)           (None, 32, 32, 32)        896       \n",
            "_________________________________________________________________\n",
            "activation_54 (Activation)   (None, 32, 32, 32)        0         \n",
            "_________________________________________________________________\n",
            "conv2d_37 (Conv2D)           (None, 30, 30, 32)        9248      \n",
            "_________________________________________________________________\n",
            "activation_55 (Activation)   (None, 30, 30, 32)        0         \n",
            "_________________________________________________________________\n",
            "max_pooling2d_18 (MaxPooling (None, 15, 15, 32)        0         \n",
            "_________________________________________________________________\n",
            "dropout_29 (Dropout)         (None, 15, 15, 32)        0         \n",
            "_________________________________________________________________\n",
            "conv2d_38 (Conv2D)           (None, 15, 15, 64)        18496     \n",
            "_________________________________________________________________\n",
            "activation_56 (Activation)   (None, 15, 15, 64)        0         \n",
            "_________________________________________________________________\n",
            "conv2d_39 (Conv2D)           (None, 13, 13, 64)        36928     \n",
            "_________________________________________________________________\n",
            "activation_57 (Activation)   (None, 13, 13, 64)        0         \n",
            "_________________________________________________________________\n",
            "max_pooling2d_19 (MaxPooling (None, 6, 6, 64)          0         \n",
            "_________________________________________________________________\n",
            "dropout_30 (Dropout)         (None, 6, 6, 64)          0         \n",
            "_________________________________________________________________\n",
            "flatten_9 (Flatten)          (None, 2304)              0         \n",
            "_________________________________________________________________\n",
            "dense_21 (Dense)             (None, 512)               1180160   \n",
            "_________________________________________________________________\n",
            "activation_58 (Activation)   (None, 512)               0         \n",
            "_________________________________________________________________\n",
            "dropout_31 (Dropout)         (None, 512)               0         \n",
            "_________________________________________________________________\n",
            "dense_22 (Dense)             (None, 10)                5130      \n",
            "_________________________________________________________________\n",
            "activation_59 (Activation)   (None, 10)                0         \n",
            "=================================================================\n",
            "Total params: 1,250,858\n",
            "Trainable params: 1,250,858\n",
            "Non-trainable params: 0\n",
            "_________________________________________________________________\n",
            "Epoch 1/10\n",
            "391/391 [==============================] - 4s 8ms/step - loss: 2.3045 - accuracy: 0.1056 - val_loss: 2.2896 - val_accuracy: 0.1205\n",
            "Epoch 2/10\n",
            "391/391 [==============================] - 3s 8ms/step - loss: 2.2873 - accuracy: 0.1264 - val_loss: 2.2575 - val_accuracy: 0.1548\n",
            "Epoch 3/10\n",
            "391/391 [==============================] - 3s 8ms/step - loss: 2.2425 - accuracy: 0.1589 - val_loss: 2.1483 - val_accuracy: 0.2197\n",
            "Epoch 4/10\n",
            "391/391 [==============================] - 3s 8ms/step - loss: 2.1372 - accuracy: 0.1956 - val_loss: 2.0409 - val_accuracy: 0.2593\n",
            "Epoch 5/10\n",
            "391/391 [==============================] - 3s 8ms/step - loss: 2.0676 - accuracy: 0.2245 - val_loss: 2.0034 - val_accuracy: 0.2720\n",
            "Epoch 6/10\n",
            "391/391 [==============================] - 3s 8ms/step - loss: 2.0310 - accuracy: 0.2457 - val_loss: 1.9726 - val_accuracy: 0.2835\n",
            "Epoch 7/10\n",
            "391/391 [==============================] - 3s 8ms/step - loss: 2.0062 - accuracy: 0.2584 - val_loss: 1.9413 - val_accuracy: 0.2959\n",
            "Epoch 8/10\n",
            "391/391 [==============================] - 3s 8ms/step - loss: 1.9776 - accuracy: 0.2710 - val_loss: 1.9138 - val_accuracy: 0.3158\n",
            "Epoch 9/10\n",
            "391/391 [==============================] - 3s 8ms/step - loss: 1.9536 - accuracy: 0.2838 - val_loss: 1.8822 - val_accuracy: 0.3282\n",
            "Epoch 10/10\n",
            "391/391 [==============================] - 3s 8ms/step - loss: 1.9204 - accuracy: 0.2981 - val_loss: 1.8491 - val_accuracy: 0.3482\n",
            "now using optimizer: Adadelta\n",
            "Model: \"sequential_11\"\n",
            "_________________________________________________________________\n",
            "Layer (type)                 Output Shape              Param #   \n",
            "=================================================================\n",
            "conv2d_40 (Conv2D)           (None, 32, 32, 32)        896       \n",
            "_________________________________________________________________\n",
            "activation_60 (Activation)   (None, 32, 32, 32)        0         \n",
            "_________________________________________________________________\n",
            "conv2d_41 (Conv2D)           (None, 30, 30, 32)        9248      \n",
            "_________________________________________________________________\n",
            "activation_61 (Activation)   (None, 30, 30, 32)        0         \n",
            "_________________________________________________________________\n",
            "max_pooling2d_20 (MaxPooling (None, 15, 15, 32)        0         \n",
            "_________________________________________________________________\n",
            "dropout_32 (Dropout)         (None, 15, 15, 32)        0         \n",
            "_________________________________________________________________\n",
            "conv2d_42 (Conv2D)           (None, 15, 15, 64)        18496     \n",
            "_________________________________________________________________\n",
            "activation_62 (Activation)   (None, 15, 15, 64)        0         \n",
            "_________________________________________________________________\n",
            "conv2d_43 (Conv2D)           (None, 13, 13, 64)        36928     \n",
            "_________________________________________________________________\n",
            "activation_63 (Activation)   (None, 13, 13, 64)        0         \n",
            "_________________________________________________________________\n",
            "max_pooling2d_21 (MaxPooling (None, 6, 6, 64)          0         \n",
            "_________________________________________________________________\n",
            "dropout_33 (Dropout)         (None, 6, 6, 64)          0         \n",
            "_________________________________________________________________\n",
            "flatten_10 (Flatten)         (None, 2304)              0         \n",
            "_________________________________________________________________\n",
            "dense_23 (Dense)             (None, 512)               1180160   \n",
            "_________________________________________________________________\n",
            "activation_64 (Activation)   (None, 512)               0         \n",
            "_________________________________________________________________\n",
            "dropout_34 (Dropout)         (None, 512)               0         \n",
            "_________________________________________________________________\n",
            "dense_24 (Dense)             (None, 10)                5130      \n",
            "_________________________________________________________________\n",
            "activation_65 (Activation)   (None, 10)                0         \n",
            "=================================================================\n",
            "Total params: 1,250,858\n",
            "Trainable params: 1,250,858\n",
            "Non-trainable params: 0\n",
            "_________________________________________________________________\n",
            "Epoch 1/10\n",
            "391/391 [==============================] - 4s 8ms/step - loss: 2.3075 - accuracy: 0.1035 - val_loss: 2.2996 - val_accuracy: 0.1088\n",
            "Epoch 2/10\n",
            "391/391 [==============================] - 3s 8ms/step - loss: 2.3040 - accuracy: 0.1048 - val_loss: 2.2975 - val_accuracy: 0.1195\n",
            "Epoch 3/10\n",
            "391/391 [==============================] - 3s 8ms/step - loss: 2.2994 - accuracy: 0.1117 - val_loss: 2.2956 - val_accuracy: 0.1197\n",
            "Epoch 4/10\n",
            "391/391 [==============================] - 3s 8ms/step - loss: 2.2964 - accuracy: 0.1152 - val_loss: 2.2937 - val_accuracy: 0.1195\n",
            "Epoch 5/10\n",
            "391/391 [==============================] - 3s 8ms/step - loss: 2.2949 - accuracy: 0.1150 - val_loss: 2.2916 - val_accuracy: 0.1193\n",
            "Epoch 6/10\n",
            "391/391 [==============================] - 3s 8ms/step - loss: 2.2924 - accuracy: 0.1233 - val_loss: 2.2891 - val_accuracy: 0.1237\n",
            "Epoch 7/10\n",
            "391/391 [==============================] - 3s 8ms/step - loss: 2.2897 - accuracy: 0.1249 - val_loss: 2.2863 - val_accuracy: 0.1287\n",
            "Epoch 8/10\n",
            "391/391 [==============================] - 3s 8ms/step - loss: 2.2876 - accuracy: 0.1236 - val_loss: 2.2830 - val_accuracy: 0.1320\n",
            "Epoch 9/10\n",
            "391/391 [==============================] - 3s 8ms/step - loss: 2.2840 - accuracy: 0.1352 - val_loss: 2.2791 - val_accuracy: 0.1376\n",
            "Epoch 10/10\n",
            "391/391 [==============================] - 3s 8ms/step - loss: 2.2808 - accuracy: 0.1304 - val_loss: 2.2746 - val_accuracy: 0.1461\n"
          ],
          "name": "stdout"
        }
      ]
    },
    {
      "cell_type": "code",
      "metadata": {
        "colab": {
          "base_uri": "https://localhost:8080/"
        },
        "id": "xSXhEFYVYDWW",
        "outputId": "a1715234-f1bc-4fb6-e706-50ce8a7cfa40"
      },
      "source": [
        "print(results)"
      ],
      "execution_count": 34,
      "outputs": [
        {
          "output_type": "stream",
          "text": [
            "{'exp-RMS': {'train-loss': [1.7354007959365845, 1.2987178564071655, 1.1026147603988647, 0.970085859298706, 0.881984293460846, 0.8131866455078125, 0.7581232786178589, 0.7193552851676941, 0.6894628405570984, 0.6670442819595337], 'valid-loss': [1.3082510232925415, 1.1346300840377808, 0.9455505013465881, 0.8756008744239807, 0.8934277296066284, 0.8695392608642578, 0.7484707236289978, 0.8237526416778564, 0.7468999624252319, 0.7133815884590149], 'train-acc': [0.37314000725746155, 0.537559986114502, 0.6133599877357483, 0.6596599817276001, 0.6935799717903137, 0.7190399765968323, 0.7392799854278564, 0.7504400014877319, 0.7610200047492981, 0.7712600231170654], 'valid-acc': [0.5289000272750854, 0.5972999930381775, 0.669700026512146, 0.6940000057220459, 0.6919999718666077, 0.7024000287055969, 0.7483999729156494, 0.7304999828338623, 0.7504000067710876, 0.7634999752044678]}, 'exp-Adam': {'train-loss': [1.6069163084030151, 1.1705795526504517, 0.9932867288589478, 0.8761352896690369, 0.7946649789810181, 0.7362200021743774, 0.6858097910881042, 0.6483837962150574, 0.6092561483383179, 0.5782206654548645], 'valid-loss': [1.2238556146621704, 0.9807984232902527, 0.855078935623169, 0.8200183510780334, 0.7643219232559204, 0.7104131579399109, 0.6869991421699524, 0.6589826345443726, 0.6570886373519897, 0.6628586649894714], 'train-acc': [0.41058000922203064, 0.5824199914932251, 0.6498399972915649, 0.6931399703025818, 0.7220399975776672, 0.741159975528717, 0.7580999732017517, 0.772059977054596, 0.7851799726486206, 0.7960799932479858], 'valid-acc': [0.5692999958992004, 0.6564000248908997, 0.7035999894142151, 0.7132999897003174, 0.7335000038146973, 0.7505000233650208, 0.766700029373169, 0.7706000208854675, 0.7710999846458435, 0.7739999890327454]}, 'exp-Adagrad': {'train-loss': [2.3003995418548584, 2.279996633529663, 2.2213850021362305, 2.1160106658935547, 2.0561869144439697, 2.026751756668091, 2.0008385181427, 1.9717185497283936, 1.9439250230789185, 1.9165409803390503], 'valid-loss': [2.289607524871826, 2.257492780685425, 2.1482672691345215, 2.040858507156372, 2.0033934116363525, 1.9726269245147705, 1.9412521123886108, 1.9138318300247192, 1.8821560144424438, 1.8491443395614624], 'train-acc': [0.11110000312328339, 0.1349399983882904, 0.1689399927854538, 0.20175999402999878, 0.23343999683856964, 0.24925999343395233, 0.26146000623703003, 0.2755599915981293, 0.28766000270843506, 0.30184000730514526], 'valid-acc': [0.12049999833106995, 0.15479999780654907, 0.21969999372959137, 0.25929999351501465, 0.2720000147819519, 0.28349998593330383, 0.29589998722076416, 0.3158000111579895, 0.32820001244544983, 0.3481999933719635]}, 'exp-Adadelta': {'train-loss': [2.3056752681732178, 2.302555561065674, 2.2992401123046875, 2.2963597774505615, 2.294611930847168, 2.292203426361084, 2.2889468669891357, 2.28666353225708, 2.282388687133789, 2.279946804046631], 'valid-loss': [2.2996490001678467, 2.297534465789795, 2.2956364154815674, 2.293694496154785, 2.2915804386138916, 2.289149522781372, 2.286289930343628, 2.283046007156372, 2.2791056632995605, 2.2745625972747803], 'train-acc': [0.10553999990224838, 0.10701999813318253, 0.11262000352144241, 0.11537999659776688, 0.11766000092029572, 0.12337999790906906, 0.12544000148773193, 0.1261799931526184, 0.13476000726222992, 0.13172000646591187], 'valid-acc': [0.1088000014424324, 0.11949999630451202, 0.11969999969005585, 0.11949999630451202, 0.1193000003695488, 0.12370000034570694, 0.12870000302791595, 0.13199999928474426, 0.13760000467300415, 0.1460999995470047]}}\n"
          ],
          "name": "stdout"
        }
      ]
    },
    {
      "cell_type": "code",
      "metadata": {
        "colab": {
          "base_uri": "https://localhost:8080/",
          "height": 763
        },
        "id": "Mhd32BdCTBoA",
        "outputId": "acf7a86d-8047-4cf6-d35c-5bd7f6cf9839"
      },
      "source": [
        "import matplotlib.pyplot as plt\n",
        "import matplotlib.cm as mplcm\n",
        "import matplotlib.colors as colors\n",
        "%matplotlib inline\n",
        "NUM_COLORS = len(results.keys())\n",
        "\n",
        "cm = plt.get_cmap('gist_rainbow')\n",
        "cNorm  = colors.Normalize(vmin=0, vmax=NUM_COLORS-1)\n",
        "scalarMap = mplcm.ScalarMappable(norm=cNorm, cmap=cm)\n",
        "color_bar = [scalarMap.to_rgba(i) for i in range(NUM_COLORS)]\n",
        "\n",
        "plt.figure(figsize=(8,6))\n",
        "for i, cond in enumerate(results.keys()):\n",
        "\n",
        "  plt.plot(range(len(results[cond]['train-loss'])),results[cond]['train-loss'], '-', label=cond, color=color_bar[i])\n",
        "  plt.plot(range(len(results[cond]['valid-loss'])),results[cond]['valid-loss'], '--', label=cond, color=color_bar[i])\n",
        "plt.title(\"Loss\")\n",
        "plt.legend(loc='center left', bbox_to_anchor=(1, 0.5))\n",
        "plt.show()\n",
        "\n",
        "plt.figure(figsize=(8,6))\n",
        "for i, cond in enumerate(results.keys()):\n",
        "  plt.plot(range(len(results[cond]['train-acc'])),results[cond]['train-acc'], '-', label=cond, color=color_bar[i])\n",
        "  plt.plot(range(len(results[cond]['valid-acc'])),results[cond]['valid-acc'], '--', label=cond, color=color_bar[i])\n",
        "plt.title(\"Accuracy\")\n",
        "plt.legend(loc='center left', bbox_to_anchor=(1, 0.5))\n",
        "plt.show()"
      ],
      "execution_count": 46,
      "outputs": [
        {
          "output_type": "display_data",
          "data": {
            "image/png": "[encoded data removed]",
            "text/plain": [
              "<Figure size 576x432 with 1 Axes>"
            ]
          },
          "metadata": {
            "tags": [],
            "needs_background": "light"
          }
        },
        {
          "output_type": "display_data",
          "data": {
            "image/png": "[encoded data removed]",
            "text/plain": [
              "<Figure size 576x432 with 1 Axes>"
            ]
          },
          "metadata": {
            "tags": [],
            "needs_background": "light"
          }
        }
      ]
    }
  ]
}
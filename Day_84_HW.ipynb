{
  "nbformat": 4,
  "nbformat_minor": 0,
  "metadata": {
    "colab": {
      "name": "Day_84_HW",
      "provenance": [],
      "collapsed_sections": []
    },
    "kernelspec": {
      "name": "python3",
      "display_name": "Python 3"
    },
    "accelerator": "GPU"
  },
  "cells": [
    {
      "cell_type": "markdown",
      "metadata": {
        "id": "zP1LJhp6BbUN"
      },
      "source": [
        "## Work\n",
        "### 請結合前面的知識與程式碼，比較不同的 regularization 的組合對訓練的結果與影響：如 dropout, regularizers, batch-normalization 等"
      ]
    },
    {
      "cell_type": "code",
      "metadata": {
        "id": "ZnXFEIFJBAV9"
      },
      "source": [
        "import os\n",
        "import keras\n",
        "import itertools\n",
        "# Disable GPU\n",
        "os.environ[\"CUDA_VISIBLE_DEVICES\"] = \"0\""
      ],
      "execution_count": 2,
      "outputs": []
    },
    {
      "cell_type": "code",
      "metadata": {
        "colab": {
          "base_uri": "https://localhost:8080/"
        },
        "id": "izmfehcYBfEJ",
        "outputId": "f189cc64-2ab3-45d6-aab4-d9b8d4123dba"
      },
      "source": [
        "train, test = keras.datasets.cifar10.load_data()"
      ],
      "execution_count": 3,
      "outputs": [
        {
          "output_type": "stream",
          "text": [
            "Downloading data from https://www.cs.toronto.edu/~kriz/cifar-10-python.tar.gz\n",
            "170500096/170498071 [==============================] - 6s 0us/step\n"
          ],
          "name": "stdout"
        }
      ]
    },
    {
      "cell_type": "code",
      "metadata": {
        "id": "_wTi8RweBmpc"
      },
      "source": [
        "## 資料前處理\n",
        "def preproc_x(x, flatten=True):\n",
        "    x = x / 255.\n",
        "    if flatten:\n",
        "        x = x.reshape((len(x), -1))\n",
        "    return x\n",
        "\n",
        "def preproc_y(y, num_classes=10):\n",
        "    if y.shape[-1] == 1:\n",
        "        y = keras.utils.to_categorical(y, num_classes)\n",
        "    return y    "
      ],
      "execution_count": 4,
      "outputs": []
    },
    {
      "cell_type": "code",
      "metadata": {
        "id": "nhoyiumzBoVm"
      },
      "source": [
        "x_train, y_train = train\n",
        "x_test, y_test = test\n",
        "\n",
        "# Preproc the inputs\n",
        "x_train = preproc_x(x_train)\n",
        "x_test = preproc_x(x_test)\n",
        "\n",
        "# Preprc the outputs\n",
        "y_train = preproc_y(y_train)\n",
        "y_test = preproc_y(y_test)"
      ],
      "execution_count": 5,
      "outputs": []
    },
    {
      "cell_type": "code",
      "metadata": {
        "id": "Fu--E5biBpbq"
      },
      "source": [
        "from keras.layers import BatchNormalization, Dropout\n",
        "from keras.regularizers import l2\n",
        "\n",
        "\"\"\"\n",
        "建立神經網路，並加入 BN layer\n",
        "\"\"\"\n",
        "def build_mlp(input_shape, output_units=10, num_neurons=[512, 256, 128], l2_ratio=1e-4, drp_ratio = 0.25):\n",
        "    input_layer = keras.layers.Input(input_shape)\n",
        "    \n",
        "    for i, n_units in enumerate(num_neurons):\n",
        "        if i == 0:\n",
        "            x = keras.layers.Dense(units=n_units, \n",
        "                                   activation=\"relu\", \n",
        "                                   kernel_regularizer=l2(l2_ratio),\n",
        "                                   name=\"hidden_layer\"+str(i+1)\n",
        "                                   )(input_layer)\n",
        "\n",
        "            x = Dropout(drp_ratio)(x)\n",
        "        else:\n",
        "            x = keras.layers.Dense(units=n_units, \n",
        "                                   activation=\"relu\",\n",
        "                                   kernel_regularizer=l2(l2_ratio), \n",
        "                                   name=\"hidden_layer\"+str(i+1))(x)\n",
        "\n",
        "            x = BatchNormalization()(x)\n",
        "            x = Dropout(drp_ratio)(x)\n",
        "    \n",
        "    out = keras.layers.Dense(units=output_units, activation=\"softmax\", name=\"output\")(x)\n",
        "    \n",
        "    model = keras.models.Model(inputs=[input_layer], outputs=[out])\n",
        "    return model"
      ],
      "execution_count": 34,
      "outputs": []
    },
    {
      "cell_type": "code",
      "metadata": {
        "id": "S0IZYJJJCuHV"
      },
      "source": [
        "## 超參數設定\n",
        "LEARNING_RATE = 1e-3\n",
        "EPOCHS = 50\n",
        "BATCH_SIZE = 64\n",
        "MOMENTUM = 0.95"
      ],
      "execution_count": 35,
      "outputs": []
    },
    {
      "cell_type": "code",
      "metadata": {
        "colab": {
          "base_uri": "https://localhost:8080/"
        },
        "id": "fj-yxeFiCylu",
        "outputId": "6febe7a6-6d4f-4320-e7e3-cc1b8b07ccf9"
      },
      "source": [
        "model = build_mlp(input_shape=x_train.shape[1:])\n",
        "model.summary()\n",
        "optimizer = keras.optimizers.SGD(lr=LEARNING_RATE, nesterov=True, momentum=MOMENTUM)\n",
        "model.compile(loss=\"categorical_crossentropy\", metrics=[\"accuracy\"], optimizer=optimizer)\n",
        "\n",
        "model.fit(x_train, y_train, \n",
        "          epochs=EPOCHS, \n",
        "          batch_size=BATCH_SIZE, \n",
        "          validation_data=(x_test, y_test), \n",
        "          shuffle=True)\n",
        "\n",
        "# Collect results\n",
        "train_loss = model.history.history[\"loss\"]\n",
        "valid_loss = model.history.history[\"val_loss\"]\n",
        "train_acc = model.history.history[\"accuracy\"]\n",
        "valid_acc = model.history.history[\"val_accuracy\"]\n"
      ],
      "execution_count": 36,
      "outputs": [
        {
          "output_type": "stream",
          "text": [
            "Model: \"model_6\"\n",
            "_________________________________________________________________\n",
            "Layer (type)                 Output Shape              Param #   \n",
            "=================================================================\n",
            "input_8 (InputLayer)         [(None, 3072)]            0         \n",
            "_________________________________________________________________\n",
            "hidden_layer1 (Dense)        (None, 512)               1573376   \n",
            "_________________________________________________________________\n",
            "dropout_6 (Dropout)          (None, 512)               0         \n",
            "_________________________________________________________________\n",
            "hidden_layer2 (Dense)        (None, 256)               131328    \n",
            "_________________________________________________________________\n",
            "batch_normalization_19 (Batc (None, 256)               1024      \n",
            "_________________________________________________________________\n",
            "dropout_7 (Dropout)          (None, 256)               0         \n",
            "_________________________________________________________________\n",
            "hidden_layer3 (Dense)        (None, 128)               32896     \n",
            "_________________________________________________________________\n",
            "batch_normalization_20 (Batc (None, 128)               512       \n",
            "_________________________________________________________________\n",
            "dropout_8 (Dropout)          (None, 128)               0         \n",
            "_________________________________________________________________\n",
            "output (Dense)               (None, 10)                1290      \n",
            "=================================================================\n",
            "Total params: 1,740,426\n",
            "Trainable params: 1,739,658\n",
            "Non-trainable params: 768\n",
            "_________________________________________________________________\n",
            "Epoch 1/50\n",
            "782/782 [==============================] - 7s 7ms/step - loss: 2.6039 - accuracy: 0.1900 - val_loss: 1.9482 - val_accuracy: 0.3473\n",
            "Epoch 2/50\n",
            "782/782 [==============================] - 5s 7ms/step - loss: 2.0129 - accuracy: 0.3219 - val_loss: 1.8705 - val_accuracy: 0.3723\n",
            "Epoch 3/50\n",
            "782/782 [==============================] - 5s 7ms/step - loss: 1.9248 - accuracy: 0.3518 - val_loss: 1.7636 - val_accuracy: 0.4191\n",
            "Epoch 4/50\n",
            "782/782 [==============================] - 5s 7ms/step - loss: 1.8639 - accuracy: 0.3750 - val_loss: 1.7284 - val_accuracy: 0.4284\n",
            "Epoch 5/50\n",
            "782/782 [==============================] - 5s 7ms/step - loss: 1.8238 - accuracy: 0.3956 - val_loss: 1.7032 - val_accuracy: 0.4389\n",
            "Epoch 6/50\n",
            "782/782 [==============================] - 5s 7ms/step - loss: 1.7924 - accuracy: 0.4066 - val_loss: 1.7112 - val_accuracy: 0.4325\n",
            "Epoch 7/50\n",
            "782/782 [==============================] - 5s 7ms/step - loss: 1.7690 - accuracy: 0.4145 - val_loss: 1.6674 - val_accuracy: 0.4492\n",
            "Epoch 8/50\n",
            "782/782 [==============================] - 5s 7ms/step - loss: 1.7521 - accuracy: 0.4204 - val_loss: 1.6267 - val_accuracy: 0.4641\n",
            "Epoch 9/50\n",
            "782/782 [==============================] - 5s 7ms/step - loss: 1.7299 - accuracy: 0.4296 - val_loss: 1.6389 - val_accuracy: 0.4545\n",
            "Epoch 10/50\n",
            "782/782 [==============================] - 5s 7ms/step - loss: 1.7086 - accuracy: 0.4355 - val_loss: 1.6214 - val_accuracy: 0.4688\n",
            "Epoch 11/50\n",
            "782/782 [==============================] - 5s 7ms/step - loss: 1.6971 - accuracy: 0.4392 - val_loss: 1.5891 - val_accuracy: 0.4756\n",
            "Epoch 12/50\n",
            "782/782 [==============================] - 5s 7ms/step - loss: 1.6753 - accuracy: 0.4447 - val_loss: 1.5711 - val_accuracy: 0.4838\n",
            "Epoch 13/50\n",
            "782/782 [==============================] - 5s 7ms/step - loss: 1.6517 - accuracy: 0.4515 - val_loss: 1.5756 - val_accuracy: 0.4805\n",
            "Epoch 14/50\n",
            "782/782 [==============================] - 5s 7ms/step - loss: 1.6527 - accuracy: 0.4541 - val_loss: 1.5964 - val_accuracy: 0.4723\n",
            "Epoch 15/50\n",
            "782/782 [==============================] - 5s 7ms/step - loss: 1.6292 - accuracy: 0.4633 - val_loss: 1.5692 - val_accuracy: 0.4820\n",
            "Epoch 16/50\n",
            "782/782 [==============================] - 5s 7ms/step - loss: 1.6120 - accuracy: 0.4702 - val_loss: 1.5347 - val_accuracy: 0.4996\n",
            "Epoch 17/50\n",
            "782/782 [==============================] - 5s 7ms/step - loss: 1.6102 - accuracy: 0.4717 - val_loss: 1.5714 - val_accuracy: 0.4806\n",
            "Epoch 18/50\n",
            "782/782 [==============================] - 5s 7ms/step - loss: 1.6034 - accuracy: 0.4776 - val_loss: 1.5445 - val_accuracy: 0.4904\n",
            "Epoch 19/50\n",
            "782/782 [==============================] - 5s 7ms/step - loss: 1.5929 - accuracy: 0.4766 - val_loss: 1.5356 - val_accuracy: 0.4931\n",
            "Epoch 20/50\n",
            "782/782 [==============================] - 5s 7ms/step - loss: 1.5841 - accuracy: 0.4780 - val_loss: 1.5212 - val_accuracy: 0.4958\n",
            "Epoch 21/50\n",
            "782/782 [==============================] - 5s 7ms/step - loss: 1.5672 - accuracy: 0.4852 - val_loss: 1.5031 - val_accuracy: 0.5055\n",
            "Epoch 22/50\n",
            "782/782 [==============================] - 5s 7ms/step - loss: 1.5596 - accuracy: 0.4878 - val_loss: 1.5059 - val_accuracy: 0.5034\n",
            "Epoch 23/50\n",
            "782/782 [==============================] - 6s 7ms/step - loss: 1.5536 - accuracy: 0.4905 - val_loss: 1.5281 - val_accuracy: 0.4922\n",
            "Epoch 24/50\n",
            "782/782 [==============================] - 5s 7ms/step - loss: 1.5334 - accuracy: 0.4969 - val_loss: 1.5161 - val_accuracy: 0.4986\n",
            "Epoch 25/50\n",
            "782/782 [==============================] - 5s 7ms/step - loss: 1.5391 - accuracy: 0.4953 - val_loss: 1.4894 - val_accuracy: 0.5120\n",
            "Epoch 26/50\n",
            "782/782 [==============================] - 5s 7ms/step - loss: 1.5243 - accuracy: 0.4972 - val_loss: 1.4890 - val_accuracy: 0.5119\n",
            "Epoch 27/50\n",
            "782/782 [==============================] - 5s 7ms/step - loss: 1.5207 - accuracy: 0.5000 - val_loss: 1.5014 - val_accuracy: 0.5032\n",
            "Epoch 28/50\n",
            "782/782 [==============================] - 5s 7ms/step - loss: 1.5129 - accuracy: 0.5036 - val_loss: 1.4798 - val_accuracy: 0.5153\n",
            "Epoch 29/50\n",
            "782/782 [==============================] - 5s 7ms/step - loss: 1.5003 - accuracy: 0.5042 - val_loss: 1.4775 - val_accuracy: 0.5080\n",
            "Epoch 30/50\n",
            "782/782 [==============================] - 5s 7ms/step - loss: 1.4967 - accuracy: 0.5085 - val_loss: 1.4776 - val_accuracy: 0.5109\n",
            "Epoch 31/50\n",
            "782/782 [==============================] - 5s 7ms/step - loss: 1.4870 - accuracy: 0.5100 - val_loss: 1.4916 - val_accuracy: 0.5098\n",
            "Epoch 32/50\n",
            "782/782 [==============================] - 5s 7ms/step - loss: 1.4814 - accuracy: 0.5118 - val_loss: 1.4680 - val_accuracy: 0.5211\n",
            "Epoch 33/50\n",
            "782/782 [==============================] - 5s 7ms/step - loss: 1.4815 - accuracy: 0.5143 - val_loss: 1.4593 - val_accuracy: 0.5188\n",
            "Epoch 34/50\n",
            "782/782 [==============================] - 5s 7ms/step - loss: 1.4701 - accuracy: 0.5209 - val_loss: 1.4575 - val_accuracy: 0.5198\n",
            "Epoch 35/50\n",
            "782/782 [==============================] - 5s 7ms/step - loss: 1.4691 - accuracy: 0.5185 - val_loss: 1.4515 - val_accuracy: 0.5226\n",
            "Epoch 36/50\n",
            "782/782 [==============================] - 5s 7ms/step - loss: 1.4595 - accuracy: 0.5227 - val_loss: 1.4701 - val_accuracy: 0.5159\n",
            "Epoch 37/50\n",
            "782/782 [==============================] - 5s 7ms/step - loss: 1.4467 - accuracy: 0.5263 - val_loss: 1.4364 - val_accuracy: 0.5273\n",
            "Epoch 38/50\n",
            "782/782 [==============================] - 5s 7ms/step - loss: 1.4615 - accuracy: 0.5243 - val_loss: 1.4425 - val_accuracy: 0.5275\n",
            "Epoch 39/50\n",
            "782/782 [==============================] - 5s 7ms/step - loss: 1.4493 - accuracy: 0.5259 - val_loss: 1.4848 - val_accuracy: 0.5176\n",
            "Epoch 40/50\n",
            "782/782 [==============================] - 5s 7ms/step - loss: 1.4379 - accuracy: 0.5280 - val_loss: 1.4261 - val_accuracy: 0.5358\n",
            "Epoch 41/50\n",
            "782/782 [==============================] - 5s 7ms/step - loss: 1.4228 - accuracy: 0.5380 - val_loss: 1.4351 - val_accuracy: 0.5325\n",
            "Epoch 42/50\n",
            "782/782 [==============================] - 5s 7ms/step - loss: 1.4131 - accuracy: 0.5361 - val_loss: 1.4257 - val_accuracy: 0.5387\n",
            "Epoch 43/50\n",
            "782/782 [==============================] - 5s 7ms/step - loss: 1.4209 - accuracy: 0.5340 - val_loss: 1.4494 - val_accuracy: 0.5288\n",
            "Epoch 44/50\n",
            "782/782 [==============================] - 5s 7ms/step - loss: 1.4139 - accuracy: 0.5379 - val_loss: 1.4300 - val_accuracy: 0.5267\n",
            "Epoch 45/50\n",
            "782/782 [==============================] - 5s 7ms/step - loss: 1.4078 - accuracy: 0.5432 - val_loss: 1.4833 - val_accuracy: 0.5105\n",
            "Epoch 46/50\n",
            "782/782 [==============================] - 5s 7ms/step - loss: 1.4077 - accuracy: 0.5428 - val_loss: 1.4587 - val_accuracy: 0.5260\n",
            "Epoch 47/50\n",
            "782/782 [==============================] - 5s 7ms/step - loss: 1.4045 - accuracy: 0.5433 - val_loss: 1.4330 - val_accuracy: 0.5275\n",
            "Epoch 48/50\n",
            "782/782 [==============================] - 5s 7ms/step - loss: 1.3987 - accuracy: 0.5445 - val_loss: 1.4370 - val_accuracy: 0.5246\n",
            "Epoch 49/50\n",
            "782/782 [==============================] - 5s 7ms/step - loss: 1.3826 - accuracy: 0.5480 - val_loss: 1.4304 - val_accuracy: 0.5309\n",
            "Epoch 50/50\n",
            "782/782 [==============================] - 5s 7ms/step - loss: 1.3789 - accuracy: 0.5522 - val_loss: 1.4365 - val_accuracy: 0.5281\n"
          ],
          "name": "stdout"
        }
      ]
    },
    {
      "cell_type": "code",
      "metadata": {
        "colab": {
          "base_uri": "https://localhost:8080/",
          "height": 545
        },
        "id": "80wQpWjmE0nx",
        "outputId": "c1f06885-1c04-4510-9d6e-34d5d18e3990"
      },
      "source": [
        "import matplotlib.pyplot as plt\n",
        "\n",
        "plt.plot(range(len(train_loss)), train_loss, label=\"train loss\")\n",
        "plt.plot(range(len(valid_loss)), valid_loss, label=\"valid loss\")\n",
        "plt.legend()\n",
        "plt.title(\"Loss\")\n",
        "plt.show()\n",
        "\n",
        "plt.plot(range(len(train_acc)), train_acc, label=\"train accuracy\")\n",
        "plt.plot(range(len(valid_acc)), valid_acc, label=\"valid accuracy\")\n",
        "plt.legend()\n",
        "plt.title(\"Accuracy\")\n",
        "plt.show()"
      ],
      "execution_count": 38,
      "outputs": [
        {
          "output_type": "display_data",
          "data": {
            "image/png": "[encoded data removed]",
            "text/plain": [
              "<Figure size 432x288 with 1 Axes>"
            ]
          },
          "metadata": {
            "tags": [],
            "needs_background": "light"
          }
        },
        {
          "output_type": "display_data",
          "data": {
            "image/png": "[encoded data removed]",
            "text/plain": [
              "<Figure size 432x288 with 1 Axes>"
            ]
          },
          "metadata": {
            "tags": [],
            "needs_background": "light"
          }
        }
      ]
    }
  ]
}
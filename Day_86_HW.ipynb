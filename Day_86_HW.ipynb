{
  "nbformat": 4,
  "nbformat_minor": 0,
  "metadata": {
    "colab": {
      "name": "Day_86_HW",
      "provenance": [],
      "collapsed_sections": []
    },
    "kernelspec": {
      "name": "python3",
      "display_name": "Python 3"
    },
    "accelerator": "GPU"
  },
  "cells": [
    {
      "cell_type": "markdown",
      "metadata": {
        "id": "ssvfIa-8UwWI"
      },
      "source": [
        "## Work\n",
        "1. 試比較 save_best_only 與否的差異\n",
        "2. 請僅存入將 save_weights_only 設定為 True, 並嘗試 reset ipynb 並將模型與權重重新建回並預測 x_test"
      ]
    },
    {
      "cell_type": "code",
      "metadata": {
        "id": "wxqsEfbRUi0L"
      },
      "source": [
        "import os\n",
        "import keras\n",
        "\n",
        "# Disable GPU\n",
        "os.environ[\"CUDA_VISIBLE_DEVICES\"] = \"0\""
      ],
      "execution_count": 1,
      "outputs": []
    },
    {
      "cell_type": "code",
      "metadata": {
        "colab": {
          "base_uri": "https://localhost:8080/"
        },
        "id": "CvyUo0WlUwJP",
        "outputId": "8d211f42-49f1-4b44-dabf-9464761d806d"
      },
      "source": [
        "train, test = keras.datasets.cifar10.load_data()"
      ],
      "execution_count": 2,
      "outputs": [
        {
          "output_type": "stream",
          "text": [
            "Downloading data from https://www.cs.toronto.edu/~kriz/cifar-10-python.tar.gz\n",
            "170500096/170498071 [==============================] - 6s 0us/step\n"
          ],
          "name": "stdout"
        }
      ]
    },
    {
      "cell_type": "code",
      "metadata": {
        "id": "d7kGRohDU3X1"
      },
      "source": [
        "## 資料前處理\n",
        "def preproc_x(x, flatten=True):\n",
        "    x = x / 255.\n",
        "    if flatten:\n",
        "        x = x.reshape((len(x), -1))\n",
        "    return x\n",
        "\n",
        "def preproc_y(y, num_classes=10):\n",
        "    if y.shape[-1] == 1:\n",
        "        y = keras.utils.to_categorical(y, num_classes)\n",
        "    return y    "
      ],
      "execution_count": 3,
      "outputs": []
    },
    {
      "cell_type": "code",
      "metadata": {
        "id": "EmVzRWeKU4NS"
      },
      "source": [
        "x_train, y_train = train\n",
        "x_test, y_test = test\n",
        "\n",
        "# Preproc the inputs\n",
        "x_train = preproc_x(x_train)\n",
        "x_test = preproc_x(x_test)\n",
        "\n",
        "# Preprc the outputs\n",
        "y_train = preproc_y(y_train)\n",
        "y_test = preproc_y(y_test)"
      ],
      "execution_count": 4,
      "outputs": []
    },
    {
      "cell_type": "code",
      "metadata": {
        "id": "4xxgfNz3U5KO"
      },
      "source": [
        "from keras.layers import BatchNormalization\n",
        "\n",
        "\"\"\"\n",
        "建立神經網路，並加入 BN layer\n",
        "\"\"\"\n",
        "def build_mlp(input_shape, output_units=10, num_neurons=[512, 256, 128]):\n",
        "    input_layer = keras.layers.Input(input_shape)\n",
        "    \n",
        "    for i, n_units in enumerate(num_neurons):\n",
        "        if i == 0:\n",
        "            x = keras.layers.Dense(units=n_units, \n",
        "                                   activation=\"relu\", \n",
        "                                   name=\"hidden_layer\"+str(i+1))(input_layer)\n",
        "            x = BatchNormalization()(x)\n",
        "        else:\n",
        "            x = keras.layers.Dense(units=n_units, \n",
        "                                   activation=\"relu\", \n",
        "                                   name=\"hidden_layer\"+str(i+1))(x)\n",
        "            x = BatchNormalization()(x)\n",
        "    \n",
        "    out = keras.layers.Dense(units=output_units, activation=\"softmax\", name=\"output\")(x)\n",
        "    \n",
        "    model = keras.models.Model(inputs=[input_layer], outputs=[out])\n",
        "    return model"
      ],
      "execution_count": 5,
      "outputs": []
    },
    {
      "cell_type": "code",
      "metadata": {
        "id": "RcTaIn-iU9co"
      },
      "source": [
        "## 超參數設定\n",
        "LEARNING_RATE = 1e-3\n",
        "EPOCHS = 50\n",
        "BATCH_SIZE = 1024\n",
        "MOMENTUM = 0.95"
      ],
      "execution_count": 6,
      "outputs": []
    },
    {
      "cell_type": "code",
      "metadata": {
        "id": "SczFswiNVAIA"
      },
      "source": [
        "\"\"\"\n",
        "# 載入 Callbacks, 並將監控目標設為 validation loss, 且只存最佳參數時的模型\n",
        "\"\"\"\n",
        "from keras.callbacks import ModelCheckpoint\n",
        "\n",
        "model_ckpt = ModelCheckpoint(filepath=\"./tmp.h5\", \n",
        "                             monitor=\"val_loss\", \n",
        "                             save_best_only=True,\n",
        "                             save_weights_only = True)"
      ],
      "execution_count": 7,
      "outputs": []
    },
    {
      "cell_type": "code",
      "metadata": {
        "colab": {
          "base_uri": "https://localhost:8080/"
        },
        "id": "8_cPpDxyVIPk",
        "outputId": "e3149470-1f90-45f0-fd1f-3a44757dc47b"
      },
      "source": [
        "model = build_mlp(input_shape=x_train.shape[1:])\n",
        "model.summary()\n",
        "optimizer = keras.optimizers.SGD(lr=LEARNING_RATE, nesterov=True, momentum=MOMENTUM)\n",
        "model.compile(loss=\"categorical_crossentropy\", metrics=[\"accuracy\"], optimizer=optimizer)\n",
        "\n",
        "model.fit(x_train, y_train, \n",
        "          epochs=EPOCHS, \n",
        "          batch_size=BATCH_SIZE, \n",
        "          validation_data=(x_test, y_test), \n",
        "          shuffle=True,\n",
        "          callbacks=[model_ckpt]\n",
        "         )\n",
        "\n",
        "# Collect results\n",
        "train_loss = model.history.history[\"loss\"]\n",
        "valid_loss = model.history.history[\"val_loss\"]\n",
        "train_acc = model.history.history[\"accuracy\"]\n",
        "valid_acc = model.history.history[\"val_accuracy\"]\n"
      ],
      "execution_count": 21,
      "outputs": [
        {
          "output_type": "stream",
          "text": [
            "Model: \"model_7\"\n",
            "_________________________________________________________________\n",
            "Layer (type)                 Output Shape              Param #   \n",
            "=================================================================\n",
            "input_8 (InputLayer)         [(None, 3072)]            0         \n",
            "_________________________________________________________________\n",
            "hidden_layer1 (Dense)        (None, 512)               1573376   \n",
            "_________________________________________________________________\n",
            "batch_normalization_21 (Batc (None, 512)               2048      \n",
            "_________________________________________________________________\n",
            "hidden_layer2 (Dense)        (None, 256)               131328    \n",
            "_________________________________________________________________\n",
            "batch_normalization_22 (Batc (None, 256)               1024      \n",
            "_________________________________________________________________\n",
            "hidden_layer3 (Dense)        (None, 128)               32896     \n",
            "_________________________________________________________________\n",
            "batch_normalization_23 (Batc (None, 128)               512       \n",
            "_________________________________________________________________\n",
            "output (Dense)               (None, 10)                1290      \n",
            "=================================================================\n",
            "Total params: 1,742,474\n",
            "Trainable params: 1,740,682\n",
            "Non-trainable params: 1,792\n",
            "_________________________________________________________________\n",
            "Epoch 1/50\n",
            "49/49 [==============================] - 2s 24ms/step - loss: 2.4406 - accuracy: 0.2081 - val_loss: 2.1848 - val_accuracy: 0.1733\n",
            "Epoch 2/50\n",
            "49/49 [==============================] - 1s 17ms/step - loss: 1.7567 - accuracy: 0.3870 - val_loss: 1.9700 - val_accuracy: 0.2887\n",
            "Epoch 3/50\n",
            "49/49 [==============================] - 1s 17ms/step - loss: 1.6222 - accuracy: 0.4325 - val_loss: 1.8225 - val_accuracy: 0.3636\n",
            "Epoch 4/50\n",
            "49/49 [==============================] - 1s 17ms/step - loss: 1.5514 - accuracy: 0.4585 - val_loss: 1.7140 - val_accuracy: 0.4103\n",
            "Epoch 5/50\n",
            "49/49 [==============================] - 1s 17ms/step - loss: 1.4890 - accuracy: 0.4787 - val_loss: 1.6446 - val_accuracy: 0.4336\n",
            "Epoch 6/50\n",
            "49/49 [==============================] - 1s 17ms/step - loss: 1.4556 - accuracy: 0.4937 - val_loss: 1.5744 - val_accuracy: 0.4532\n",
            "Epoch 7/50\n",
            "49/49 [==============================] - 1s 17ms/step - loss: 1.4029 - accuracy: 0.5109 - val_loss: 1.5409 - val_accuracy: 0.4633\n",
            "Epoch 8/50\n",
            "49/49 [==============================] - 1s 17ms/step - loss: 1.3765 - accuracy: 0.5206 - val_loss: 1.5215 - val_accuracy: 0.4637\n",
            "Epoch 9/50\n",
            "49/49 [==============================] - 1s 17ms/step - loss: 1.3327 - accuracy: 0.5367 - val_loss: 1.5053 - val_accuracy: 0.4644\n",
            "Epoch 10/50\n",
            "49/49 [==============================] - 1s 19ms/step - loss: 1.3155 - accuracy: 0.5420 - val_loss: 1.4924 - val_accuracy: 0.4730\n",
            "Epoch 11/50\n",
            "49/49 [==============================] - 1s 17ms/step - loss: 1.2901 - accuracy: 0.5497 - val_loss: 1.4827 - val_accuracy: 0.4772\n",
            "Epoch 12/50\n",
            "49/49 [==============================] - 1s 17ms/step - loss: 1.2573 - accuracy: 0.5635 - val_loss: 1.4655 - val_accuracy: 0.4798\n",
            "Epoch 13/50\n",
            "49/49 [==============================] - 1s 17ms/step - loss: 1.2291 - accuracy: 0.5758 - val_loss: 1.4681 - val_accuracy: 0.4842\n",
            "Epoch 14/50\n",
            "49/49 [==============================] - 1s 17ms/step - loss: 1.1988 - accuracy: 0.5865 - val_loss: 1.4640 - val_accuracy: 0.4851\n",
            "Epoch 15/50\n",
            "49/49 [==============================] - 1s 17ms/step - loss: 1.1763 - accuracy: 0.5971 - val_loss: 1.4562 - val_accuracy: 0.4880\n",
            "Epoch 16/50\n",
            "49/49 [==============================] - 1s 17ms/step - loss: 1.1543 - accuracy: 0.6068 - val_loss: 1.4469 - val_accuracy: 0.4918\n",
            "Epoch 17/50\n",
            "49/49 [==============================] - 1s 17ms/step - loss: 1.1357 - accuracy: 0.6082 - val_loss: 1.4556 - val_accuracy: 0.4845\n",
            "Epoch 18/50\n",
            "49/49 [==============================] - 1s 17ms/step - loss: 1.1126 - accuracy: 0.6216 - val_loss: 1.4546 - val_accuracy: 0.4910\n",
            "Epoch 19/50\n",
            "49/49 [==============================] - 1s 17ms/step - loss: 1.0932 - accuracy: 0.6272 - val_loss: 1.4659 - val_accuracy: 0.4839\n",
            "Epoch 20/50\n",
            "49/49 [==============================] - 1s 17ms/step - loss: 1.0659 - accuracy: 0.6373 - val_loss: 1.4511 - val_accuracy: 0.4901\n",
            "Epoch 21/50\n",
            "49/49 [==============================] - 1s 17ms/step - loss: 1.0437 - accuracy: 0.6480 - val_loss: 1.4558 - val_accuracy: 0.4853\n",
            "Epoch 22/50\n",
            "49/49 [==============================] - 1s 17ms/step - loss: 1.0186 - accuracy: 0.6546 - val_loss: 1.4588 - val_accuracy: 0.4918\n",
            "Epoch 23/50\n",
            "49/49 [==============================] - 1s 17ms/step - loss: 1.0097 - accuracy: 0.6603 - val_loss: 1.4486 - val_accuracy: 0.4944\n",
            "Epoch 24/50\n",
            "49/49 [==============================] - 1s 16ms/step - loss: 0.9819 - accuracy: 0.6693 - val_loss: 1.4674 - val_accuracy: 0.4923\n",
            "Epoch 25/50\n",
            "49/49 [==============================] - 1s 17ms/step - loss: 0.9599 - accuracy: 0.6765 - val_loss: 1.4601 - val_accuracy: 0.4929\n",
            "Epoch 26/50\n",
            "49/49 [==============================] - 1s 17ms/step - loss: 0.9402 - accuracy: 0.6888 - val_loss: 1.4680 - val_accuracy: 0.4948\n",
            "Epoch 27/50\n",
            "49/49 [==============================] - 1s 17ms/step - loss: 0.9182 - accuracy: 0.6942 - val_loss: 1.4628 - val_accuracy: 0.4949\n",
            "Epoch 28/50\n",
            "49/49 [==============================] - 1s 17ms/step - loss: 0.8954 - accuracy: 0.7021 - val_loss: 1.4689 - val_accuracy: 0.4964\n",
            "Epoch 29/50\n",
            "49/49 [==============================] - 1s 17ms/step - loss: 0.8784 - accuracy: 0.7091 - val_loss: 1.4725 - val_accuracy: 0.4930\n",
            "Epoch 30/50\n",
            "49/49 [==============================] - 1s 17ms/step - loss: 0.8632 - accuracy: 0.7165 - val_loss: 1.4903 - val_accuracy: 0.4922\n",
            "Epoch 31/50\n",
            "49/49 [==============================] - 1s 17ms/step - loss: 0.8351 - accuracy: 0.7249 - val_loss: 1.4842 - val_accuracy: 0.4942\n",
            "Epoch 32/50\n",
            "49/49 [==============================] - 1s 17ms/step - loss: 0.8275 - accuracy: 0.7306 - val_loss: 1.4994 - val_accuracy: 0.4964\n",
            "Epoch 33/50\n",
            "49/49 [==============================] - 1s 17ms/step - loss: 0.7993 - accuracy: 0.7410 - val_loss: 1.5027 - val_accuracy: 0.4891\n",
            "Epoch 34/50\n",
            "49/49 [==============================] - 1s 17ms/step - loss: 0.7780 - accuracy: 0.7491 - val_loss: 1.4992 - val_accuracy: 0.4920\n",
            "Epoch 35/50\n",
            "49/49 [==============================] - 1s 17ms/step - loss: 0.7579 - accuracy: 0.7578 - val_loss: 1.5157 - val_accuracy: 0.4930\n",
            "Epoch 36/50\n",
            "49/49 [==============================] - 1s 17ms/step - loss: 0.7437 - accuracy: 0.7629 - val_loss: 1.5194 - val_accuracy: 0.4897\n",
            "Epoch 37/50\n",
            "49/49 [==============================] - 1s 16ms/step - loss: 0.7251 - accuracy: 0.7706 - val_loss: 1.5203 - val_accuracy: 0.4920\n",
            "Epoch 38/50\n",
            "49/49 [==============================] - 1s 17ms/step - loss: 0.6947 - accuracy: 0.7820 - val_loss: 1.5644 - val_accuracy: 0.4885\n",
            "Epoch 39/50\n",
            "49/49 [==============================] - 1s 17ms/step - loss: 0.6958 - accuracy: 0.7819 - val_loss: 1.5518 - val_accuracy: 0.4937\n",
            "Epoch 40/50\n",
            "49/49 [==============================] - 1s 17ms/step - loss: 0.6673 - accuracy: 0.7924 - val_loss: 1.5720 - val_accuracy: 0.4890\n",
            "Epoch 41/50\n",
            "49/49 [==============================] - 1s 17ms/step - loss: 0.6502 - accuracy: 0.8010 - val_loss: 1.5884 - val_accuracy: 0.4894\n",
            "Epoch 42/50\n",
            "49/49 [==============================] - 1s 17ms/step - loss: 0.6323 - accuracy: 0.8065 - val_loss: 1.5907 - val_accuracy: 0.4884\n",
            "Epoch 43/50\n",
            "49/49 [==============================] - 1s 17ms/step - loss: 0.6138 - accuracy: 0.8125 - val_loss: 1.5977 - val_accuracy: 0.4915\n",
            "Epoch 44/50\n",
            "49/49 [==============================] - 1s 17ms/step - loss: 0.5970 - accuracy: 0.8206 - val_loss: 1.5919 - val_accuracy: 0.4898\n",
            "Epoch 45/50\n",
            "49/49 [==============================] - 1s 17ms/step - loss: 0.5759 - accuracy: 0.8318 - val_loss: 1.6080 - val_accuracy: 0.4814\n",
            "Epoch 46/50\n",
            "49/49 [==============================] - 1s 17ms/step - loss: 0.5592 - accuracy: 0.8357 - val_loss: 1.6387 - val_accuracy: 0.4759\n",
            "Epoch 47/50\n",
            "49/49 [==============================] - 1s 17ms/step - loss: 0.5480 - accuracy: 0.8423 - val_loss: 1.6554 - val_accuracy: 0.4788\n",
            "Epoch 48/50\n",
            "49/49 [==============================] - 1s 17ms/step - loss: 0.5274 - accuracy: 0.8486 - val_loss: 1.6559 - val_accuracy: 0.4842\n",
            "Epoch 49/50\n",
            "49/49 [==============================] - 1s 17ms/step - loss: 0.5124 - accuracy: 0.8554 - val_loss: 1.6624 - val_accuracy: 0.4854\n",
            "Epoch 50/50\n",
            "49/49 [==============================] - 1s 16ms/step - loss: 0.4954 - accuracy: 0.8623 - val_loss: 1.6844 - val_accuracy: 0.4811\n"
          ],
          "name": "stdout"
        }
      ]
    },
    {
      "cell_type": "code",
      "metadata": {
        "colab": {
          "base_uri": "https://localhost:8080/"
        },
        "id": "fKJQWW5pYMGu",
        "outputId": "63a44a1e-8f27-4dd6-c9da-f58324c20381"
      },
      "source": [
        "# Load back\n",
        "from keras.models import load_model\n",
        "model = build_mlp(input_shape=x_train.shape[1:])\n",
        "model.compile(loss=\"categorical_crossentropy\", metrics=[\"accuracy\"], optimizer=optimizer)\n",
        "model.load_weights(\"./tmp.h5\" )\n",
        "loss_loadback, acc_loadback = model.evaluate(x_test, y_test)"
      ],
      "execution_count": 32,
      "outputs": [
        {
          "output_type": "stream",
          "text": [
            "313/313 [==============================] - 1s 3ms/step - loss: 1.4177 - accuracy: 0.5080\n"
          ],
          "name": "stdout"
        }
      ]
    },
    {
      "cell_type": "code",
      "metadata": {
        "colab": {
          "base_uri": "https://localhost:8080/",
          "height": 545
        },
        "id": "rmYHTsCiVidQ",
        "outputId": "430e835f-d144-40f1-9e70-0517afaa57be"
      },
      "source": [
        "import matplotlib.pyplot as plt\n",
        "%matplotlib inline\n",
        "\n",
        "plt.plot(range(len(train_loss)), train_loss, label=\"train loss\")\n",
        "plt.plot(range(len(valid_loss)), valid_loss, label=\"valid loss\")\n",
        "plt.hlines(y=loss_loadback, xmin=0, xmax=len(train_loss), colors='r', linestyles='--')\n",
        "plt.legend()\n",
        "plt.title(\"Loss\")\n",
        "plt.show()\n",
        "\n",
        "plt.plot(range(len(train_acc)), train_acc, label=\"train accuracy\")\n",
        "plt.plot(range(len(valid_acc)), valid_acc, label=\"valid accuracy\")\n",
        "plt.hlines(y=acc_loadback, xmin=0, xmax=len(train_loss), colors='r', linestyles='--')\n",
        "plt.legend()\n",
        "plt.title(\"Accuracy\")\n",
        "plt.show()"
      ],
      "execution_count": 33,
      "outputs": [
        {
          "output_type": "display_data",
          "data": {
            "image/png": "[encoded data removed]",
            "text/plain": [
              "<Figure size 432x288 with 1 Axes>"
            ]
          },
          "metadata": {
            "tags": [],
            "needs_background": "light"
          }
        },
        {
          "output_type": "display_data",
          "data": {
            "image/png": "[encoded data removed]",
            "text/plain": [
              "<Figure size 432x288 with 1 Axes>"
            ]
          },
          "metadata": {
            "tags": [],
            "needs_background": "light"
          }
        }
      ]
    }
  ]
}
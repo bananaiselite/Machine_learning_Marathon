{
  "nbformat": 4,
  "nbformat_minor": 0,
  "metadata": {
    "colab": {
      "name": "Day_85_HW.ipynb",
      "provenance": [],
      "collapsed_sections": []
    },
    "kernelspec": {
      "name": "python3",
      "display_name": "Python 3"
    },
    "accelerator": "GPU"
  },
  "cells": [
    {
      "cell_type": "markdown",
      "metadata": {
        "id": "HvDilEliQMUV"
      },
      "source": [
        "# Work\n",
        "試改變 monitor \"Validation Accuracy\" 並比較結果\n",
        "調整 earlystop 的等待次數至 10, 25 並比較結果"
      ]
    },
    {
      "cell_type": "code",
      "metadata": {
        "id": "fkgUTRUHQJA-"
      },
      "source": [
        "import os\n",
        "import keras\n",
        "import matplotlib.pyplot as plt\n",
        "%matplotlib inline\n",
        "\n",
        "\n",
        "# Disable GPU\n",
        "os.environ[\"CUDA_VISIBLE_DEVICES\"] = \"0\""
      ],
      "execution_count": null,
      "outputs": []
    },
    {
      "cell_type": "code",
      "metadata": {
        "colab": {
          "base_uri": "https://localhost:8080/"
        },
        "id": "BpHe_6D5QSy-",
        "outputId": "253cfdb1-91f7-451f-aaeb-a8da9c29d9b2"
      },
      "source": [
        "train, test = keras.datasets.cifar10.load_data()"
      ],
      "execution_count": null,
      "outputs": [
        {
          "output_type": "stream",
          "text": [
            "Downloading data from https://www.cs.toronto.edu/~kriz/cifar-10-python.tar.gz\n",
            "170500096/170498071 [==============================] - 6s 0us/step\n"
          ],
          "name": "stdout"
        }
      ]
    },
    {
      "cell_type": "code",
      "metadata": {
        "id": "GBeYcgFRQVxc"
      },
      "source": [
        "## 資料前處理\n",
        "def preproc_x(x, flatten=True):\n",
        "    x = x / 255.\n",
        "    if flatten:\n",
        "        x = x.reshape((len(x), -1))\n",
        "    return x\n",
        "\n",
        "def preproc_y(y, num_classes=10):\n",
        "    if y.shape[-1] == 1:\n",
        "        y = keras.utils.to_categorical(y, num_classes)\n",
        "    return y    "
      ],
      "execution_count": null,
      "outputs": []
    },
    {
      "cell_type": "code",
      "metadata": {
        "id": "cf6oT5ABQ7ic"
      },
      "source": [
        "x_train, y_train = train\n",
        "x_test, y_test = test\n",
        "\n",
        "# Preproc the inputs\n",
        "x_train = preproc_x(x_train)\n",
        "x_test = preproc_x(x_test)\n",
        "\n",
        "# Preprc the outputs\n",
        "y_train = preproc_y(y_train)\n",
        "y_test = preproc_y(y_test)"
      ],
      "execution_count": null,
      "outputs": []
    },
    {
      "cell_type": "code",
      "metadata": {
        "id": "ksEtHyK1RBQf"
      },
      "source": [
        "from keras.layers import BatchNormalization\n",
        "\n",
        "\"\"\"\n",
        "建立神經網路，並加入 BN layer\n",
        "\"\"\"\n",
        "def build_mlp(input_shape, output_units=10, num_neurons=[512, 256, 128]):\n",
        "    input_layer = keras.layers.Input(input_shape)\n",
        "    \n",
        "    for i, n_units in enumerate(num_neurons):\n",
        "        if i == 0:\n",
        "            x = keras.layers.Dense(units=n_units, \n",
        "                                   activation=\"relu\", \n",
        "                                   name=\"hidden_layer\"+str(i+1))(input_layer)\n",
        "            x = BatchNormalization()(x)\n",
        "        else:\n",
        "            x = keras.layers.Dense(units=n_units, \n",
        "                                   activation=\"relu\", \n",
        "                                   name=\"hidden_layer\"+str(i+1))(x)\n",
        "            x = BatchNormalization()(x)\n",
        "    \n",
        "    out = keras.layers.Dense(units=output_units, activation=\"softmax\", name=\"output\")(x)\n",
        "    \n",
        "    model = keras.models.Model(inputs=[input_layer], outputs=[out])\n",
        "    return model"
      ],
      "execution_count": null,
      "outputs": []
    },
    {
      "cell_type": "code",
      "metadata": {
        "id": "2cz-nXkGRC1X"
      },
      "source": [
        "## 超參數設定\n",
        "LEARNING_RATE = 1e-3\n",
        "EPOCHS = 500\n",
        "BATCH_SIZE = 1024\n",
        "MOMENTUM = 0.95"
      ],
      "execution_count": null,
      "outputs": []
    },
    {
      "cell_type": "code",
      "metadata": {
        "colab": {
          "base_uri": "https://localhost:8080/"
        },
        "id": "EZ7u9I0IRJBd",
        "outputId": "04f49894-faa4-4a25-cebd-f5f300c32604"
      },
      "source": [
        "from keras.callbacks import EarlyStopping\n",
        "patiences = [10, 25]\n",
        "results = {}\n",
        "\n",
        "for patience in patiences:\n",
        "  earlystop = EarlyStopping(monitor=\"val_loss\", \n",
        "                            patience= patience, \n",
        "                            verbose=1\n",
        "                            )\n",
        "  model = build_mlp(input_shape=x_train.shape[1:])\n",
        "  model.summary()\n",
        "  optimizer = keras.optimizers.SGD(lr=LEARNING_RATE, nesterov=True, momentum=MOMENTUM)\n",
        "  model.compile(loss=\"categorical_crossentropy\", metrics=[\"accuracy\"], optimizer=optimizer)\n",
        "\n",
        "  model.fit(x_train, y_train, \n",
        "            epochs=EPOCHS, \n",
        "            batch_size=BATCH_SIZE, \n",
        "            validation_data=(x_test, y_test), \n",
        "            shuffle=True,\n",
        "            callbacks=[earlystop]\n",
        "          )\n",
        "\n",
        "  # Collect results\n",
        "  train_loss = model.history.history[\"loss\"]\n",
        "  valid_loss = model.history.history[\"val_loss\"]\n",
        "  train_acc = model.history.history[\"accuracy\"]\n",
        "  valid_acc = model.history.history[\"val_accuracy\"]\n",
        "  exp_name_tag = \"early-stop-patience%s\" % str(patience)\n",
        "  results[exp_name_tag] = {'train-loss': train_loss,\n",
        "                            'valid-loss': valid_loss,\n",
        "                            'train-acc': train_acc,\n",
        "                            'valid-acc': valid_acc}"
      ],
      "execution_count": null,
      "outputs": [
        {
          "output_type": "stream",
          "text": [
            "Model: \"model_2\"\n",
            "_________________________________________________________________\n",
            "Layer (type)                 Output Shape              Param #   \n",
            "=================================================================\n",
            "input_3 (InputLayer)         [(None, 3072)]            0         \n",
            "_________________________________________________________________\n",
            "hidden_layer1 (Dense)        (None, 512)               1573376   \n",
            "_________________________________________________________________\n",
            "batch_normalization_6 (Batch (None, 512)               2048      \n",
            "_________________________________________________________________\n",
            "hidden_layer2 (Dense)        (None, 256)               131328    \n",
            "_________________________________________________________________\n",
            "batch_normalization_7 (Batch (None, 256)               1024      \n",
            "_________________________________________________________________\n",
            "hidden_layer3 (Dense)        (None, 128)               32896     \n",
            "_________________________________________________________________\n",
            "batch_normalization_8 (Batch (None, 128)               512       \n",
            "_________________________________________________________________\n",
            "output (Dense)               (None, 10)                1290      \n",
            "=================================================================\n",
            "Total params: 1,742,474\n",
            "Trainable params: 1,740,682\n",
            "Non-trainable params: 1,792\n",
            "_________________________________________________________________\n",
            "Epoch 1/500\n",
            "49/49 [==============================] - 1s 15ms/step - loss: 2.4975 - accuracy: 0.2035 - val_loss: 2.1582 - val_accuracy: 0.1872\n",
            "Epoch 2/500\n",
            "49/49 [==============================] - 1s 11ms/step - loss: 1.7681 - accuracy: 0.3828 - val_loss: 2.0014 - val_accuracy: 0.2461\n",
            "Epoch 3/500\n",
            "49/49 [==============================] - 1s 11ms/step - loss: 1.6290 - accuracy: 0.4292 - val_loss: 1.8395 - val_accuracy: 0.3335\n",
            "Epoch 4/500\n",
            "49/49 [==============================] - 1s 11ms/step - loss: 1.5404 - accuracy: 0.4597 - val_loss: 1.7165 - val_accuracy: 0.3912\n",
            "Epoch 5/500\n",
            "49/49 [==============================] - 1s 11ms/step - loss: 1.4917 - accuracy: 0.4776 - val_loss: 1.6331 - val_accuracy: 0.4189\n",
            "Epoch 6/500\n",
            "49/49 [==============================] - 1s 11ms/step - loss: 1.4452 - accuracy: 0.4942 - val_loss: 1.5848 - val_accuracy: 0.4381\n",
            "Epoch 7/500\n",
            "49/49 [==============================] - 1s 11ms/step - loss: 1.4065 - accuracy: 0.5073 - val_loss: 1.5452 - val_accuracy: 0.4522\n",
            "Epoch 8/500\n",
            "49/49 [==============================] - 1s 11ms/step - loss: 1.3750 - accuracy: 0.5185 - val_loss: 1.5175 - val_accuracy: 0.4598\n",
            "Epoch 9/500\n",
            "49/49 [==============================] - 1s 11ms/step - loss: 1.3362 - accuracy: 0.5341 - val_loss: 1.5027 - val_accuracy: 0.4668\n",
            "Epoch 10/500\n",
            "49/49 [==============================] - 1s 11ms/step - loss: 1.3118 - accuracy: 0.5411 - val_loss: 1.4960 - val_accuracy: 0.4646\n",
            "Epoch 11/500\n",
            "49/49 [==============================] - 1s 11ms/step - loss: 1.2759 - accuracy: 0.5551 - val_loss: 1.4814 - val_accuracy: 0.4760\n",
            "Epoch 12/500\n",
            "49/49 [==============================] - 1s 11ms/step - loss: 1.2527 - accuracy: 0.5663 - val_loss: 1.4753 - val_accuracy: 0.4744\n",
            "Epoch 13/500\n",
            "49/49 [==============================] - 1s 11ms/step - loss: 1.2220 - accuracy: 0.5794 - val_loss: 1.4919 - val_accuracy: 0.4759\n",
            "Epoch 14/500\n",
            "49/49 [==============================] - 1s 11ms/step - loss: 1.2057 - accuracy: 0.5826 - val_loss: 1.4845 - val_accuracy: 0.4772\n",
            "Epoch 15/500\n",
            "49/49 [==============================] - 1s 13ms/step - loss: 1.1741 - accuracy: 0.5920 - val_loss: 1.4679 - val_accuracy: 0.4796\n",
            "Epoch 16/500\n",
            "49/49 [==============================] - 1s 11ms/step - loss: 1.1463 - accuracy: 0.6076 - val_loss: 1.4663 - val_accuracy: 0.4850\n",
            "Epoch 17/500\n",
            "49/49 [==============================] - 1s 10ms/step - loss: 1.1271 - accuracy: 0.6138 - val_loss: 1.4638 - val_accuracy: 0.4865\n",
            "Epoch 18/500\n",
            "49/49 [==============================] - 1s 11ms/step - loss: 1.1133 - accuracy: 0.6187 - val_loss: 1.4716 - val_accuracy: 0.4841\n",
            "Epoch 19/500\n",
            "49/49 [==============================] - 1s 11ms/step - loss: 1.0867 - accuracy: 0.6276 - val_loss: 1.4605 - val_accuracy: 0.4913\n",
            "Epoch 20/500\n",
            "49/49 [==============================] - 1s 11ms/step - loss: 1.0615 - accuracy: 0.6391 - val_loss: 1.4589 - val_accuracy: 0.4923\n",
            "Epoch 21/500\n",
            "49/49 [==============================] - 1s 11ms/step - loss: 1.0351 - accuracy: 0.6459 - val_loss: 1.4604 - val_accuracy: 0.4928\n",
            "Epoch 22/500\n",
            "49/49 [==============================] - 1s 11ms/step - loss: 1.0221 - accuracy: 0.6532 - val_loss: 1.4608 - val_accuracy: 0.4920\n",
            "Epoch 23/500\n",
            "49/49 [==============================] - 1s 11ms/step - loss: 1.0043 - accuracy: 0.6596 - val_loss: 1.4599 - val_accuracy: 0.4901\n",
            "Epoch 24/500\n",
            "49/49 [==============================] - 1s 11ms/step - loss: 0.9716 - accuracy: 0.6722 - val_loss: 1.4846 - val_accuracy: 0.4904\n",
            "Epoch 25/500\n",
            "49/49 [==============================] - 1s 11ms/step - loss: 0.9599 - accuracy: 0.6799 - val_loss: 1.4713 - val_accuracy: 0.4938\n",
            "Epoch 26/500\n",
            "49/49 [==============================] - 1s 11ms/step - loss: 0.9341 - accuracy: 0.6877 - val_loss: 1.4800 - val_accuracy: 0.4918\n",
            "Epoch 27/500\n",
            "49/49 [==============================] - 1s 11ms/step - loss: 0.9111 - accuracy: 0.6965 - val_loss: 1.4635 - val_accuracy: 0.4928\n",
            "Epoch 28/500\n",
            "49/49 [==============================] - 1s 11ms/step - loss: 0.9058 - accuracy: 0.6988 - val_loss: 1.4826 - val_accuracy: 0.4893\n",
            "Epoch 29/500\n",
            "49/49 [==============================] - 1s 11ms/step - loss: 0.8696 - accuracy: 0.7134 - val_loss: 1.4740 - val_accuracy: 0.4935\n",
            "Epoch 30/500\n",
            "49/49 [==============================] - 1s 11ms/step - loss: 0.8472 - accuracy: 0.7219 - val_loss: 1.4826 - val_accuracy: 0.4907\n",
            "Epoch 00030: early stopping\n",
            "Model: \"model_3\"\n",
            "_________________________________________________________________\n",
            "Layer (type)                 Output Shape              Param #   \n",
            "=================================================================\n",
            "input_4 (InputLayer)         [(None, 3072)]            0         \n",
            "_________________________________________________________________\n",
            "hidden_layer1 (Dense)        (None, 512)               1573376   \n",
            "_________________________________________________________________\n",
            "batch_normalization_9 (Batch (None, 512)               2048      \n",
            "_________________________________________________________________\n",
            "hidden_layer2 (Dense)        (None, 256)               131328    \n",
            "_________________________________________________________________\n",
            "batch_normalization_10 (Batc (None, 256)               1024      \n",
            "_________________________________________________________________\n",
            "hidden_layer3 (Dense)        (None, 128)               32896     \n",
            "_________________________________________________________________\n",
            "batch_normalization_11 (Batc (None, 128)               512       \n",
            "_________________________________________________________________\n",
            "output (Dense)               (None, 10)                1290      \n",
            "=================================================================\n",
            "Total params: 1,742,474\n",
            "Trainable params: 1,740,682\n",
            "Non-trainable params: 1,792\n",
            "_________________________________________________________________\n",
            "Epoch 1/500\n",
            "49/49 [==============================] - 1s 15ms/step - loss: 2.5107 - accuracy: 0.1959 - val_loss: 2.1016 - val_accuracy: 0.2102\n",
            "Epoch 2/500\n",
            "49/49 [==============================] - 1s 11ms/step - loss: 1.7812 - accuracy: 0.3759 - val_loss: 1.9419 - val_accuracy: 0.3044\n",
            "Epoch 3/500\n",
            "49/49 [==============================] - 1s 11ms/step - loss: 1.6252 - accuracy: 0.4297 - val_loss: 1.8309 - val_accuracy: 0.3652\n",
            "Epoch 4/500\n",
            "49/49 [==============================] - 1s 11ms/step - loss: 1.5590 - accuracy: 0.4538 - val_loss: 1.7161 - val_accuracy: 0.4128\n",
            "Epoch 5/500\n",
            "49/49 [==============================] - 1s 11ms/step - loss: 1.4932 - accuracy: 0.4809 - val_loss: 1.6324 - val_accuracy: 0.4334\n",
            "Epoch 6/500\n",
            "49/49 [==============================] - 1s 11ms/step - loss: 1.4548 - accuracy: 0.4905 - val_loss: 1.5784 - val_accuracy: 0.4489\n",
            "Epoch 7/500\n",
            "49/49 [==============================] - 1s 11ms/step - loss: 1.4182 - accuracy: 0.5017 - val_loss: 1.5568 - val_accuracy: 0.4465\n",
            "Epoch 8/500\n",
            "49/49 [==============================] - 1s 11ms/step - loss: 1.3799 - accuracy: 0.5199 - val_loss: 1.5220 - val_accuracy: 0.4634\n",
            "Epoch 9/500\n",
            "49/49 [==============================] - 1s 11ms/step - loss: 1.3382 - accuracy: 0.5340 - val_loss: 1.5054 - val_accuracy: 0.4665\n",
            "Epoch 10/500\n",
            "49/49 [==============================] - 1s 11ms/step - loss: 1.3126 - accuracy: 0.5414 - val_loss: 1.4946 - val_accuracy: 0.4719\n",
            "Epoch 11/500\n",
            "49/49 [==============================] - 1s 11ms/step - loss: 1.2861 - accuracy: 0.5526 - val_loss: 1.4858 - val_accuracy: 0.4703\n",
            "Epoch 12/500\n",
            "49/49 [==============================] - 1s 11ms/step - loss: 1.2541 - accuracy: 0.5646 - val_loss: 1.4726 - val_accuracy: 0.4779\n",
            "Epoch 13/500\n",
            "49/49 [==============================] - 1s 11ms/step - loss: 1.2323 - accuracy: 0.5712 - val_loss: 1.4737 - val_accuracy: 0.4790\n",
            "Epoch 14/500\n",
            "49/49 [==============================] - 1s 11ms/step - loss: 1.2065 - accuracy: 0.5845 - val_loss: 1.4785 - val_accuracy: 0.4773\n",
            "Epoch 15/500\n",
            "49/49 [==============================] - 1s 11ms/step - loss: 1.1774 - accuracy: 0.5941 - val_loss: 1.4583 - val_accuracy: 0.4836\n",
            "Epoch 16/500\n",
            "49/49 [==============================] - 1s 13ms/step - loss: 1.1556 - accuracy: 0.6033 - val_loss: 1.4899 - val_accuracy: 0.4816\n",
            "Epoch 17/500\n",
            "49/49 [==============================] - 1s 11ms/step - loss: 1.1375 - accuracy: 0.6111 - val_loss: 1.4668 - val_accuracy: 0.4822\n",
            "Epoch 18/500\n",
            "49/49 [==============================] - 1s 11ms/step - loss: 1.1117 - accuracy: 0.6160 - val_loss: 1.4468 - val_accuracy: 0.4904\n",
            "Epoch 19/500\n",
            "49/49 [==============================] - 1s 11ms/step - loss: 1.0817 - accuracy: 0.6295 - val_loss: 1.4534 - val_accuracy: 0.4920\n",
            "Epoch 20/500\n",
            "49/49 [==============================] - 1s 11ms/step - loss: 1.0681 - accuracy: 0.6361 - val_loss: 1.4578 - val_accuracy: 0.4888\n",
            "Epoch 21/500\n",
            "49/49 [==============================] - 1s 11ms/step - loss: 1.0481 - accuracy: 0.6431 - val_loss: 1.4532 - val_accuracy: 0.4911\n",
            "Epoch 22/500\n",
            "49/49 [==============================] - 1s 11ms/step - loss: 1.0215 - accuracy: 0.6522 - val_loss: 1.4518 - val_accuracy: 0.4951\n",
            "Epoch 23/500\n",
            "49/49 [==============================] - 1s 11ms/step - loss: 0.9955 - accuracy: 0.6646 - val_loss: 1.4591 - val_accuracy: 0.4914\n",
            "Epoch 24/500\n",
            "49/49 [==============================] - 1s 11ms/step - loss: 0.9832 - accuracy: 0.6700 - val_loss: 1.4516 - val_accuracy: 0.5002\n",
            "Epoch 25/500\n",
            "49/49 [==============================] - 1s 11ms/step - loss: 0.9559 - accuracy: 0.6796 - val_loss: 1.4550 - val_accuracy: 0.4911\n",
            "Epoch 26/500\n",
            "49/49 [==============================] - 1s 11ms/step - loss: 0.9386 - accuracy: 0.6889 - val_loss: 1.4899 - val_accuracy: 0.4845\n",
            "Epoch 27/500\n",
            "49/49 [==============================] - 1s 11ms/step - loss: 0.9195 - accuracy: 0.6921 - val_loss: 1.4757 - val_accuracy: 0.4908\n",
            "Epoch 28/500\n",
            "49/49 [==============================] - 1s 11ms/step - loss: 0.8982 - accuracy: 0.7022 - val_loss: 1.4801 - val_accuracy: 0.4909\n",
            "Epoch 29/500\n",
            "49/49 [==============================] - 1s 11ms/step - loss: 0.8750 - accuracy: 0.7113 - val_loss: 1.4869 - val_accuracy: 0.4908\n",
            "Epoch 30/500\n",
            "49/49 [==============================] - 1s 11ms/step - loss: 0.8593 - accuracy: 0.7196 - val_loss: 1.4787 - val_accuracy: 0.4969\n",
            "Epoch 31/500\n",
            "49/49 [==============================] - 1s 11ms/step - loss: 0.8378 - accuracy: 0.7298 - val_loss: 1.4988 - val_accuracy: 0.4886\n",
            "Epoch 32/500\n",
            "49/49 [==============================] - 1s 11ms/step - loss: 0.8230 - accuracy: 0.7326 - val_loss: 1.5013 - val_accuracy: 0.4933\n",
            "Epoch 33/500\n",
            "49/49 [==============================] - 1s 11ms/step - loss: 0.8059 - accuracy: 0.7371 - val_loss: 1.5041 - val_accuracy: 0.4919\n",
            "Epoch 34/500\n",
            "49/49 [==============================] - 1s 11ms/step - loss: 0.7764 - accuracy: 0.7502 - val_loss: 1.5059 - val_accuracy: 0.4910\n",
            "Epoch 35/500\n",
            "49/49 [==============================] - 1s 11ms/step - loss: 0.7572 - accuracy: 0.7571 - val_loss: 1.5018 - val_accuracy: 0.4986\n",
            "Epoch 36/500\n",
            "49/49 [==============================] - 1s 11ms/step - loss: 0.7399 - accuracy: 0.7648 - val_loss: 1.5308 - val_accuracy: 0.4885\n",
            "Epoch 37/500\n",
            "49/49 [==============================] - 1s 11ms/step - loss: 0.7252 - accuracy: 0.7702 - val_loss: 1.5472 - val_accuracy: 0.4855\n",
            "Epoch 38/500\n",
            "49/49 [==============================] - 1s 12ms/step - loss: 0.7068 - accuracy: 0.7796 - val_loss: 1.5616 - val_accuracy: 0.4887\n",
            "Epoch 39/500\n",
            "49/49 [==============================] - 1s 11ms/step - loss: 0.6904 - accuracy: 0.7848 - val_loss: 1.5665 - val_accuracy: 0.4892\n",
            "Epoch 40/500\n",
            "49/49 [==============================] - 1s 11ms/step - loss: 0.6681 - accuracy: 0.7933 - val_loss: 1.5640 - val_accuracy: 0.4900\n",
            "Epoch 41/500\n",
            "49/49 [==============================] - 1s 11ms/step - loss: 0.6526 - accuracy: 0.8020 - val_loss: 1.5814 - val_accuracy: 0.4909\n",
            "Epoch 42/500\n",
            "49/49 [==============================] - 1s 11ms/step - loss: 0.6311 - accuracy: 0.8079 - val_loss: 1.5766 - val_accuracy: 0.4914\n",
            "Epoch 43/500\n",
            "49/49 [==============================] - 1s 11ms/step - loss: 0.6141 - accuracy: 0.8144 - val_loss: 1.5862 - val_accuracy: 0.4944\n",
            "Epoch 00043: early stopping\n"
          ],
          "name": "stdout"
        }
      ]
    },
    {
      "cell_type": "code",
      "metadata": {
        "colab": {
          "base_uri": "https://localhost:8080/",
          "height": 763
        },
        "id": "hOvMvWcFRwP2",
        "outputId": "7285692d-c591-47a9-cd27-fac36035f2fd"
      },
      "source": [
        "import matplotlib.pyplot as plt\n",
        "%matplotlib inline\n",
        "color_bar = [\"r\", \"g\", \"b\", \"y\", \"m\", \"k\"]\n",
        "\n",
        "plt.figure(figsize=(8,6))\n",
        "for i, cond in enumerate(results.keys()):\n",
        "    plt.plot(range(len(results[cond]['train-loss'])),results[cond]['train-loss'], '-', label=cond, color=color_bar[i])\n",
        "    plt.plot(range(len(results[cond]['valid-loss'])),results[cond]['valid-loss'], '--', label=cond, color=color_bar[i])\n",
        "plt.title(\"Loss\")\n",
        "plt.ylim([0, 5])\n",
        "plt.legend()\n",
        "plt.show()\n",
        "\n",
        "plt.figure(figsize=(8,6))\n",
        "for i, cond in enumerate(results.keys()):\n",
        "    plt.plot(range(len(results[cond]['train-acc'])),results[cond]['train-acc'], '-', label=cond, color=color_bar[i])\n",
        "    plt.plot(range(len(results[cond]['valid-acc'])),results[cond]['valid-acc'], '--', label=cond, color=color_bar[i])\n",
        "plt.title(\"Accuracy\")\n",
        "plt.legend()\n",
        "plt.show()"
      ],
      "execution_count": null,
      "outputs": [
        {
          "output_type": "display_data",
          "data": {
            "image/png": "[encoded data removed]",
            "text/plain": [
              "<Figure size 576x432 with 1 Axes>"
            ]
          },
          "metadata": {
            "tags": [],
            "needs_background": "light"
          }
        },
        {
          "output_type": "display_data",
          "data": {
            "image/png": "[encoded data removed]",
            "text/plain": [
              "<Figure size 576x432 with 1 Axes>"
            ]
          },
          "metadata": {
            "tags": [],
            "needs_background": "light"
          }
        }
      ]
    }
  ]
}
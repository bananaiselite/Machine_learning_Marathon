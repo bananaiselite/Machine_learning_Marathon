{
 "cells": [
  {
   "cell_type": "markdown",
   "metadata": {},
   "source": [
    "## 練習時間\n",
    "相信大家對回歸問題及分類問題都有初步的了解。今天的作業希望大家搜尋有關 multi-label 的案例問題。下圖是電影 \"奇異博士\" 的分類。可以看到同時有 \"Action\", \"Adventure\", \"Fantasy\" 的類別存在，代表這是個多標籤的問題。 "
   ]
  },
  {
   "cell_type": "markdown",
   "metadata": {},
   "source": [
    "![image](https://cdn-images-1.medium.com/max/1000/1*r0gYXMSQf5VhdMyl2bRDyg.png)"
   ]
  },
  {
   "cell_type": "markdown",
   "metadata": {},
   "source": [
    "## 請搜尋目標為多標籤問題 (Multi-label) 的機器學習案例，了解其資料來源、目標以及評估指標為何\n",
    "## Hint: 服飾"
   ]
  },
  {
   "cell_type": "markdown",
   "metadata": {},
   "source": [
    "Source:\n",
    "https://clay-atlas.com/blog/2019/12/11/python-chinese-keras-tutorial-multi-label-classification-mnist/\n",
    "\n",
    "除了要判斷數字之外，我還希望多判斷一項『是否大於 5』的標籤。"
   ]
  },
  {
   "cell_type": "code",
   "execution_count": 1,
   "metadata": {
    "collapsed": true
   },
   "outputs": [
    {
     "name": "stdout",
     "output_type": "stream",
     "text": [
      "Requirement already satisfied: keras in ./opt/anaconda3/lib/python3.8/site-packages (2.3.1)\n",
      "Requirement already satisfied: keras-applications>=1.0.6 in ./opt/anaconda3/lib/python3.8/site-packages (from keras) (1.0.8)\n",
      "Requirement already satisfied: pyyaml in ./opt/anaconda3/lib/python3.8/site-packages (from keras) (5.3.1)\n",
      "Requirement already satisfied: scipy>=0.14 in ./opt/anaconda3/lib/python3.8/site-packages (from keras) (1.5.0)\n",
      "Requirement already satisfied: keras-preprocessing>=1.0.5 in ./opt/anaconda3/lib/python3.8/site-packages (from keras) (1.1.2)\n",
      "Requirement already satisfied: six>=1.9.0 in ./opt/anaconda3/lib/python3.8/site-packages (from keras) (1.15.0)\n",
      "Requirement already satisfied: h5py in ./opt/anaconda3/lib/python3.8/site-packages (from keras) (3.1.0)\n",
      "Requirement already satisfied: numpy>=1.9.1 in ./opt/anaconda3/lib/python3.8/site-packages (from keras) (1.19.5)\n",
      "Requirement already satisfied: numpy>=1.9.1 in ./opt/anaconda3/lib/python3.8/site-packages (from keras) (1.19.5)\n",
      "Requirement already satisfied: h5py in ./opt/anaconda3/lib/python3.8/site-packages (from keras) (3.1.0)\n",
      "Requirement already satisfied: numpy>=1.9.1 in ./opt/anaconda3/lib/python3.8/site-packages (from keras) (1.19.5)\n",
      "Requirement already satisfied: numpy>=1.9.1 in ./opt/anaconda3/lib/python3.8/site-packages (from keras) (1.19.5)\n",
      "Requirement already satisfied: six>=1.9.0 in ./opt/anaconda3/lib/python3.8/site-packages (from keras) (1.15.0)\n",
      "Requirement already satisfied: numpy>=1.9.1 in ./opt/anaconda3/lib/python3.8/site-packages (from keras) (1.19.5)\n",
      "\u001b[33mWARNING: You are using pip version 20.3.1; however, version 21.0 is available.\n",
      "You should consider upgrading via the '/Users/bananaiselite/opt/anaconda3/bin/python -m pip install --upgrade pip' command.\u001b[0m\n",
      "Requirement already satisfied: tensorflow in ./opt/anaconda3/lib/python3.8/site-packages (2.4.1)\n",
      "Requirement already satisfied: tensorboard~=2.4 in ./opt/anaconda3/lib/python3.8/site-packages (from tensorflow) (2.4.1)\n",
      "Requirement already satisfied: six~=1.15.0 in ./opt/anaconda3/lib/python3.8/site-packages (from tensorflow) (1.15.0)\n",
      "Requirement already satisfied: keras-preprocessing~=1.1.2 in ./opt/anaconda3/lib/python3.8/site-packages (from tensorflow) (1.1.2)\n",
      "Requirement already satisfied: wrapt~=1.12.1 in ./opt/anaconda3/lib/python3.8/site-packages (from tensorflow) (1.12.1)\n",
      "Requirement already satisfied: astunparse~=1.6.3 in ./opt/anaconda3/lib/python3.8/site-packages (from tensorflow) (1.6.3)\n",
      "Requirement already satisfied: flatbuffers~=1.12.0 in ./opt/anaconda3/lib/python3.8/site-packages (from tensorflow) (1.12)\n",
      "Requirement already satisfied: numpy~=1.19.2 in ./opt/anaconda3/lib/python3.8/site-packages (from tensorflow) (1.19.5)\n",
      "Requirement already satisfied: protobuf>=3.9.2 in ./opt/anaconda3/lib/python3.8/site-packages (from tensorflow) (3.14.0)\n",
      "Requirement already satisfied: tensorflow-estimator<2.5.0,>=2.4.0 in ./opt/anaconda3/lib/python3.8/site-packages (from tensorflow) (2.4.0)\n",
      "Requirement already satisfied: google-pasta~=0.2 in ./opt/anaconda3/lib/python3.8/site-packages (from tensorflow) (0.2.0)\n",
      "Requirement already satisfied: typing-extensions~=3.7.4 in ./opt/anaconda3/lib/python3.8/site-packages (from tensorflow) (3.7.4.2)\n",
      "Requirement already satisfied: absl-py~=0.10 in ./opt/anaconda3/lib/python3.8/site-packages (from tensorflow) (0.11.0)\n",
      "Requirement already satisfied: termcolor~=1.1.0 in ./opt/anaconda3/lib/python3.8/site-packages (from tensorflow) (1.1.0)\n",
      "Requirement already satisfied: opt-einsum~=3.3.0 in ./opt/anaconda3/lib/python3.8/site-packages (from tensorflow) (3.3.0)\n",
      "Requirement already satisfied: wheel~=0.35 in ./opt/anaconda3/lib/python3.8/site-packages (from tensorflow) (0.36.2)\n",
      "Requirement already satisfied: six~=1.15.0 in ./opt/anaconda3/lib/python3.8/site-packages (from tensorflow) (1.15.0)\n",
      "Requirement already satisfied: six~=1.15.0 in ./opt/anaconda3/lib/python3.8/site-packages (from tensorflow) (1.15.0)\n",
      "Requirement already satisfied: wheel~=0.35 in ./opt/anaconda3/lib/python3.8/site-packages (from tensorflow) (0.36.2)\n",
      "Collecting gast==0.3.3\n",
      "  Using cached gast-0.3.3-py2.py3-none-any.whl (9.7 kB)\n",
      "Requirement already satisfied: six~=1.15.0 in ./opt/anaconda3/lib/python3.8/site-packages (from tensorflow) (1.15.0)\n",
      "Collecting grpcio~=1.32.0\n",
      "  Using cached grpcio-1.32.0-cp38-cp38-macosx_10_9_x86_64.whl (3.3 MB)\n",
      "Requirement already satisfied: six~=1.15.0 in ./opt/anaconda3/lib/python3.8/site-packages (from tensorflow) (1.15.0)\n",
      "Collecting h5py~=2.10.0\n",
      "  Using cached h5py-2.10.0-cp38-cp38-macosx_10_9_x86_64.whl (3.0 MB)\n",
      "Requirement already satisfied: six~=1.15.0 in ./opt/anaconda3/lib/python3.8/site-packages (from tensorflow) (1.15.0)\n",
      "Requirement already satisfied: numpy~=1.19.2 in ./opt/anaconda3/lib/python3.8/site-packages (from tensorflow) (1.19.5)\n",
      "Requirement already satisfied: numpy~=1.19.2 in ./opt/anaconda3/lib/python3.8/site-packages (from tensorflow) (1.19.5)\n",
      "Requirement already satisfied: six~=1.15.0 in ./opt/anaconda3/lib/python3.8/site-packages (from tensorflow) (1.15.0)\n",
      "Requirement already satisfied: numpy~=1.19.2 in ./opt/anaconda3/lib/python3.8/site-packages (from tensorflow) (1.19.5)\n",
      "Requirement already satisfied: six~=1.15.0 in ./opt/anaconda3/lib/python3.8/site-packages (from tensorflow) (1.15.0)\n",
      "Requirement already satisfied: google-auth-oauthlib<0.5,>=0.4.1 in ./opt/anaconda3/lib/python3.8/site-packages (from tensorboard~=2.4->tensorflow) (0.4.2)\n",
      "Requirement already satisfied: absl-py~=0.10 in ./opt/anaconda3/lib/python3.8/site-packages (from tensorflow) (0.11.0)\n",
      "Requirement already satisfied: six~=1.15.0 in ./opt/anaconda3/lib/python3.8/site-packages (from tensorflow) (1.15.0)\n",
      "Requirement already satisfied: google-auth<2,>=1.6.3 in ./opt/anaconda3/lib/python3.8/site-packages (from tensorboard~=2.4->tensorflow) (1.24.0)\n",
      "Requirement already satisfied: numpy~=1.19.2 in ./opt/anaconda3/lib/python3.8/site-packages (from tensorflow) (1.19.5)\n",
      "Requirement already satisfied: protobuf>=3.9.2 in ./opt/anaconda3/lib/python3.8/site-packages (from tensorflow) (3.14.0)\n",
      "Requirement already satisfied: markdown>=2.6.8 in ./opt/anaconda3/lib/python3.8/site-packages (from tensorboard~=2.4->tensorflow) (3.3.3)\n",
      "Requirement already satisfied: requests<3,>=2.21.0 in ./opt/anaconda3/lib/python3.8/site-packages (from tensorboard~=2.4->tensorflow) (2.24.0)\n",
      "Requirement already satisfied: werkzeug>=0.11.15 in ./opt/anaconda3/lib/python3.8/site-packages (from tensorboard~=2.4->tensorflow) (1.0.1)\n",
      "Requirement already satisfied: wheel~=0.35 in ./opt/anaconda3/lib/python3.8/site-packages (from tensorflow) (0.36.2)\n",
      "Requirement already satisfied: setuptools>=41.0.0 in ./opt/anaconda3/lib/python3.8/site-packages (from tensorboard~=2.4->tensorflow) (49.2.0.post20200714)\n",
      "Requirement already satisfied: tensorboard-plugin-wit>=1.6.0 in ./opt/anaconda3/lib/python3.8/site-packages (from tensorboard~=2.4->tensorflow) (1.8.0)\n",
      "Requirement already satisfied: cachetools<5.0,>=2.0.0 in ./opt/anaconda3/lib/python3.8/site-packages (from google-auth<2,>=1.6.3->tensorboard~=2.4->tensorflow) (4.2.1)\n",
      "Requirement already satisfied: pyasn1-modules>=0.2.1 in ./opt/anaconda3/lib/python3.8/site-packages (from google-auth<2,>=1.6.3->tensorboard~=2.4->tensorflow) (0.2.8)\n",
      "Requirement already satisfied: setuptools>=41.0.0 in ./opt/anaconda3/lib/python3.8/site-packages (from tensorboard~=2.4->tensorflow) (49.2.0.post20200714)\n",
      "Requirement already satisfied: rsa<5,>=3.1.4 in ./opt/anaconda3/lib/python3.8/site-packages (from google-auth<2,>=1.6.3->tensorboard~=2.4->tensorflow) (4.7)\n",
      "Requirement already satisfied: six~=1.15.0 in ./opt/anaconda3/lib/python3.8/site-packages (from tensorflow) (1.15.0)\n",
      "Requirement already satisfied: requests-oauthlib>=0.7.0 in ./opt/anaconda3/lib/python3.8/site-packages (from google-auth-oauthlib<0.5,>=0.4.1->tensorboard~=2.4->tensorflow) (1.3.0)\n",
      "Requirement already satisfied: google-auth<2,>=1.6.3 in ./opt/anaconda3/lib/python3.8/site-packages (from tensorboard~=2.4->tensorflow) (1.24.0)\n",
      "Requirement already satisfied: pyasn1<0.5.0,>=0.4.6 in ./opt/anaconda3/lib/python3.8/site-packages (from pyasn1-modules>=0.2.1->google-auth<2,>=1.6.3->tensorboard~=2.4->tensorflow) (0.4.8)\n",
      "Requirement already satisfied: chardet<4,>=3.0.2 in ./opt/anaconda3/lib/python3.8/site-packages (from requests<3,>=2.21.0->tensorboard~=2.4->tensorflow) (3.0.4)\n",
      "Requirement already satisfied: idna<3,>=2.5 in ./opt/anaconda3/lib/python3.8/site-packages (from requests<3,>=2.21.0->tensorboard~=2.4->tensorflow) (2.10)\n",
      "Requirement already satisfied: certifi>=2017.4.17 in ./opt/anaconda3/lib/python3.8/site-packages (from requests<3,>=2.21.0->tensorboard~=2.4->tensorflow) (2020.6.20)\n"
     ]
    },
    {
     "name": "stdout",
     "output_type": "stream",
     "text": [
      "Requirement already satisfied: urllib3!=1.25.0,!=1.25.1,<1.26,>=1.21.1 in ./opt/anaconda3/lib/python3.8/site-packages (from requests<3,>=2.21.0->tensorboard~=2.4->tensorflow) (1.25.9)\n",
      "Requirement already satisfied: oauthlib>=3.0.0 in ./opt/anaconda3/lib/python3.8/site-packages (from requests-oauthlib>=0.7.0->google-auth-oauthlib<0.5,>=0.4.1->tensorboard~=2.4->tensorflow) (3.1.0)\n",
      "Requirement already satisfied: requests<3,>=2.21.0 in ./opt/anaconda3/lib/python3.8/site-packages (from tensorboard~=2.4->tensorflow) (2.24.0)\n",
      "Requirement already satisfied: pyasn1<0.5.0,>=0.4.6 in ./opt/anaconda3/lib/python3.8/site-packages (from pyasn1-modules>=0.2.1->google-auth<2,>=1.6.3->tensorboard~=2.4->tensorflow) (0.4.8)\n",
      "Installing collected packages: grpcio, h5py, gast\n",
      "  Attempting uninstall: grpcio\n",
      "    Found existing installation: grpcio 1.34.1\n",
      "    Uninstalling grpcio-1.34.1:\n",
      "      Successfully uninstalled grpcio-1.34.1\n",
      "  Attempting uninstall: h5py\n",
      "    Found existing installation: h5py 3.1.0\n",
      "    Uninstalling h5py-3.1.0:\n",
      "      Successfully uninstalled h5py-3.1.0\n",
      "  Attempting uninstall: gast\n",
      "    Found existing installation: gast 0.4.0\n",
      "    Uninstalling gast-0.4.0:\n",
      "      Successfully uninstalled gast-0.4.0\n",
      "\u001b[31mERROR: pip's dependency resolver does not currently take into account all the packages that are installed. This behaviour is the source of the following dependency conflicts.\n",
      "tf-nightly 2.5.0.dev20210112 requires gast==0.4.0, but you have gast 0.3.3 which is incompatible.\n",
      "tf-nightly 2.5.0.dev20210112 requires grpcio~=1.34.0, but you have grpcio 1.32.0 which is incompatible.\n",
      "tf-nightly 2.5.0.dev20210112 requires h5py~=3.1.0, but you have h5py 2.10.0 which is incompatible.\u001b[0m\n",
      "Successfully installed gast-0.3.3 grpcio-1.32.0 h5py-2.10.0\n",
      "\u001b[33mWARNING: You are using pip version 20.3.1; however, version 21.0 is available.\n",
      "You should consider upgrading via the '/Users/bananaiselite/opt/anaconda3/bin/python -m pip install --upgrade pip' command.\u001b[0m\n"
     ]
    }
   ],
   "source": [
    "!pip3 install keras\n",
    "!pip install tensorflow"
   ]
  },
  {
   "cell_type": "code",
   "execution_count": 2,
   "metadata": {
    "collapsed": true
   },
   "outputs": [
    {
     "name": "stdout",
     "output_type": "stream",
     "text": [
      "Collecting tensorflow_federated_nightly\n",
      "  Using cached tensorflow_federated_nightly-0.17.0.dev20210128-py2.py3-none-any.whl (578 kB)\n",
      "Requirement already satisfied: absl-py~=0.10 in ./opt/anaconda3/lib/python3.8/site-packages (from tensorflow_federated_nightly) (0.11.0)\n",
      "Requirement already satisfied: h5py~=2.10.0 in ./opt/anaconda3/lib/python3.8/site-packages (from tensorflow_federated_nightly) (2.10.0)\n",
      "Requirement already satisfied: grpcio~=1.32.0 in ./opt/anaconda3/lib/python3.8/site-packages (from tensorflow_federated_nightly) (1.32.0)\n",
      "Requirement already satisfied: attrs~=19.3.0 in ./opt/anaconda3/lib/python3.8/site-packages (from tensorflow_federated_nightly) (19.3.0)\n",
      "Requirement already satisfied: tf-nightly in ./opt/anaconda3/lib/python3.8/site-packages (from tensorflow_federated_nightly) (2.5.0.dev20210112)\n",
      "Requirement already satisfied: numpy~=1.19.2 in ./opt/anaconda3/lib/python3.8/site-packages (from tensorflow_federated_nightly) (1.19.5)\n",
      "Requirement already satisfied: six in ./opt/anaconda3/lib/python3.8/site-packages (from absl-py~=0.10->tensorflow_federated_nightly) (1.15.0)\n",
      "Collecting cachetools~=3.1.1\n",
      "  Using cached cachetools-3.1.1-py2.py3-none-any.whl (11 kB)\n",
      "Collecting dm-tree~=0.1.1\n",
      "  Using cached dm_tree-0.1.5-cp38-cp38-macosx_10_14_x86_64.whl (95 kB)\n",
      "Requirement already satisfied: six in ./opt/anaconda3/lib/python3.8/site-packages (from absl-py~=0.10->tensorflow_federated_nightly) (1.15.0)\n",
      "Requirement already satisfied: six in ./opt/anaconda3/lib/python3.8/site-packages (from absl-py~=0.10->tensorflow_federated_nightly) (1.15.0)\n",
      "Requirement already satisfied: six in ./opt/anaconda3/lib/python3.8/site-packages (from absl-py~=0.10->tensorflow_federated_nightly) (1.15.0)\n",
      "Requirement already satisfied: numpy~=1.19.2 in ./opt/anaconda3/lib/python3.8/site-packages (from tensorflow_federated_nightly) (1.19.5)\n",
      "Collecting jax~=0.2.8\n",
      "  Using cached jax-0.2.9.tar.gz (551 kB)\n",
      "Requirement already satisfied: numpy~=1.19.2 in ./opt/anaconda3/lib/python3.8/site-packages (from tensorflow_federated_nightly) (1.19.5)\n",
      "Requirement already satisfied: absl-py~=0.10 in ./opt/anaconda3/lib/python3.8/site-packages (from tensorflow_federated_nightly) (0.11.0)\n",
      "Requirement already satisfied: opt_einsum in ./opt/anaconda3/lib/python3.8/site-packages (from jax~=0.2.8->tensorflow_federated_nightly) (3.3.0)\n",
      "Collecting jaxlib~=0.1.55\n",
      "  Using cached jaxlib-0.1.59-cp38-none-macosx_10_9_x86_64.whl (43.6 MB)\n",
      "Requirement already satisfied: absl-py~=0.10 in ./opt/anaconda3/lib/python3.8/site-packages (from tensorflow_federated_nightly) (0.11.0)\n",
      "Requirement already satisfied: scipy in ./opt/anaconda3/lib/python3.8/site-packages (from jaxlib~=0.1.55->tensorflow_federated_nightly) (1.5.0)\n",
      "Requirement already satisfied: flatbuffers in ./opt/anaconda3/lib/python3.8/site-packages (from jaxlib~=0.1.55->tensorflow_federated_nightly) (1.12)\n",
      "Requirement already satisfied: numpy~=1.19.2 in ./opt/anaconda3/lib/python3.8/site-packages (from tensorflow_federated_nightly) (1.19.5)\n",
      "Requirement already satisfied: numpy~=1.19.2 in ./opt/anaconda3/lib/python3.8/site-packages (from tensorflow_federated_nightly) (1.19.5)\n",
      "Collecting portpicker~=1.3.1\n",
      "  Using cached portpicker-1.3.1.tar.gz (18 kB)\n",
      "Collecting retrying~=1.3.3\n",
      "  Using cached retrying-1.3.3.tar.gz (10 kB)\n",
      "Requirement already satisfied: six in ./opt/anaconda3/lib/python3.8/site-packages (from absl-py~=0.10->tensorflow_federated_nightly) (1.15.0)\n",
      "Requirement already satisfied: numpy~=1.19.2 in ./opt/anaconda3/lib/python3.8/site-packages (from tensorflow_federated_nightly) (1.19.5)\n",
      "Collecting semantic-version~=2.8.5\n",
      "  Using cached semantic_version-2.8.5-py2.py3-none-any.whl (15 kB)\n",
      "Collecting tensorflow-model-optimization~=0.5.0\n",
      "  Using cached tensorflow_model_optimization-0.5.0-py2.py3-none-any.whl (172 kB)\n",
      "Requirement already satisfied: numpy~=1.19.2 in ./opt/anaconda3/lib/python3.8/site-packages (from tensorflow_federated_nightly) (1.19.5)\n",
      "Requirement already satisfied: six in ./opt/anaconda3/lib/python3.8/site-packages (from absl-py~=0.10->tensorflow_federated_nightly) (1.15.0)\n",
      "Collecting tensorflow-privacy~=0.5.0\n",
      "  Using cached tensorflow_privacy-0.5.1-py3-none-any.whl (149 kB)\n",
      "Requirement already satisfied: tensorflow-estimator>=2.3.0 in ./opt/anaconda3/lib/python3.8/site-packages (from tensorflow-privacy~=0.5.0->tensorflow_federated_nightly) (2.4.0)\n",
      "Requirement already satisfied: scipy in ./opt/anaconda3/lib/python3.8/site-packages (from jaxlib~=0.1.55->tensorflow_federated_nightly) (1.5.0)\n",
      "Requirement already satisfied: mpmath in ./opt/anaconda3/lib/python3.8/site-packages (from tensorflow-privacy~=0.5.0->tensorflow_federated_nightly) (1.1.0)\n",
      "Requirement already satisfied: typing-extensions~=3.7.4 in ./opt/anaconda3/lib/python3.8/site-packages (from tf-nightly->tensorflow_federated_nightly) (3.7.4.2)\n",
      "Requirement already satisfied: wrapt~=1.12.1 in ./opt/anaconda3/lib/python3.8/site-packages (from tf-nightly->tensorflow_federated_nightly) (1.12.1)\n",
      "Requirement already satisfied: absl-py~=0.10 in ./opt/anaconda3/lib/python3.8/site-packages (from tensorflow_federated_nightly) (0.11.0)\n",
      "Requirement already satisfied: astunparse~=1.6.3 in ./opt/anaconda3/lib/python3.8/site-packages (from tf-nightly->tensorflow_federated_nightly) (1.6.3)\n",
      "Collecting tf-nightly\n",
      "  Using cached tf_nightly-2.5.0.dev20210111-cp38-cp38-macosx_10_14_x86_64.whl (178.9 MB)\n",
      "Requirement already satisfied: typing-extensions~=3.7.4 in ./opt/anaconda3/lib/python3.8/site-packages (from tf-nightly->tensorflow_federated_nightly) (3.7.4.2)\n",
      "Requirement already satisfied: wrapt~=1.12.1 in ./opt/anaconda3/lib/python3.8/site-packages (from tf-nightly->tensorflow_federated_nightly) (1.12.1)\n",
      "Requirement already satisfied: absl-py~=0.10 in ./opt/anaconda3/lib/python3.8/site-packages (from tensorflow_federated_nightly) (0.11.0)\n",
      "Requirement already satisfied: astunparse~=1.6.3 in ./opt/anaconda3/lib/python3.8/site-packages (from tf-nightly->tensorflow_federated_nightly) (1.6.3)\n",
      "  Using cached tf_nightly-2.5.0.dev20210110-cp38-cp38-macosx_10_14_x86_64.whl (178.9 MB)\n",
      "Requirement already satisfied: typing-extensions~=3.7.4 in ./opt/anaconda3/lib/python3.8/site-packages (from tf-nightly->tensorflow_federated_nightly) (3.7.4.2)\n",
      "Requirement already satisfied: wrapt~=1.12.1 in ./opt/anaconda3/lib/python3.8/site-packages (from tf-nightly->tensorflow_federated_nightly) (1.12.1)\n",
      "Requirement already satisfied: absl-py~=0.10 in ./opt/anaconda3/lib/python3.8/site-packages (from tensorflow_federated_nightly) (0.11.0)\n",
      "Requirement already satisfied: astunparse~=1.6.3 in ./opt/anaconda3/lib/python3.8/site-packages (from tf-nightly->tensorflow_federated_nightly) (1.6.3)\n",
      "  Downloading tf_nightly-2.5.0.dev20210109-cp38-cp38-macosx_10_14_x86_64.whl (178.9 MB)\n",
      "\u001b[K     |████████████████████████████████| 178.9 MB 20 kB/s  eta 0:00:01    |███████████                     | 62.0 MB 2.7 MB/s eta 0:00:44     |███████████▌                    | 64.3 MB 3.0 MB/s eta 0:00:39     |████████████████████████▋       | 137.6 MB 3.8 MB/s eta 0:00:11\n",
      "\u001b[?25hRequirement already satisfied: typing-extensions~=3.7.4 in ./opt/anaconda3/lib/python3.8/site-packages (from tf-nightly->tensorflow_federated_nightly) (3.7.4.2)\n",
      "Requirement already satisfied: wrapt~=1.12.1 in ./opt/anaconda3/lib/python3.8/site-packages (from tf-nightly->tensorflow_federated_nightly) (1.12.1)\n",
      "Requirement already satisfied: absl-py~=0.10 in ./opt/anaconda3/lib/python3.8/site-packages (from tensorflow_federated_nightly) (0.11.0)\n",
      "Requirement already satisfied: astunparse~=1.6.3 in ./opt/anaconda3/lib/python3.8/site-packages (from tf-nightly->tensorflow_federated_nightly) (1.6.3)\n",
      "  Downloading tf_nightly-2.5.0.dev20210108-cp38-cp38-macosx_10_14_x86_64.whl (178.9 MB)\n",
      "\u001b[K     |████████████████████████████████| 178.9 MB 25 kB/s  eta 0:00:015   |███                             | 16.7 MB 2.8 MB/s eta 0:00:58     |███████▌                        | 41.9 MB 1.9 MB/s eta 0:01:14     |████████▉                       | 49.2 MB 3.3 MB/s eta 0:00:39     |███████████▌                    | 64.2 MB 2.7 MB/s eta 0:00:43     |████████████████▋               | 93.1 MB 473 kB/s eta 0:03:02     |████████████████▊               | 93.5 MB 473 kB/s eta 0:03:01\n",
      "\u001b[?25hRequirement already satisfied: typing-extensions~=3.7.4 in ./opt/anaconda3/lib/python3.8/site-packages (from tf-nightly->tensorflow_federated_nightly) (3.7.4.2)\n",
      "Requirement already satisfied: wrapt~=1.12.1 in ./opt/anaconda3/lib/python3.8/site-packages (from tf-nightly->tensorflow_federated_nightly) (1.12.1)\n",
      "Requirement already satisfied: absl-py~=0.10 in ./opt/anaconda3/lib/python3.8/site-packages (from tensorflow_federated_nightly) (0.11.0)\n",
      "Requirement already satisfied: astunparse~=1.6.3 in ./opt/anaconda3/lib/python3.8/site-packages (from tf-nightly->tensorflow_federated_nightly) (1.6.3)\n"
     ]
    },
    {
     "name": "stdout",
     "output_type": "stream",
     "text": [
      "  Downloading tf_nightly-2.5.0.dev20210107-cp38-cp38-macosx_10_14_x86_64.whl (178.9 MB)\n",
      "\u001b[K     |████████████████████████████████| 178.9 MB 95 kB/s  eta 0:00:017   |██▎                             | 12.7 MB 2.9 MB/s eta 0:00:58     |███▉                            | 21.2 MB 2.2 MB/s eta 0:01:12     |█████                           | 27.5 MB 1.8 MB/s eta 0:01:26     |████████████▉                   | 71.8 MB 5.9 MB/s eta 0:00:19     |█████████████████████▏          | 118.6 MB 134 kB/s eta 0:07:29     |████████████████████████████▍   | 158.6 MB 4.1 MB/s eta 0:00:06     |██████████████████████████████▉ | 172.5 MB 3.6 MB/s eta 0:00:02     |███████████████████████████████ | 172.9 MB 3.6 MB/s eta 0:00:02\n",
      "\u001b[?25hRequirement already satisfied: typing-extensions~=3.7.4 in ./opt/anaconda3/lib/python3.8/site-packages (from tf-nightly->tensorflow_federated_nightly) (3.7.4.2)\n",
      "Requirement already satisfied: wrapt~=1.12.1 in ./opt/anaconda3/lib/python3.8/site-packages (from tf-nightly->tensorflow_federated_nightly) (1.12.1)\n",
      "Requirement already satisfied: absl-py~=0.10 in ./opt/anaconda3/lib/python3.8/site-packages (from tensorflow_federated_nightly) (0.11.0)\n",
      "Requirement already satisfied: astunparse~=1.6.3 in ./opt/anaconda3/lib/python3.8/site-packages (from tf-nightly->tensorflow_federated_nightly) (1.6.3)\n",
      "  Downloading tf_nightly-2.5.0.dev20210106-cp38-cp38-macosx_10_14_x86_64.whl (178.2 MB)\n",
      "\u001b[K     |████████████████████████████████| 178.2 MB 19 kB/s  eta 0:00:01   |█                               | 5.5 MB 4.3 MB/s eta 0:00:40     |███▉                            | 21.1 MB 3.0 MB/s eta 0:00:53     |█████▋                          | 31.4 MB 4.9 MB/s eta 0:00:30     |████████▊                       | 48.3 MB 1.9 MB/s eta 0:01:08     |████████████████                | 89.1 MB 2.4 MB/s eta 0:00:37     |██████████████████▋             | 103.6 MB 3.5 MB/s eta 0:00:22     |██████████████████████▎         | 124.4 MB 2.2 MB/s eta 0:00:25\n",
      "\u001b[?25hRequirement already satisfied: typing-extensions~=3.7.4 in ./opt/anaconda3/lib/python3.8/site-packages (from tf-nightly->tensorflow_federated_nightly) (3.7.4.2)\n",
      "Requirement already satisfied: wrapt~=1.12.1 in ./opt/anaconda3/lib/python3.8/site-packages (from tf-nightly->tensorflow_federated_nightly) (1.12.1)\n",
      "Requirement already satisfied: absl-py~=0.10 in ./opt/anaconda3/lib/python3.8/site-packages (from tensorflow_federated_nightly) (0.11.0)\n",
      "Requirement already satisfied: astunparse~=1.6.3 in ./opt/anaconda3/lib/python3.8/site-packages (from tf-nightly->tensorflow_federated_nightly) (1.6.3)\n",
      "Requirement already satisfied: gast==0.3.3 in ./opt/anaconda3/lib/python3.8/site-packages (from tf-nightly->tensorflow_federated_nightly) (0.3.3)\n",
      "  Downloading tf_nightly-2.5.0.dev20210105-cp38-cp38-macosx_10_14_x86_64.whl (178.1 MB)\n",
      "\u001b[K     |████████████████████████████████| 178.1 MB 5.1 kB/s eta 0:00:011   |█████████▋                      | 53.4 MB 83 kB/s eta 0:25:01     |█████████████▉                  | 76.8 MB 3.0 MB/s eta 0:00:34     |██████████████████████▍         | 124.8 MB 3.4 MB/s eta 0:00:16     |███████████████████████▌        | 130.7 MB 6.6 MB/s eta 0:00:08     |███████████████████████████████▋| 175.6 MB 3.1 MB/s eta 0:00:01\n",
      "\u001b[?25hRequirement already satisfied: typing-extensions~=3.7.4 in ./opt/anaconda3/lib/python3.8/site-packages (from tf-nightly->tensorflow_federated_nightly) (3.7.4.2)\n",
      "Requirement already satisfied: wrapt~=1.12.1 in ./opt/anaconda3/lib/python3.8/site-packages (from tf-nightly->tensorflow_federated_nightly) (1.12.1)\n",
      "Requirement already satisfied: absl-py~=0.10 in ./opt/anaconda3/lib/python3.8/site-packages (from tensorflow_federated_nightly) (0.11.0)\n",
      "Requirement already satisfied: astunparse~=1.6.3 in ./opt/anaconda3/lib/python3.8/site-packages (from tf-nightly->tensorflow_federated_nightly) (1.6.3)\n",
      "Requirement already satisfied: gast==0.3.3 in ./opt/anaconda3/lib/python3.8/site-packages (from tf-nightly->tensorflow_federated_nightly) (0.3.3)\n",
      "  Downloading tf_nightly-2.5.0.dev20210104-cp38-cp38-macosx_10_14_x86_64.whl (178.1 MB)\n",
      "\u001b[K     |████████████████████████████████| 178.1 MB 123 kB/s eta 0:00:011   |██████▍                         | 35.3 MB 7.2 MB/s eta 0:00:20     |██████████████                  | 77.8 MB 5.2 MB/s eta 0:00:20     |██████████████████▉             | 104.6 MB 4.0 MB/s eta 0:00:19     |███████████████████▍            | 107.6 MB 191 kB/s eta 0:06:09     |████████████████████▊           | 115.3 MB 10.1 MB/s eta 0:00:07\n",
      "\u001b[?25hRequirement already satisfied: typing-extensions~=3.7.4 in ./opt/anaconda3/lib/python3.8/site-packages (from tf-nightly->tensorflow_federated_nightly) (3.7.4.2)\n",
      "Requirement already satisfied: wrapt~=1.12.1 in ./opt/anaconda3/lib/python3.8/site-packages (from tf-nightly->tensorflow_federated_nightly) (1.12.1)\n",
      "Requirement already satisfied: absl-py~=0.10 in ./opt/anaconda3/lib/python3.8/site-packages (from tensorflow_federated_nightly) (0.11.0)\n",
      "Requirement already satisfied: astunparse~=1.6.3 in ./opt/anaconda3/lib/python3.8/site-packages (from tf-nightly->tensorflow_federated_nightly) (1.6.3)\n",
      "Requirement already satisfied: gast==0.3.3 in ./opt/anaconda3/lib/python3.8/site-packages (from tf-nightly->tensorflow_federated_nightly) (0.3.3)\n",
      "  Downloading tf_nightly-2.5.0.dev20210103-cp38-cp38-macosx_10_14_x86_64.whl (178.1 MB)\n",
      "\u001b[K     |████████████████████████████████| 178.1 MB 119 kB/s eta 0:00:012  |▍                               | 1.9 MB 2.1 MB/s eta 0:01:24     |███████▌                        | 41.5 MB 3.8 MB/s eta 0:00:36     |███████████                     | 60.6 MB 6.3 MB/s eta 0:00:19     |█████████████▎                  | 73.9 MB 5.3 MB/s eta 0:00:20     |██████████████▌                 | 80.8 MB 3.4 MB/s eta 0:00:29\n",
      "\u001b[?25hRequirement already satisfied: typing-extensions~=3.7.4 in ./opt/anaconda3/lib/python3.8/site-packages (from tf-nightly->tensorflow_federated_nightly) (3.7.4.2)\n",
      "Requirement already satisfied: wrapt~=1.12.1 in ./opt/anaconda3/lib/python3.8/site-packages (from tf-nightly->tensorflow_federated_nightly) (1.12.1)\n",
      "Requirement already satisfied: absl-py~=0.10 in ./opt/anaconda3/lib/python3.8/site-packages (from tensorflow_federated_nightly) (0.11.0)\n",
      "Requirement already satisfied: astunparse~=1.6.3 in ./opt/anaconda3/lib/python3.8/site-packages (from tf-nightly->tensorflow_federated_nightly) (1.6.3)\n",
      "Requirement already satisfied: gast==0.3.3 in ./opt/anaconda3/lib/python3.8/site-packages (from tf-nightly->tensorflow_federated_nightly) (0.3.3)\n",
      "  Downloading tf_nightly-2.5.0.dev20210102-cp38-cp38-macosx_10_14_x86_64.whl (178.1 MB)\n",
      "\u001b[K     |████████████████████████████████| 178.1 MB 1.5 MB/s eta 0:00:01    |████                            | 22.2 MB 5.7 MB/s eta 0:00:28     |██████▌                         | 36.1 MB 6.0 MB/s eta 0:00:24     |███████████████▍                | 85.4 MB 7.2 MB/s eta 0:00:13     |█████████████████▋              | 98.0 MB 575 kB/s eta 0:02:20     |██████████████████████████████▌ | 170.0 MB 5.2 MB/s eta 0:00:02\n",
      "\u001b[?25hRequirement already satisfied: typing-extensions~=3.7.4 in ./opt/anaconda3/lib/python3.8/site-packages (from tf-nightly->tensorflow_federated_nightly) (3.7.4.2)\n",
      "Requirement already satisfied: wrapt~=1.12.1 in ./opt/anaconda3/lib/python3.8/site-packages (from tf-nightly->tensorflow_federated_nightly) (1.12.1)\n",
      "Requirement already satisfied: absl-py~=0.10 in ./opt/anaconda3/lib/python3.8/site-packages (from tensorflow_federated_nightly) (0.11.0)\n",
      "Requirement already satisfied: astunparse~=1.6.3 in ./opt/anaconda3/lib/python3.8/site-packages (from tf-nightly->tensorflow_federated_nightly) (1.6.3)\n",
      "Requirement already satisfied: gast==0.3.3 in ./opt/anaconda3/lib/python3.8/site-packages (from tf-nightly->tensorflow_federated_nightly) (0.3.3)\n",
      "  Downloading tf_nightly-2.5.0.dev20210101-cp38-cp38-macosx_10_14_x86_64.whl (178.1 MB)\n",
      "\u001b[K     |████████████████████████████████| 178.1 MB 116 kB/s eta 0:00:01     |███████████████████████▍        | 130.1 MB 2.5 MB/s eta 0:00:19     |████████████████████████▌       | 136.3 MB 8.2 MB/s eta 0:00:06     |████████████████████████████    | 155.5 MB 2.8 MB/s eta 0:00:09\n",
      "\u001b[?25hRequirement already satisfied: typing-extensions~=3.7.4 in ./opt/anaconda3/lib/python3.8/site-packages (from tf-nightly->tensorflow_federated_nightly) (3.7.4.2)\n",
      "Requirement already satisfied: wrapt~=1.12.1 in ./opt/anaconda3/lib/python3.8/site-packages (from tf-nightly->tensorflow_federated_nightly) (1.12.1)\n",
      "Requirement already satisfied: absl-py~=0.10 in ./opt/anaconda3/lib/python3.8/site-packages (from tensorflow_federated_nightly) (0.11.0)\n",
      "Requirement already satisfied: astunparse~=1.6.3 in ./opt/anaconda3/lib/python3.8/site-packages (from tf-nightly->tensorflow_federated_nightly) (1.6.3)\n",
      "Requirement already satisfied: gast==0.3.3 in ./opt/anaconda3/lib/python3.8/site-packages (from tf-nightly->tensorflow_federated_nightly) (0.3.3)\n"
     ]
    },
    {
     "name": "stdout",
     "output_type": "stream",
     "text": [
      "  Downloading tf_nightly-2.5.0.dev20201231-cp38-cp38-macosx_10_14_x86_64.whl (178.1 MB)\n",
      "\u001b[K     |████████████████████████████████| 178.1 MB 13 kB/s  eta 0:00:01   |█▏                              | 6.2 MB 3.7 MB/s eta 0:00:47     |█████████████████████▊          | 120.6 MB 2.8 MB/s eta 0:00:21     |█████████████████████▉          | 121.8 MB 4.0 MB/s eta 0:00:15     |██████████████████████████      | 144.6 MB 4.1 MB/s eta 0:00:09     |██████████████████████████████  | 167.1 MB 3.5 MB/s eta 0:00:04\n",
      "\u001b[?25hRequirement already satisfied: typing-extensions~=3.7.4 in ./opt/anaconda3/lib/python3.8/site-packages (from tf-nightly->tensorflow_federated_nightly) (3.7.4.2)\n",
      "Requirement already satisfied: wrapt~=1.12.1 in ./opt/anaconda3/lib/python3.8/site-packages (from tf-nightly->tensorflow_federated_nightly) (1.12.1)\n",
      "Requirement already satisfied: absl-py~=0.10 in ./opt/anaconda3/lib/python3.8/site-packages (from tensorflow_federated_nightly) (0.11.0)\n",
      "Requirement already satisfied: astunparse~=1.6.3 in ./opt/anaconda3/lib/python3.8/site-packages (from tf-nightly->tensorflow_federated_nightly) (1.6.3)\n",
      "Requirement already satisfied: gast==0.3.3 in ./opt/anaconda3/lib/python3.8/site-packages (from tf-nightly->tensorflow_federated_nightly) (0.3.3)\n",
      "  Downloading tf_nightly-2.5.0.dev20201230-cp38-cp38-macosx_10_14_x86_64.whl (178.1 MB)\n",
      "\u001b[K     |████████████████████████████████| 178.1 MB 4.8 MB/s eta 0:00:012   |████▍                           | 24.3 MB 6.2 MB/s eta 0:00:26     |████████████████▉               | 93.7 MB 9.9 MB/s eta 0:00:09     |█████████████████               | 94.6 MB 9.9 MB/s eta 0:00:09     |██████████████████▊             | 104.1 MB 3.0 MB/s eta 0:00:25\n",
      "\u001b[?25hRequirement already satisfied: typing-extensions~=3.7.4 in ./opt/anaconda3/lib/python3.8/site-packages (from tf-nightly->tensorflow_federated_nightly) (3.7.4.2)\n",
      "Requirement already satisfied: wrapt~=1.12.1 in ./opt/anaconda3/lib/python3.8/site-packages (from tf-nightly->tensorflow_federated_nightly) (1.12.1)\n",
      "Requirement already satisfied: absl-py~=0.10 in ./opt/anaconda3/lib/python3.8/site-packages (from tensorflow_federated_nightly) (0.11.0)\n",
      "Requirement already satisfied: astunparse~=1.6.3 in ./opt/anaconda3/lib/python3.8/site-packages (from tf-nightly->tensorflow_federated_nightly) (1.6.3)\n",
      "Requirement already satisfied: gast==0.3.3 in ./opt/anaconda3/lib/python3.8/site-packages (from tf-nightly->tensorflow_federated_nightly) (0.3.3)\n",
      "  Downloading tf_nightly-2.5.0.dev20201229-cp38-cp38-macosx_10_14_x86_64.whl (178.0 MB)\n",
      "\u001b[K     |████████████████████████████████| 178.0 MB 34 kB/s  eta 0:00:01    |████▊                           | 26.4 MB 5.2 MB/s eta 0:00:29     |████▉                           | 26.7 MB 5.2 MB/s eta 0:00:29     |█████▍                          | 30.3 MB 3.9 MB/s eta 0:00:38     |██████▎                         | 35.2 MB 4.7 MB/s eta 0:00:31     |█████████████████████▍          | 119.1 MB 8.3 MB/s eta 0:00:08     |████████████████████████▏       | 134.5 MB 2.7 MB/s eta 0:00:17�████████████████████▋      | 142.5 MB 2.1 MB/s eta 0:00:17�████████████████████▋      | 142.7 MB 2.1 MB/s eta 0:00:17�████████████████████▊      | 143.0 MB 2.1 MB/s eta 0:00:17 | 146.2 MB 2.3 MB/s eta 0:00:14 0:00:12 0:00:03��███▍   | 157.8 MB 9.0 MB/s eta 0:00:03\n",
      "\u001b[?25hRequirement already satisfied: typing-extensions~=3.7.4 in ./opt/anaconda3/lib/python3.8/site-packages (from tf-nightly->tensorflow_federated_nightly) (3.7.4.2)\n",
      "Requirement already satisfied: wrapt~=1.12.1 in ./opt/anaconda3/lib/python3.8/site-packages (from tf-nightly->tensorflow_federated_nightly) (1.12.1)\n",
      "Requirement already satisfied: absl-py~=0.10 in ./opt/anaconda3/lib/python3.8/site-packages (from tensorflow_federated_nightly) (0.11.0)\n",
      "Requirement already satisfied: astunparse~=1.6.3 in ./opt/anaconda3/lib/python3.8/site-packages (from tf-nightly->tensorflow_federated_nightly) (1.6.3)\n",
      "Requirement already satisfied: gast==0.3.3 in ./opt/anaconda3/lib/python3.8/site-packages (from tf-nightly->tensorflow_federated_nightly) (0.3.3)\n",
      "  Downloading tf_nightly-2.5.0.dev20201228-cp38-cp38-macosx_10_14_x86_64.whl (177.9 MB)\n",
      "\u001b[K     |████████████████████████████████| 177.9 MB 2.6 MB/s eta 0:00:01eta 0:00:06     |█▎                              | 7.2 MB 7.9 MB/s eta 0:00:22██▏                             | 12.3 MB 3.7 MB/s eta 0:00:46███                             | 16.2 MB 3.7 MB/s eta 0:00:45     |███▌                            | 19.5 MB 3.2 MB/s eta 0:00:50     |███████▍                        | 41.4 MB 3.5 MB/s eta 0:00:39     |█████████▊                      | 54.2 MB 2.5 MB/s eta 0:00:50��▊                   | 70.6 MB 8.6 MB/s eta 0:00:13ta 0:00:13��█                   | 72.7 MB 8.6 MB/s eta 0:00:13     |██████████████▉                 | 82.6 MB 6.9 MB/s eta 0:00:14eta 0:00:14     |█████████████████████▉          | 121.3 MB 962 kB/s eta 0:00:59     |██████████████████████          | 122.8 MB 962 kB/s eta 0:00:58     |████████████████████████▍       | 135.3 MB 162 kB/s eta 0:04:22███████████████       | 139.3 MB 3.6 MB/s eta 0:00:11     |██████████████████████████▏     | 145.4 MB 2.4 MB/s eta 0:00:14     |██████████████████████████▋     | 148.1 MB 3.3 MB/s eta 0:00:10MB/s eta 0:00:13 MB 2.0 MB/s eta 0:00:13     |████████████████████████████    | 155.4 MB 2.0 MB/s eta 0:00:12     |████████████████████████████    | 156.1 MB 2.6 MB/s eta 0:00:09 MB 2.6 MB/s eta 0:00:08    |██████████████████████████████  | 166.9 MB 4.3 MB/s eta 0:00:03████████ | 171.8 MB 1.8 MB/s eta 0:00:04     |████████████████████████████████| 177.9 MB 15 kB/s \n",
      "\u001b[?25hRequirement already satisfied: typing-extensions~=3.7.4 in ./opt/anaconda3/lib/python3.8/site-packages (from tf-nightly->tensorflow_federated_nightly) (3.7.4.2)\n",
      "Requirement already satisfied: wrapt~=1.12.1 in ./opt/anaconda3/lib/python3.8/site-packages (from tf-nightly->tensorflow_federated_nightly) (1.12.1)\n",
      "Requirement already satisfied: absl-py~=0.10 in ./opt/anaconda3/lib/python3.8/site-packages (from tensorflow_federated_nightly) (0.11.0)\n",
      "Requirement already satisfied: astunparse~=1.6.3 in ./opt/anaconda3/lib/python3.8/site-packages (from tf-nightly->tensorflow_federated_nightly) (1.6.3)\n",
      "Requirement already satisfied: gast==0.3.3 in ./opt/anaconda3/lib/python3.8/site-packages (from tf-nightly->tensorflow_federated_nightly) (0.3.3)\n",
      "  Downloading tf_nightly-2.5.0.dev20201227-cp38-cp38-macosx_10_14_x86_64.whl (177.9 MB)\n",
      "\u001b[K     |████████████████████████████████| 177.9 MB 34 kB/s  eta 0:00:012    |▏                               | 819 kB 2.2 MB/s eta 0:01:20[K     |▋                               | 3.3 MB 2.2 MB/s eta 0:01:18     |█████                           | 27.2 MB 168 kB/s eta 0:14:55     |████████████████                | 89.2 MB 17.4 MB/s eta 0:00:06     |████████████████▌               | 92.0 MB 17.4 MB/s eta 0:00:05     |███████████████████████▋        | 131.4 MB 26.0 MB/s eta 0:00:02     |████████████████████████████▍   | 158.1 MB 257 kB/s eta 0:01:17\n",
      "\u001b[?25hRequirement already satisfied: typing-extensions~=3.7.4 in ./opt/anaconda3/lib/python3.8/site-packages (from tf-nightly->tensorflow_federated_nightly) (3.7.4.2)\n",
      "Requirement already satisfied: wrapt~=1.12.1 in ./opt/anaconda3/lib/python3.8/site-packages (from tf-nightly->tensorflow_federated_nightly) (1.12.1)\n",
      "Requirement already satisfied: absl-py~=0.10 in ./opt/anaconda3/lib/python3.8/site-packages (from tensorflow_federated_nightly) (0.11.0)\n",
      "Requirement already satisfied: astunparse~=1.6.3 in ./opt/anaconda3/lib/python3.8/site-packages (from tf-nightly->tensorflow_federated_nightly) (1.6.3)\n",
      "Requirement already satisfied: gast==0.3.3 in ./opt/anaconda3/lib/python3.8/site-packages (from tf-nightly->tensorflow_federated_nightly) (0.3.3)\n",
      "  Downloading tf_nightly-2.5.0.dev20201226-cp38-cp38-macosx_10_14_x86_64.whl (177.9 MB)\n"
     ]
    },
    {
     "name": "stdout",
     "output_type": "stream",
     "text": [
      "\u001b[K     |████████████████████████████████| 177.9 MB 4.1 MB/s eta 0:00:013    |█                               | 5.3 MB 3.9 MB/s eta 0:00:45.6 MB 1.5 MB/s eta 0:01:55     |██▊                             | 15.3 MB 9.9 MB/s eta 0:00:17MB/s eta 0:00:47     |█████▍                          | 29.7 MB 2.6 MB/s eta 0:00:59     |█████▍                          | 30.0 MB 2.6 MB/s eta 0:00:58��█▍                          | 30.1 MB 2.6 MB/s eta 0:00:58     |███████████▎                    | 62.9 MB 4.7 MB/s eta 0:00:25     |██████████████▉                 | 82.6 MB 5.1 MB/s eta 0:00:19     |██████████████████              | 100.6 MB 4.9 MB/s eta 0:00:16��████▋          | 120.0 MB 2.8 MB/s eta 0:00:21��████████████████████▋          | 120.3 MB 2.8 MB/s eta 0:00:21█████████████████▊          | 120.5 MB 2.8 MB/s eta 0:00:21████▎         | 123.7 MB 23.2 MB/s eta 0:00:03        | 125.6 MB 23.2 MB/s eta 0:00:03�█████████████████▋         | 125.7 MB 23.2 MB/s eta 0:00:03| 125.8 MB 23.2 MB/s eta 0:00:038.5 MB 2.8 MB/s eta 0:00:18     |█████████████████████████       | 138.7 MB 2.3 MB/s eta 0:00:17     |███████████████████████████▉    | 154.5 MB 8.8 MB/s eta 0:00:03\n",
      "\u001b[?25hRequirement already satisfied: typing-extensions~=3.7.4 in ./opt/anaconda3/lib/python3.8/site-packages (from tf-nightly->tensorflow_federated_nightly) (3.7.4.2)\n",
      "Requirement already satisfied: wrapt~=1.12.1 in ./opt/anaconda3/lib/python3.8/site-packages (from tf-nightly->tensorflow_federated_nightly) (1.12.1)\n",
      "Requirement already satisfied: absl-py~=0.10 in ./opt/anaconda3/lib/python3.8/site-packages (from tensorflow_federated_nightly) (0.11.0)\n",
      "Requirement already satisfied: astunparse~=1.6.3 in ./opt/anaconda3/lib/python3.8/site-packages (from tf-nightly->tensorflow_federated_nightly) (1.6.3)\n",
      "Requirement already satisfied: gast==0.3.3 in ./opt/anaconda3/lib/python3.8/site-packages (from tf-nightly->tensorflow_federated_nightly) (0.3.3)\n",
      "  Downloading tf_nightly-2.5.0.dev20201225-cp38-cp38-macosx_10_14_x86_64.whl (177.9 MB)\n",
      "\u001b[K     |████████████████████████████████| 177.9 MB 21 kB/s  eta 0:00:015        | 11.3 MB 1.3 MB/s eta 0:02:05     |███████                         | 39.0 MB 3.6 MB/s eta 0:00:39     |███████▏                        | 39.9 MB 3.6 MB/s eta 0:00:39     |██████████████▊                 | 82.0 MB 5.0 MB/s eta 0:00:20     |████████████████▉               | 93.8 MB 3.6 MB/s eta 0:00:24     |█████████████████▏              | 95.2 MB 3.6 MB/s eta 0:00:24     |████████████████████            | 110.9 MB 3.0 MB/s eta 0:00:23     |█████████████████████████▍      | 141.3 MB 3.7 MB/s eta 0:00:11     |███████████████████████████████▌| 175.1 MB 3.4 MB/s eta 0:00:01\n",
      "\u001b[?25hRequirement already satisfied: typing-extensions~=3.7.4 in ./opt/anaconda3/lib/python3.8/site-packages (from tf-nightly->tensorflow_federated_nightly) (3.7.4.2)\n",
      "Requirement already satisfied: wrapt~=1.12.1 in ./opt/anaconda3/lib/python3.8/site-packages (from tf-nightly->tensorflow_federated_nightly) (1.12.1)\n",
      "Requirement already satisfied: absl-py~=0.10 in ./opt/anaconda3/lib/python3.8/site-packages (from tensorflow_federated_nightly) (0.11.0)\n",
      "Requirement already satisfied: astunparse~=1.6.3 in ./opt/anaconda3/lib/python3.8/site-packages (from tf-nightly->tensorflow_federated_nightly) (1.6.3)\n",
      "Requirement already satisfied: gast==0.3.3 in ./opt/anaconda3/lib/python3.8/site-packages (from tf-nightly->tensorflow_federated_nightly) (0.3.3)\n",
      "  Downloading tf_nightly-2.5.0.dev20201224-cp38-cp38-macosx_10_14_x86_64.whl (177.8 MB)\n",
      "\u001b[K     |████████████████████████████████| 177.8 MB 46 kB/s  eta 0:00:01            | 624 kB 2.1 MB/s eta 0:01:252 MB 326 kB/s eta 0:08:40     |██▌                             | 13.9 MB 6.0 MB/s eta 0:00:28     |███████████▊                    | 65.4 MB 1.3 MB/s eta 0:01:30     |████████████████████            | 111.3 MB 2.7 MB/s eta 0:00:26  |████████████████████            | 111.6 MB 2.7 MB/s eta 0:00:25        | 128.5 MB 1.6 MB/s eta 0:00:32��████████████████████▏        | 128.6 MB 1.6 MB/s eta 0:00:32██▏        | 128.7 MB 1.6 MB/s eta 0:00:32��███████▋        | 131.0 MB 2.4 MB/s eta 0:00:20███████████████       | 138.7 MB 747 kB/s eta 0:00:53��█████████████████       | 138.9 MB 747 kB/s eta 0:00:53�████████████████████▍      | 140.9 MB 882 kB/s eta 0:00:42 |██████████████████████████▍     | 146.7 MB 1.1 MB/s eta 0:00:29████████████████████████▍     | 146.8 MB 1.1 MB/s eta 0:00:29kB/s eta 0:02:08 | 148.8 MB 241 kB/s eta 0:02:00 |███████████████████████████     | 150.1 MB 241 kB/s eta 0:01:55 |███████████████████████████     | 150.4 MB 444 kB/s eta 0:01:02��████████▎    | 151.4 MB 444 kB/s eta 0:01:00��███████████████████▏   | 156.6 MB 3.0 MB/s eta 0:00:08��███████████████████▎   | 157.3 MB 1.5 MB/s eta 0:00:14��███████████████████▌   | 158.1 MB 1.5 MB/s eta 0:00:14     |█████████████████████████████   | 161.5 MB 2.4 MB/s eta 0:00:07    |█████████████████████████████▉  | 165.6 MB 3.3 MB/s eta 0:00:04███████▋ | 170.2 MB 1.8 MB/s eta 0:00:05��████████████▍| 174.6 MB 798 kB/s eta 0:00:05��████████████▌| 175.3 MB 1.5 MB/s eta 0:00:02��████████████▉| 177.1 MB 1.5 MB/s eta 0:00:01\n",
      "\u001b[?25hRequirement already satisfied: typing-extensions~=3.7.4 in ./opt/anaconda3/lib/python3.8/site-packages (from tf-nightly->tensorflow_federated_nightly) (3.7.4.2)\n",
      "Requirement already satisfied: wrapt~=1.12.1 in ./opt/anaconda3/lib/python3.8/site-packages (from tf-nightly->tensorflow_federated_nightly) (1.12.1)\n",
      "Requirement already satisfied: absl-py~=0.10 in ./opt/anaconda3/lib/python3.8/site-packages (from tensorflow_federated_nightly) (0.11.0)\n",
      "Requirement already satisfied: astunparse~=1.6.3 in ./opt/anaconda3/lib/python3.8/site-packages (from tf-nightly->tensorflow_federated_nightly) (1.6.3)\n",
      "Requirement already satisfied: gast==0.3.3 in ./opt/anaconda3/lib/python3.8/site-packages (from tf-nightly->tensorflow_federated_nightly) (0.3.3)\n",
      "  Downloading tf_nightly-2.5.0.dev20201223-cp38-cp38-macosx_10_14_x86_64.whl (177.8 MB)\n",
      "\u001b[K     |████████████████████████████████| 177.8 MB 6.6 kB/s eta 0:00:01   |                                | 204 kB 1.9 MB/s eta 0:01:32     |█▏                              | 6.2 MB 4.0 MB/s eta 0:00:43     |█▊                              | 9.5 MB 1.6 MB/s eta 0:01:47     |██▎                             | 12.7 MB 4.3 MB/s eta 0:00:39█                       | 50.0 MB 3.8 MB/s eta 0:00:34     |█████████████████████████▉      | 143.3 MB 146 kB/s eta 0:03:56     |██████████████████████████▎     | 146.2 MB 164 kB/s eta 0:03:12     |█████████████████████████████▎  | 162.4 MB 2.2 MB/s eta 0:00:07     |███████████████████████████████▉| 176.8 MB 2.5 MB/s eta 0:00:01\n",
      "\u001b[?25hRequirement already satisfied: typing-extensions~=3.7.4 in ./opt/anaconda3/lib/python3.8/site-packages (from tf-nightly->tensorflow_federated_nightly) (3.7.4.2)\n",
      "Requirement already satisfied: wrapt~=1.12.1 in ./opt/anaconda3/lib/python3.8/site-packages (from tf-nightly->tensorflow_federated_nightly) (1.12.1)\n",
      "Requirement already satisfied: absl-py~=0.10 in ./opt/anaconda3/lib/python3.8/site-packages (from tensorflow_federated_nightly) (0.11.0)\n",
      "Requirement already satisfied: astunparse~=1.6.3 in ./opt/anaconda3/lib/python3.8/site-packages (from tf-nightly->tensorflow_federated_nightly) (1.6.3)\n",
      "Requirement already satisfied: gast==0.3.3 in ./opt/anaconda3/lib/python3.8/site-packages (from tf-nightly->tensorflow_federated_nightly) (0.3.3)\n",
      "  Downloading tf_nightly-2.5.0.dev20201222-cp38-cp38-macosx_10_14_x86_64.whl (177.8 MB)\n",
      "\u001b[K     |████████████████████████████████| 177.8 MB 53 kB/s  eta 0:00:01    |████████▌                       | 47.1 MB 2.3 MB/s eta 0:00:57     |██████████▎                     | 57.2 MB 262 kB/s eta 0:07:39     |████████████████████▏           | 112.3 MB 2.7 MB/s eta 0:00:25██████████████▌       | 136.0 MB 3.8 MB/s eta 0:00:12     |████████████████████████▋       | 136.6 MB 3.8 MB/s eta 0:00:11 0:00:10 0:00:10��███████████████████▍   | 157.5 MB 7.8 MB/s eta 0:00:03     |████████████████████████████▊   | 159.4 MB 7.8 MB/s eta 0:00:03███████▎ | 168.5 MB 4.7 MB/s eta 0:00:02     |██████████████████████████████▍ | 168.9 MB 1.1 MB/s eta 0:00:09\n",
      "\u001b[?25hRequirement already satisfied: typing-extensions~=3.7.4 in ./opt/anaconda3/lib/python3.8/site-packages (from tf-nightly->tensorflow_federated_nightly) (3.7.4.2)\n",
      "Requirement already satisfied: wrapt~=1.12.1 in ./opt/anaconda3/lib/python3.8/site-packages (from tf-nightly->tensorflow_federated_nightly) (1.12.1)\n",
      "Requirement already satisfied: absl-py~=0.10 in ./opt/anaconda3/lib/python3.8/site-packages (from tensorflow_federated_nightly) (0.11.0)\n",
      "Requirement already satisfied: astunparse~=1.6.3 in ./opt/anaconda3/lib/python3.8/site-packages (from tf-nightly->tensorflow_federated_nightly) (1.6.3)\n",
      "Requirement already satisfied: gast==0.3.3 in ./opt/anaconda3/lib/python3.8/site-packages (from tf-nightly->tensorflow_federated_nightly) (0.3.3)\n"
     ]
    },
    {
     "name": "stdout",
     "output_type": "stream",
     "text": [
      "  Downloading tf_nightly-2.5.0.dev20201217-cp38-cp38-macosx_10_14_x86_64.whl (179.8 MB)\n",
      "\u001b[K     |████████████████████████████████| 179.8 MB 82 kB/s  eta 0:00:015  |█▎                              | 7.2 MB 3.2 MB/s eta 0:00:54     |█▊                              | 9.9 MB 3.0 MB/s eta 0:00:58     |████                            | 22.3 MB 3.7 MB/s eta 0:00:43     |█████▌                          | 30.9 MB 2.6 MB/s eta 0:00:57     |██████████▋                     | 59.4 MB 3.2 MB/s eta 0:00:38     |███████████▌                    | 64.7 MB 2.7 MB/s eta 0:00:43     |██████████████▉                 | 83.2 MB 2.0 MB/s eta 0:00:49 |██████████████▉                 | 83.3 MB 2.0 MB/s eta 0:00:49MB/s eta 0:00:57  | 85.2 MB 1.7 MB/s eta 0:00:57  | 85.7 MB 1.7 MB/s eta 0:00:57��                | 85.8 MB 1.7 MB/s eta 0:00:57     |███████████████▉                | 88.7 MB 1.6 MB/s eta 0:00:57     |███████████████████▏            | 107.9 MB 5.4 MB/s eta 0:00:14     |███████████████████▋            | 110.3 MB 5.4 MB/s eta 0:00:13     |███████████████████████▋        | 132.9 MB 2.7 MB/s eta 0:00:18\n",
      "\u001b[?25hRequirement already satisfied: typing-extensions~=3.7.4 in ./opt/anaconda3/lib/python3.8/site-packages (from tf-nightly->tensorflow_federated_nightly) (3.7.4.2)\n",
      "Requirement already satisfied: wrapt~=1.12.1 in ./opt/anaconda3/lib/python3.8/site-packages (from tf-nightly->tensorflow_federated_nightly) (1.12.1)\n",
      "Requirement already satisfied: absl-py~=0.10 in ./opt/anaconda3/lib/python3.8/site-packages (from tensorflow_federated_nightly) (0.11.0)\n",
      "Requirement already satisfied: astunparse~=1.6.3 in ./opt/anaconda3/lib/python3.8/site-packages (from tf-nightly->tensorflow_federated_nightly) (1.6.3)\n",
      "Requirement already satisfied: gast==0.3.3 in ./opt/anaconda3/lib/python3.8/site-packages (from tf-nightly->tensorflow_federated_nightly) (0.3.3)\n",
      "  Downloading tf_nightly-2.5.0.dev20201216-cp38-cp38-macosx_10_14_x86_64.whl (178.8 MB)\n",
      "\u001b[K     |████████████████████████████████| 178.8 MB 92 kB/s  eta 0:00:01    |████▊                           | 26.4 MB 1.4 MB/s eta 0:01:51     |██████████████████              | 100.7 MB 3.2 MB/s eta 0:00:25     |███████████████████████████▋    | 154.3 MB 2.4 MB/s eta 0:00:11\n",
      "\u001b[?25hRequirement already satisfied: typing-extensions~=3.7.4 in ./opt/anaconda3/lib/python3.8/site-packages (from tf-nightly->tensorflow_federated_nightly) (3.7.4.2)\n",
      "Requirement already satisfied: wrapt~=1.12.1 in ./opt/anaconda3/lib/python3.8/site-packages (from tf-nightly->tensorflow_federated_nightly) (1.12.1)\n",
      "Requirement already satisfied: absl-py~=0.10 in ./opt/anaconda3/lib/python3.8/site-packages (from tensorflow_federated_nightly) (0.11.0)\n",
      "Requirement already satisfied: astunparse~=1.6.3 in ./opt/anaconda3/lib/python3.8/site-packages (from tf-nightly->tensorflow_federated_nightly) (1.6.3)\n",
      "Requirement already satisfied: gast==0.3.3 in ./opt/anaconda3/lib/python3.8/site-packages (from tf-nightly->tensorflow_federated_nightly) (0.3.3)\n",
      "  Downloading tf_nightly-2.5.0.dev20201215-cp38-cp38-macosx_10_14_x86_64.whl (178.7 MB)\n",
      "\u001b[K     |████████████████████████████████| 178.7 MB 44 kB/s  eta 0:00:01   |                                | 389 kB 1.3 MB/s eta 0:02:20     |███████▏                        | 39.7 MB 702 kB/s eta 0:03:18  | 43.8 MB 1.1 MB/s eta 0:02:06     |█████████▌                      | 53.4 MB 3.8 MB/s eta 0:00:33     |██████████▏                     | 57.0 MB 2.1 MB/s eta 0:00:59     |█████████████████▎              | 96.3 MB 2.9 MB/s eta 0:00:29     |█████████████████▉              | 99.7 MB 4.8 MB/s eta 0:00:17     |██████████████████████████▏     | 146.3 MB 2.9 MB/s eta 0:00:12     |██████████████████████████████▌ | 170.6 MB 2.0 MB/s eta 0:00:05\n",
      "\u001b[?25hRequirement already satisfied: typing-extensions~=3.7.4 in ./opt/anaconda3/lib/python3.8/site-packages (from tf-nightly->tensorflow_federated_nightly) (3.7.4.2)\n",
      "Requirement already satisfied: wrapt~=1.12.1 in ./opt/anaconda3/lib/python3.8/site-packages (from tf-nightly->tensorflow_federated_nightly) (1.12.1)\n",
      "Requirement already satisfied: absl-py~=0.10 in ./opt/anaconda3/lib/python3.8/site-packages (from tensorflow_federated_nightly) (0.11.0)\n",
      "Requirement already satisfied: astunparse~=1.6.3 in ./opt/anaconda3/lib/python3.8/site-packages (from tf-nightly->tensorflow_federated_nightly) (1.6.3)\n",
      "Requirement already satisfied: gast==0.3.3 in ./opt/anaconda3/lib/python3.8/site-packages (from tf-nightly->tensorflow_federated_nightly) (0.3.3)\n",
      "  Downloading tf_nightly-2.5.0.dev20201214-cp38-cp38-macosx_10_14_x86_64.whl (178.6 MB)\n",
      "\u001b[K     |████████████████████████████████| 178.6 MB 64 kB/s s eta 0:00:01/s eta 0:00:21MB/s eta 0:00:20     |██████████▎                     | 57.7 MB 1.5 MB/s eta 0:01:22ta 0:00:56     |██████████▉                     | 60.6 MB 2.2 MB/s eta 0:00:55��▏                   | 67.8 MB 808 kB/s eta 0:02:18██▉                   | 71.4 MB 808 kB/s eta 0:02:13     |████████████▉                   | 71.6 MB 1.3 MB/s eta 0:01:23�█████████                  | 78.3 MB 1.3 MB/s eta 0:01:18     |████████████████▊               | 93.2 MB 7.1 MB/s eta 0:00:12  | 93.3 MB 7.1 MB/s eta 0:00:12     |██████████████████              | 100.6 MB 4.0 MB/s eta 0:00:20eta 0:00:09��███████▏        | 129.1 MB 1.2 MB/s eta 0:00:41��███████▋        | 131.7 MB 588 kB/s eta 0:01:200��███████▋        | 132.1 MB 588 kB/s eta 0:01:20a 0:01:19██████████████▉       | 138.9 MB 866 kB/s eta 0:00:46�████████████████████▍      | 142.0 MB 866 kB/s eta 0:00:43�████████████▌      | 142.1 MB 866 kB/s eta 0:00:43�██  | 167.8 MB 2.5 MB/s eta 0:00:05     |██████████████████████████████▌ | 170.1 MB 2.5 MB/s eta 0:00:04\n",
      "\u001b[?25hRequirement already satisfied: typing-extensions~=3.7.4 in ./opt/anaconda3/lib/python3.8/site-packages (from tf-nightly->tensorflow_federated_nightly) (3.7.4.2)\n",
      "Requirement already satisfied: wrapt~=1.12.1 in ./opt/anaconda3/lib/python3.8/site-packages (from tf-nightly->tensorflow_federated_nightly) (1.12.1)\n",
      "Requirement already satisfied: absl-py~=0.10 in ./opt/anaconda3/lib/python3.8/site-packages (from tensorflow_federated_nightly) (0.11.0)\n",
      "Requirement already satisfied: astunparse~=1.6.3 in ./opt/anaconda3/lib/python3.8/site-packages (from tf-nightly->tensorflow_federated_nightly) (1.6.3)\n",
      "Requirement already satisfied: gast==0.3.3 in ./opt/anaconda3/lib/python3.8/site-packages (from tf-nightly->tensorflow_federated_nightly) (0.3.3)\n",
      "  Downloading tf_nightly-2.5.0.dev20201213-cp38-cp38-macosx_10_14_x86_64.whl (178.6 MB)\n"
     ]
    },
    {
     "name": "stdout",
     "output_type": "stream",
     "text": [
      "\u001b[K     |████████████████████████████████| 178.6 MB 49 kB/s  eta 0:00:013█                             | 17.0 MB 2.9 MB/s eta 0:00:57   |███▏                            | 17.6 MB 2.9 MB/s eta 0:00:57ta 0:00:57     |█████                           | 28.3 MB 15.7 MB/s eta 0:00:10     |███████▎                        | 40.4 MB 4.1 MB/s eta 0:00:34  | 64.8 MB 3.2 MB/s eta 0:00:36  | 65.2 MB 3.2 MB/s eta 0:00:36                  | 65.5 MB 3.2 MB/s eta 0:00:36��▏                   | 68.1 MB 1.6 MB/s eta 0:01:10     |████████████▎                   | 68.3 MB 1.6 MB/s eta 0:01:10MB/s eta 0:01:00MB/s eta 0:01:00     |███████████████▌                | 86.4 MB 1.5 MB/s eta 0:01:02     |████████████████▋               | 92.5 MB 4.2 MB/s eta 0:00:21[K     |██████████████████▎             | 102.2 MB 3.0 MB/s eta 0:00:26�████████████▎             | 102.2 MB 3.0 MB/s eta 0:00:26[K     |██████████████████▍             | 102.9 MB 1.1 MB/s eta 0:01:07█████████████▋             | 103.9 MB 1.1 MB/s eta 0:01:06██████████████             | 105.6 MB 2.9 MB/s eta 0:00:26[K     |███████████████████▏            | 106.7 MB 2.9 MB/s eta 0:00:25 | 106.9 MB 2.9 MB/s eta 0:00:25   | 109.0 MB 2.0 MB/s eta 0:00:36     |█████████████████████▍          | 119.5 MB 3.7 MB/s eta 0:00:17     |█████████████████████▊          | 121.4 MB 2.0 MB/s eta 0:00:30     |████████████████████████▍       | 136.1 MB 53.4 MB/s eta 0:00:01███████████████       | 139.4 MB 1.3 MB/s eta 0:00:30�████████████████████▏      | 140.4 MB 1.3 MB/s eta 0:00:29�████████████▏      | 140.4 MB 1.3 MB/s eta 0:00:29��██▊     | 148.9 MB 10.0 MB/s eta 0:00:03 | 151.2 MB 1.1 MB/s eta 0:00:25 MB 1.1 MB/s eta 0:00:25 0:00:22     |████████████████████████████    | 156.4 MB 1.3 MB/s eta 0:00:180:18 0:00:18��████████████▋| 176.6 MB 2.5 MB/s eta 0:00:010:00:01��████████████▊| 177.0 MB 742 kB/s eta 0:00:03��█████████████| 178.4 MB 742 kB/s eta 0:00:01\n",
      "\u001b[?25hRequirement already satisfied: typing-extensions~=3.7.4 in ./opt/anaconda3/lib/python3.8/site-packages (from tf-nightly->tensorflow_federated_nightly) (3.7.4.2)\n",
      "Requirement already satisfied: wrapt~=1.12.1 in ./opt/anaconda3/lib/python3.8/site-packages (from tf-nightly->tensorflow_federated_nightly) (1.12.1)\n",
      "Requirement already satisfied: absl-py~=0.10 in ./opt/anaconda3/lib/python3.8/site-packages (from tensorflow_federated_nightly) (0.11.0)\n",
      "Requirement already satisfied: astunparse~=1.6.3 in ./opt/anaconda3/lib/python3.8/site-packages (from tf-nightly->tensorflow_federated_nightly) (1.6.3)\n",
      "Requirement already satisfied: gast==0.3.3 in ./opt/anaconda3/lib/python3.8/site-packages (from tf-nightly->tensorflow_federated_nightly) (0.3.3)\n",
      "  Downloading tf_nightly-2.5.0.dev20201212-cp38-cp38-macosx_10_14_x86_64.whl (178.6 MB)\n",
      "\u001b[K     |████████████████████████████████| 178.6 MB 60 kB/s  eta 0:00:012   |████████▋                       | 48.3 MB 2.8 MB/s eta 0:00:48     |███████████▊                    | 65.5 MB 1.4 MB/s eta 0:01:23     |██████████████████████▍         | 124.9 MB 2.3 MB/s eta 0:00:24     |████████████████████████        | 133.9 MB 2.2 MB/s eta 0:00:21�████████████████████▍      | 141.7 MB 6.4 MB/s eta 0:00:06�████████████▍      | 141.8 MB 1.3 MB/s eta 0:00:28�████████████████████▋      | 143.1 MB 1.3 MB/s eta 0:00:27�████████████████████▊      | 143.8 MB 1.3 MB/s eta 0:00:27�████████████▉      | 143.9 MB 1.3 MB/s eta 0:00:27 |██████████████████████████▌     | 147.9 MB 2.1 MB/s eta 0:00:15 |██████████████████████████▊     | 149.2 MB 2.1 MB/s eta 0:00:14 0:00:13MB/s eta 0:00:13��█████████████▋    | 153.9 MB 14.3 MB/s eta 0:00:02MB/s eta 0:00:02████████████████████    | 155.7 MB 14.3 MB/s eta 0:00:02 MB 9.3 MB/s eta 0:00:03 MB 9.3 MB/s eta 0:00:02��███████████████  | 167.2 MB 1.5 MB/s eta 0:00:08█████████████████████████████  | 167.3 MB 1.5 MB/s eta 0:00:08     |██████████████████████████████▍ | 169.7 MB 1.1 MB/s eta 0:00:09\n",
      "\u001b[?25hRequirement already satisfied: typing-extensions~=3.7.4 in ./opt/anaconda3/lib/python3.8/site-packages (from tf-nightly->tensorflow_federated_nightly) (3.7.4.2)\n",
      "Requirement already satisfied: wrapt~=1.12.1 in ./opt/anaconda3/lib/python3.8/site-packages (from tf-nightly->tensorflow_federated_nightly) (1.12.1)\n",
      "Requirement already satisfied: absl-py~=0.10 in ./opt/anaconda3/lib/python3.8/site-packages (from tensorflow_federated_nightly) (0.11.0)\n",
      "Requirement already satisfied: astunparse~=1.6.3 in ./opt/anaconda3/lib/python3.8/site-packages (from tf-nightly->tensorflow_federated_nightly) (1.6.3)\n",
      "Requirement already satisfied: gast==0.3.3 in ./opt/anaconda3/lib/python3.8/site-packages (from tf-nightly->tensorflow_federated_nightly) (0.3.3)\n",
      "  Downloading tf_nightly-2.5.0.dev20201211-cp38-cp38-macosx_10_14_x86_64.whl (178.6 MB)\n",
      "\u001b[K     |████████████████████████████████| 178.6 MB 110 kB/s eta 0:00:01             | 3.3 MB 3.6 MB/s eta 0:00:50  | 42.2 MB 2.4 MB/s eta 0:00:58��                        | 42.4 MB 2.4 MB/s eta 0:00:58��████▋                       | 48.1 MB 1.6 MB/s eta 0:01:23     |█████████                       | 49.7 MB 1.6 MB/s eta 0:01:22ta 0:00:41     |████████████▋                   | 70.4 MB 1.8 MB/s eta 0:01:00�████████▎                  | 74.4 MB 2.0 MB/s eta 0:00:52     |█████████████▌                  | 75.3 MB 1.4 MB/s eta 0:01:12     |███████████████▊                | 87.7 MB 1.3 MB/s eta 0:01:11     |████████████████                | 89.2 MB 1.3 MB/s eta 0:01:07  |███████████████████▍            | 108.2 MB 1.3 MB/s eta 0:00:53     |█████████████████████▉          | 121.7 MB 828 kB/s eta 0:01:09     |█████████████████████▉          | 121.9 MB 828 kB/s eta 0:01:09     |███████████████████████         | 128.8 MB 1.1 MB/s eta 0:00:46     |████████████████████████▏       | 134.9 MB 1.3 MB/s eta 0:00:35     |████████████████████████▋       | 137.2 MB 1.5 MB/s eta 0:00:28 |███████████████████████████     | 151.0 MB 1.5 MB/s eta 0:00:19\n",
      "\u001b[?25hRequirement already satisfied: typing-extensions~=3.7.4 in ./opt/anaconda3/lib/python3.8/site-packages (from tf-nightly->tensorflow_federated_nightly) (3.7.4.2)\n",
      "Requirement already satisfied: wrapt~=1.12.1 in ./opt/anaconda3/lib/python3.8/site-packages (from tf-nightly->tensorflow_federated_nightly) (1.12.1)\n",
      "Requirement already satisfied: absl-py~=0.10 in ./opt/anaconda3/lib/python3.8/site-packages (from tensorflow_federated_nightly) (0.11.0)\n",
      "Requirement already satisfied: astunparse~=1.6.3 in ./opt/anaconda3/lib/python3.8/site-packages (from tf-nightly->tensorflow_federated_nightly) (1.6.3)\n",
      "Requirement already satisfied: gast==0.3.3 in ./opt/anaconda3/lib/python3.8/site-packages (from tf-nightly->tensorflow_federated_nightly) (0.3.3)\n",
      "Requirement already satisfied: flatbuffers in ./opt/anaconda3/lib/python3.8/site-packages (from jaxlib~=0.1.55->tensorflow_federated_nightly) (1.12)\n",
      "Requirement already satisfied: six in ./opt/anaconda3/lib/python3.8/site-packages (from absl-py~=0.10->tensorflow_federated_nightly) (1.15.0)\n",
      "Requirement already satisfied: wheel~=0.35 in ./opt/anaconda3/lib/python3.8/site-packages (from tf-nightly->tensorflow_federated_nightly) (0.36.2)\n",
      "Requirement already satisfied: h5py~=2.10.0 in ./opt/anaconda3/lib/python3.8/site-packages (from tensorflow_federated_nightly) (2.10.0)\n",
      "Requirement already satisfied: tb-nightly~=2.5.0.a in ./opt/anaconda3/lib/python3.8/site-packages (from tf-nightly->tensorflow_federated_nightly) (2.5.0a20210127)\n",
      "Requirement already satisfied: protobuf>=3.9.2 in ./opt/anaconda3/lib/python3.8/site-packages (from tf-nightly->tensorflow_federated_nightly) (3.14.0)\n",
      "Requirement already satisfied: grpcio~=1.32.0 in ./opt/anaconda3/lib/python3.8/site-packages (from tensorflow_federated_nightly) (1.32.0)\n",
      "Requirement already satisfied: termcolor~=1.1.0 in ./opt/anaconda3/lib/python3.8/site-packages (from tf-nightly->tensorflow_federated_nightly) (1.1.0)\n",
      "Requirement already satisfied: google-pasta~=0.2 in ./opt/anaconda3/lib/python3.8/site-packages (from tf-nightly->tensorflow_federated_nightly) (0.2.0)\n",
      "Requirement already satisfied: tf-estimator-nightly~=2.5.0.dev in ./opt/anaconda3/lib/python3.8/site-packages (from tf-nightly->tensorflow_federated_nightly) (2.5.0.dev2021012801)\n",
      "Requirement already satisfied: keras-preprocessing~=1.1.2 in ./opt/anaconda3/lib/python3.8/site-packages (from tf-nightly->tensorflow_federated_nightly) (1.1.2)\n",
      "Requirement already satisfied: opt_einsum in ./opt/anaconda3/lib/python3.8/site-packages (from jax~=0.2.8->tensorflow_federated_nightly) (3.3.0)\n",
      "Requirement already satisfied: numpy~=1.19.2 in ./opt/anaconda3/lib/python3.8/site-packages (from tensorflow_federated_nightly) (1.19.5)\n",
      "Requirement already satisfied: six in ./opt/anaconda3/lib/python3.8/site-packages (from absl-py~=0.10->tensorflow_federated_nightly) (1.15.0)\n",
      "Requirement already satisfied: wheel~=0.35 in ./opt/anaconda3/lib/python3.8/site-packages (from tf-nightly->tensorflow_federated_nightly) (0.36.2)\n",
      "Requirement already satisfied: six in ./opt/anaconda3/lib/python3.8/site-packages (from absl-py~=0.10->tensorflow_federated_nightly) (1.15.0)\n",
      "Requirement already satisfied: numpy~=1.19.2 in ./opt/anaconda3/lib/python3.8/site-packages (from tensorflow_federated_nightly) (1.19.5)\n",
      "Requirement already satisfied: six in ./opt/anaconda3/lib/python3.8/site-packages (from absl-py~=0.10->tensorflow_federated_nightly) (1.15.0)\n"
     ]
    },
    {
     "name": "stdout",
     "output_type": "stream",
     "text": [
      "Requirement already satisfied: six in ./opt/anaconda3/lib/python3.8/site-packages (from absl-py~=0.10->tensorflow_federated_nightly) (1.15.0)\n",
      "Requirement already satisfied: requests<3,>=2.21.0 in ./opt/anaconda3/lib/python3.8/site-packages (from tb-nightly~=2.5.0.a->tf-nightly->tensorflow_federated_nightly) (2.24.0)\n",
      "Requirement already satisfied: protobuf>=3.9.2 in ./opt/anaconda3/lib/python3.8/site-packages (from tf-nightly->tensorflow_federated_nightly) (3.14.0)\n",
      "Requirement already satisfied: werkzeug>=0.11.15 in ./opt/anaconda3/lib/python3.8/site-packages (from tb-nightly~=2.5.0.a->tf-nightly->tensorflow_federated_nightly) (1.0.1)\n",
      "Requirement already satisfied: google-auth<2,>=1.6.3 in ./opt/anaconda3/lib/python3.8/site-packages (from tb-nightly~=2.5.0.a->tf-nightly->tensorflow_federated_nightly) (1.24.0)\n",
      "Requirement already satisfied: markdown>=2.6.8 in ./opt/anaconda3/lib/python3.8/site-packages (from tb-nightly~=2.5.0.a->tf-nightly->tensorflow_federated_nightly) (3.3.3)\n",
      "Requirement already satisfied: google-auth-oauthlib<0.5,>=0.4.1 in ./opt/anaconda3/lib/python3.8/site-packages (from tb-nightly~=2.5.0.a->tf-nightly->tensorflow_federated_nightly) (0.4.2)\n",
      "Requirement already satisfied: grpcio~=1.32.0 in ./opt/anaconda3/lib/python3.8/site-packages (from tensorflow_federated_nightly) (1.32.0)\n",
      "Requirement already satisfied: setuptools>=41.0.0 in ./opt/anaconda3/lib/python3.8/site-packages (from tb-nightly~=2.5.0.a->tf-nightly->tensorflow_federated_nightly) (49.2.0.post20200714)\n",
      "Requirement already satisfied: absl-py~=0.10 in ./opt/anaconda3/lib/python3.8/site-packages (from tensorflow_federated_nightly) (0.11.0)\n",
      "Requirement already satisfied: tensorboard-plugin-wit>=1.6.0 in ./opt/anaconda3/lib/python3.8/site-packages (from tb-nightly~=2.5.0.a->tf-nightly->tensorflow_federated_nightly) (1.8.0)\n",
      "Requirement already satisfied: wheel~=0.35 in ./opt/anaconda3/lib/python3.8/site-packages (from tf-nightly->tensorflow_federated_nightly) (0.36.2)\n",
      "Requirement already satisfied: numpy~=1.19.2 in ./opt/anaconda3/lib/python3.8/site-packages (from tensorflow_federated_nightly) (1.19.5)\n",
      "Requirement already satisfied: six in ./opt/anaconda3/lib/python3.8/site-packages (from absl-py~=0.10->tensorflow_federated_nightly) (1.15.0)\n",
      "Requirement already satisfied: rsa<5,>=3.1.4 in ./opt/anaconda3/lib/python3.8/site-packages (from google-auth<2,>=1.6.3->tb-nightly~=2.5.0.a->tf-nightly->tensorflow_federated_nightly) (4.7)\n",
      "Requirement already satisfied: pyasn1-modules>=0.2.1 in ./opt/anaconda3/lib/python3.8/site-packages (from google-auth<2,>=1.6.3->tb-nightly~=2.5.0.a->tf-nightly->tensorflow_federated_nightly) (0.2.8)\n",
      "Requirement already satisfied: setuptools>=41.0.0 in ./opt/anaconda3/lib/python3.8/site-packages (from tb-nightly~=2.5.0.a->tf-nightly->tensorflow_federated_nightly) (49.2.0.post20200714)\n",
      "Requirement already satisfied: google-auth<2,>=1.6.3 in ./opt/anaconda3/lib/python3.8/site-packages (from tb-nightly~=2.5.0.a->tf-nightly->tensorflow_federated_nightly) (1.24.0)\n",
      "Requirement already satisfied: requests-oauthlib>=0.7.0 in ./opt/anaconda3/lib/python3.8/site-packages (from google-auth-oauthlib<0.5,>=0.4.1->tb-nightly~=2.5.0.a->tf-nightly->tensorflow_federated_nightly) (1.3.0)\n",
      "Requirement already satisfied: pyasn1<0.5.0,>=0.4.6 in ./opt/anaconda3/lib/python3.8/site-packages (from pyasn1-modules>=0.2.1->google-auth<2,>=1.6.3->tb-nightly~=2.5.0.a->tf-nightly->tensorflow_federated_nightly) (0.4.8)\n",
      "Requirement already satisfied: urllib3!=1.25.0,!=1.25.1,<1.26,>=1.21.1 in ./opt/anaconda3/lib/python3.8/site-packages (from requests<3,>=2.21.0->tb-nightly~=2.5.0.a->tf-nightly->tensorflow_federated_nightly) (1.25.9)\n",
      "Requirement already satisfied: idna<3,>=2.5 in ./opt/anaconda3/lib/python3.8/site-packages (from requests<3,>=2.21.0->tb-nightly~=2.5.0.a->tf-nightly->tensorflow_federated_nightly) (2.10)\n",
      "Requirement already satisfied: chardet<4,>=3.0.2 in ./opt/anaconda3/lib/python3.8/site-packages (from requests<3,>=2.21.0->tb-nightly~=2.5.0.a->tf-nightly->tensorflow_federated_nightly) (3.0.4)\n",
      "Requirement already satisfied: certifi>=2017.4.17 in ./opt/anaconda3/lib/python3.8/site-packages (from requests<3,>=2.21.0->tb-nightly~=2.5.0.a->tf-nightly->tensorflow_federated_nightly) (2020.6.20)\n",
      "Requirement already satisfied: requests<3,>=2.21.0 in ./opt/anaconda3/lib/python3.8/site-packages (from tb-nightly~=2.5.0.a->tf-nightly->tensorflow_federated_nightly) (2.24.0)\n",
      "Requirement already satisfied: oauthlib>=3.0.0 in ./opt/anaconda3/lib/python3.8/site-packages (from requests-oauthlib>=0.7.0->google-auth-oauthlib<0.5,>=0.4.1->tb-nightly~=2.5.0.a->tf-nightly->tensorflow_federated_nightly) (3.1.0)\n",
      "Requirement already satisfied: pyasn1<0.5.0,>=0.4.6 in ./opt/anaconda3/lib/python3.8/site-packages (from pyasn1-modules>=0.2.1->google-auth<2,>=1.6.3->tb-nightly~=2.5.0.a->tf-nightly->tensorflow_federated_nightly) (0.4.8)\n",
      "Collecting tfa-nightly\n",
      "  Downloading tfa_nightly-0.13.0.dev20210125221948-cp38-cp38-macosx_10_13_x86_64.whl (520 kB)\n",
      "\u001b[K     |████████████████████████████████| 520 kB 1.4 MB/s eta 0:00:01\n",
      "\u001b[?25hCollecting typeguard>=2.7\n",
      "  Downloading typeguard-2.10.0-py3-none-any.whl (16 kB)\n",
      "Building wheels for collected packages: jax, portpicker, retrying\n",
      "  Building wheel for jax (setup.py) ... \u001b[?25ldone\n",
      "\u001b[?25h  Created wheel for jax: filename=jax-0.2.9-py3-none-any.whl size=635070 sha256=7c9c729d4fc6088ec74b0d050e2cff1416fbafd8c2bc49fac3ab5697106a75ce\n",
      "  Stored in directory: /Users/bananaiselite/Library/Caches/pip/wheels/f2/0c/2b/3d72aae4236fc37b5ca6354dc2d25771249a69b648733b7a0d\n",
      "  Building wheel for portpicker (setup.py) ... \u001b[?25ldone\n",
      "\u001b[?25h  Created wheel for portpicker: filename=portpicker-1.3.1-py3-none-any.whl size=13664 sha256=6b166b70818319b0c0587e1c97ff7ebca80b8140a70bb6c35ece37259bfa3de1\n",
      "  Stored in directory: /Users/bananaiselite/Library/Caches/pip/wheels/79/41/b5/c922618972ef3ad0bfa030d39016537cd9f915918bd72b8bbe\n",
      "  Building wheel for retrying (setup.py) ... \u001b[?25ldone\n",
      "\u001b[?25h  Created wheel for retrying: filename=retrying-1.3.3-py3-none-any.whl size=11429 sha256=6560ebc549d59ae81a62962b88cf8d55b3874fe3a6dc4d56e8ce903c1117219d\n",
      "  Stored in directory: /Users/bananaiselite/Library/Caches/pip/wheels/c4/a7/48/0a434133f6d56e878ca511c0e6c38326907c0792f67b476e56\n",
      "Successfully built jax portpicker retrying\n",
      "Installing collected packages: cachetools, typeguard, dm-tree, tfa-nightly, tf-nightly, tensorflow-privacy, tensorflow-model-optimization, semantic-version, retrying, portpicker, jaxlib, jax, tensorflow-federated-nightly\n",
      "  Attempting uninstall: cachetools\n",
      "    Found existing installation: cachetools 4.2.1\n",
      "    Uninstalling cachetools-4.2.1:\n",
      "      Successfully uninstalled cachetools-4.2.1\n",
      "  Attempting uninstall: tf-nightly\n",
      "    Found existing installation: tf-nightly 2.5.0.dev20210112\n",
      "    Uninstalling tf-nightly-2.5.0.dev20210112:\n",
      "      Successfully uninstalled tf-nightly-2.5.0.dev20210112\n",
      "Successfully installed cachetools-3.1.1 dm-tree-0.1.5 jax-0.2.9 jaxlib-0.1.59 portpicker-1.3.1 retrying-1.3.3 semantic-version-2.8.5 tensorflow-federated-nightly-0.17.0.dev20210128 tensorflow-model-optimization-0.5.0 tensorflow-privacy-0.5.1 tf-nightly-2.5.0.dev20201211 tfa-nightly-0.13.0.dev20210125221948 typeguard-2.10.0\n",
      "\u001b[33mWARNING: You are using pip version 20.3.1; however, version 21.0 is available.\n",
      "You should consider upgrading via the '/Users/bananaiselite/opt/anaconda3/bin/python -m pip install --upgrade pip' command.\u001b[0m\n",
      "Collecting nest_asyncio\n",
      "  Downloading nest_asyncio-1.5.1-py3-none-any.whl (5.0 kB)\n",
      "Installing collected packages: nest-asyncio\n",
      "Successfully installed nest-asyncio-1.5.1\n",
      "\u001b[33mWARNING: You are using pip version 20.3.1; however, version 21.0 is available.\n",
      "You should consider upgrading via the '/Users/bananaiselite/opt/anaconda3/bin/python -m pip install --upgrade pip' command.\u001b[0m\n"
     ]
    }
   ],
   "source": [
    "!pip install --upgrade tensorflow_federated_nightly\n",
    "!pip install --upgrade nest_asyncio"
   ]
  },
  {
   "cell_type": "code",
   "execution_count": 10,
   "metadata": {},
   "outputs": [],
   "source": [
    "import numpy as np\n",
    "from tensorflow.keras.models import Sequential\n",
    "from tensorflow.keras.layers import Dense, Flatten, Conv2D, MaxPool2D, Activation\n",
    "from keras.utils import np_utils\n",
    "from keras.datasets import mnist\n",
    "import matplotlib.pyplot as plt"
   ]
  },
  {
   "cell_type": "markdown",
   "metadata": {},
   "source": [
    "# 錯誤想法\n",
    "\n",
    "一開始，我想說我有多個標籤，那麼就使用 Softmax 來預測每個 Label 的機率如何？然而，我胡亂試的結果，恰恰好是不可行的。\n",
    "\n"
   ]
  },
  {
   "cell_type": "markdown",
   "metadata": {},
   "source": [
    "這次，我在 One-Hot 的 Label 後面又加上了一項數值：如果 Label 的答案大於 5，那麼我就標 1；反之，我就標 0。\n",
    "\n",
    "這樣一來，我不僅要預測前面的分類，還要判斷最後是否大於 5，形成了多標籤分類。"
   ]
  },
  {
   "cell_type": "code",
   "execution_count": 20,
   "metadata": {},
   "outputs": [],
   "source": [
    "# Mnist Dataset\n",
    "#(n_samples, height, width, channels)\n",
    "(X_train, Y_train), (X_test, Y_test) = mnist.load_data()\n",
    "x_train = X_train.reshape(60000, 28, 28, 1)/255\n",
    "x_test = X_test.reshape(10000, 28, 28, 1)/255\n",
    "\n",
    "#onehot coding\n",
    "y_train = np_utils.to_categorical(Y_train).astype(int).tolist()\n",
    "y_test = np_utils.to_categorical(Y_test).astype(int).tolist()"
   ]
  },
  {
   "cell_type": "code",
   "execution_count": 21,
   "metadata": {},
   "outputs": [],
   "source": [
    "for n in range(len(y_train)):\n",
    "    if y_train[n].index(1) < 5:\n",
    "        y_train[n].append(0)\n",
    "    else:\n",
    "        y_train[n].append(1)\n",
    "\n",
    "for n in range(len(y_test)):\n",
    "    if y_test[n].index(1) < 5:\n",
    "        y_test[n].append(0)\n",
    "    else:\n",
    "        y_test[n].append(1)"
   ]
  },
  {
   "cell_type": "code",
   "execution_count": 22,
   "metadata": {},
   "outputs": [],
   "source": [
    "y_train = np.array(y_train)\n",
    "y_test = np.array(y_test)"
   ]
  },
  {
   "cell_type": "code",
   "execution_count": 23,
   "metadata": {},
   "outputs": [
    {
     "data": {
      "text/plain": [
       "((10000, 11), (60000, 11))"
      ]
     },
     "execution_count": 23,
     "metadata": {},
     "output_type": "execute_result"
    }
   ],
   "source": [
    "y_test.shape,y_train.shape"
   ]
  },
  {
   "cell_type": "code",
   "execution_count": 26,
   "metadata": {},
   "outputs": [
    {
     "name": "stdout",
     "output_type": "stream",
     "text": [
      "Model: \"sequential_3\"\n",
      "_________________________________________________________________\n",
      "Layer (type)                 Output Shape              Param #   \n",
      "=================================================================\n",
      "conv2d_3 (Conv2D)            (None, 28, 28, 32)        320       \n",
      "_________________________________________________________________\n",
      "max_pooling2d_3 (MaxPooling2 (None, 14, 14, 32)        0         \n",
      "_________________________________________________________________\n",
      "flatten_3 (Flatten)          (None, 6272)              0         \n",
      "_________________________________________________________________\n",
      "dense_6 (Dense)              (None, 256)               1605888   \n",
      "_________________________________________________________________\n",
      "dense_7 (Dense)              (None, 11)                2827      \n",
      "=================================================================\n",
      "Total params: 1,609,035\n",
      "Trainable params: 1,609,035\n",
      "Non-trainable params: 0\n",
      "_________________________________________________________________\n",
      "None\n"
     ]
    }
   ],
   "source": [
    "# Model Structure\n",
    "model = Sequential()\n",
    "model.add(Conv2D(filters=32, kernel_size=3, input_shape=(28, 28, 1), activation='relu', padding='same')) #28*28\n",
    "model.add(MaxPool2D(pool_size=2, data_format='channels_last'))#14*14\n",
    "model.add(Flatten())\n",
    "model.add(Dense(256, activation='relu'))\n",
    "model.add(Dense(11, activation='softmax'))\n",
    "print(model.summary())"
   ]
  },
  {
   "cell_type": "code",
   "execution_count": 27,
   "metadata": {},
   "outputs": [
    {
     "name": "stdout",
     "output_type": "stream",
     "text": [
      "Epoch 1/10\n",
      "938/938 [==============================] - 27s 28ms/step - loss: 0.0956 - accuracy: 0.6039\n",
      "Epoch 2/10\n",
      "938/938 [==============================] - 27s 28ms/step - loss: 0.0166 - accuracy: 0.7042\n",
      "Epoch 3/10\n",
      "938/938 [==============================] - 26s 28ms/step - loss: 0.0102 - accuracy: 0.7130\n",
      "Epoch 4/10\n",
      "938/938 [==============================] - 26s 28ms/step - loss: 0.0070 - accuracy: 0.6944\n",
      "Epoch 5/10\n",
      "938/938 [==============================] - 26s 28ms/step - loss: 0.0050 - accuracy: 0.6918\n",
      "Epoch 6/10\n",
      "938/938 [==============================] - 27s 29ms/step - loss: 0.0036 - accuracy: 0.7171\n",
      "Epoch 7/10\n",
      "938/938 [==============================] - 27s 28ms/step - loss: 0.0025 - accuracy: 0.7006\n",
      "Epoch 8/10\n",
      "938/938 [==============================] - 26s 28ms/step - loss: 0.0020 - accuracy: 0.6888\n",
      "Epoch 9/10\n",
      "938/938 [==============================] - 26s 28ms/step - loss: 0.0013 - accuracy: 0.6967\n",
      "Epoch 10/10\n",
      "938/938 [==============================] - 27s 29ms/step - loss: 0.0013 - accuracy: 0.6889\n"
     ]
    },
    {
     "data": {
      "text/plain": [
       "<tensorflow.python.keras.callbacks.History at 0x7f8e6cefd460>"
      ]
     },
     "execution_count": 27,
     "metadata": {},
     "output_type": "execute_result"
    }
   ],
   "source": [
    "# Train\n",
    "model.compile(loss='binary_crossentropy', optimizer='adam', metrics=['accuracy'])\n",
    "model.fit(x_train, y_train, epochs=10, batch_size=64, verbose=1)"
   ]
  },
  {
   "cell_type": "code",
   "execution_count": 28,
   "metadata": {},
   "outputs": [
    {
     "name": "stdout",
     "output_type": "stream",
     "text": [
      "Answer: 9\n"
     ]
    },
    {
     "data": {
      "image/png": "[encoded data removed]",
      "text/plain": [
       "<Figure size 432x288 with 1 Axes>"
      ]
     },
     "metadata": {
      "needs_background": "light"
     },
     "output_type": "display_data"
    },
    {
     "data": {
      "image/png": "[encoded data removed]",
      "text/plain": [
       "<Figure size 432x288 with 1 Axes>"
      ]
     },
     "metadata": {
      "needs_background": "light"
     },
     "output_type": "display_data"
    }
   ],
   "source": [
    "def image_predict(model, n):\n",
    "    predict = model.predict(x_test)\n",
    "    print('Answer:', Y_test[n])\n",
    "\n",
    "    plt.plot(predict[n])\n",
    "    plt.show()\n",
    "\n",
    "    plt.imshow(X_test[n], cmap='gray')\n",
    "    plt.show()\n",
    "\n",
    "\n",
    "if __name__ == '__main__':\n",
    "    image_predict(model, 9)"
   ]
  },
  {
   "cell_type": "markdown",
   "metadata": {},
   "source": [
    "乍看之下， Accuracy 很高啊，看起來 softmax 多標籤分類的機率值也很準確，分別為表示數字為『9』以及最後標記為『大於 5 的情況』為 1。\n",
    "\n",
    "乍看之下都很正確，但我想了想，就發現了不妙的地方。\n",
    "\n",
    "我雖然拿 MNIST 來測試多標籤分類，但我真正要完成的標籤分類有非常非常多項啊！我難道該設定一個『閥值』來判斷我的資料是否真的具有某個『標籤』？\n",
    "\n",
    "況且，每個資料的標籤數量並不一致，有的可能只有一個標籤，有的可能一口氣有十個標籤。\n",
    "\n",
    "這樣一來，我到底該怎麼設定閥值？\n",
    "\n",
    "所以我發現我錯誤的地方了。我想要的，是每個 label 都具有各自獨立的機率值，判斷我的資料是否真的具有某個標籤。\n",
    "\n",
    "所以，我需要的其實不是 softmax，而是 sigmoid。"
   ]
  },
  {
   "cell_type": "markdown",
   "metadata": {},
   "source": [
    "# Sigmoid"
   ]
  },
  {
   "cell_type": "code",
   "execution_count": 34,
   "metadata": {},
   "outputs": [
    {
     "name": "stdout",
     "output_type": "stream",
     "text": [
      "Model: \"sequential_7\"\n",
      "_________________________________________________________________\n",
      "Layer (type)                 Output Shape              Param #   \n",
      "=================================================================\n",
      "conv2d_7 (Conv2D)            (None, 28, 28, 32)        320       \n",
      "_________________________________________________________________\n",
      "max_pooling2d_7 (MaxPooling2 (None, 14, 14, 32)        0         \n",
      "_________________________________________________________________\n",
      "flatten_6 (Flatten)          (None, 6272)              0         \n",
      "_________________________________________________________________\n",
      "dense_12 (Dense)             (None, 256)               1605888   \n",
      "_________________________________________________________________\n",
      "dense_13 (Dense)             (None, 11)                2827      \n",
      "=================================================================\n",
      "Total params: 1,609,035\n",
      "Trainable params: 1,609,035\n",
      "Non-trainable params: 0\n",
      "_________________________________________________________________\n",
      "None\n",
      "Epoch 1/10\n",
      "938/938 [==============================] - 30s 31ms/step - loss: 0.0996 - accuracy: 0.5865\n",
      "Epoch 2/10\n",
      "938/938 [==============================] - 27s 28ms/step - loss: 0.0181 - accuracy: 0.6738\n",
      "Epoch 3/10\n",
      "938/938 [==============================] - 30s 32ms/step - loss: 0.0108 - accuracy: 0.6983\n",
      "Epoch 4/10\n",
      "938/938 [==============================] - 26s 28ms/step - loss: 0.0081 - accuracy: 0.6989\n",
      "Epoch 5/10\n",
      "938/938 [==============================] - 26s 27ms/step - loss: 0.0056 - accuracy: 0.6982\n",
      "Epoch 6/10\n",
      "938/938 [==============================] - 27s 29ms/step - loss: 0.0039 - accuracy: 0.7052\n",
      "Epoch 7/10\n",
      "938/938 [==============================] - 29s 31ms/step - loss: 0.0029 - accuracy: 0.6972\n",
      "Epoch 8/10\n",
      "938/938 [==============================] - 28s 30ms/step - loss: 0.0022 - accuracy: 0.6952\n",
      "Epoch 9/10\n",
      "938/938 [==============================] - 27s 29ms/step - loss: 0.0016 - accuracy: 0.6928\n",
      "Epoch 10/10\n",
      "938/938 [==============================] - 27s 29ms/step - loss: 0.0014 - accuracy: 0.6883\n",
      "313/313 [==============================] - 2s 5ms/step - loss: 0.0123 - accuracy: 0.6680\n",
      "Test:\n",
      "Loss: 0.012274806387722492\n",
      "Accuracy: 0.6679999828338623\n"
     ]
    }
   ],
   "source": [
    "import numpy as np\n",
    "from tensorflow.keras.models import Sequential,load_model\n",
    "from tensorflow.keras.layers import Dense, Flatten, Conv2D, MaxPool2D, Activation\n",
    "from keras.utils import np_utils\n",
    "from keras.datasets import mnist\n",
    "import matplotlib.pyplot as plt\n",
    "\n",
    "\n",
    "# Mnist Dataset\n",
    "(X_train, Y_train), (X_test, Y_test) = mnist.load_data()\n",
    "x_train = X_train.reshape(60000, 28, 28, 1)/255\n",
    "x_test = X_test.reshape(10000, 28, 28, 1)/255\n",
    "\n",
    "y_train = np_utils.to_categorical(Y_train).astype(int).tolist()\n",
    "y_test = np_utils.to_categorical(Y_test).astype(int).tolist()\n",
    "\n",
    "\n",
    "for n in range(len(y_train)):\n",
    "    if y_train[n].index(1) < 5:\n",
    "        y_train[n].append(0)\n",
    "    else:\n",
    "        y_train[n].append(1)\n",
    "\n",
    "for n in range(len(y_test)):\n",
    "    if y_test[n].index(1) < 5:\n",
    "        y_test[n].append(0)\n",
    "    else:\n",
    "        y_test[n].append(1)\n",
    "\n",
    "\n",
    "y_train = np.array(y_train)\n",
    "y_test = np.array(y_test)\n",
    "\n",
    "\n",
    "# Model Structure\n",
    "model = Sequential()\n",
    "model.add(Conv2D(filters=32, kernel_size=3, input_shape=(28, 28, 1), activation='relu', padding='same'))\n",
    "model.add(MaxPool2D(pool_size=2, data_format='channels_last'))\n",
    "model.add(Flatten())\n",
    "model.add(Dense(256, activation='relu'))\n",
    "model.add(Dense(11, activation='sigmoid'))\n",
    "print(model.summary())\n",
    "\n",
    "# Train\n",
    "model.compile(loss='binary_crossentropy', optimizer='adam', metrics=['accuracy'])\n",
    "model.fit(x_train, y_train, epochs=10, batch_size=64, verbose=1)\n",
    "\n",
    "# Test\n",
    "loss, accuracy = model.evaluate(x_test, y_test)\n",
    "print('Test:')\n",
    "print('Loss: %s\\nAccuracy: %s' % (loss, accuracy))\n",
    "\n",
    "# Save model\n",
    "model.save('./CNN_Mnist.h5')\n",
    "\n",
    "# Load Model\n",
    "model = load_model('./CNN_Mnist.h5')\n"
   ]
  },
  {
   "cell_type": "code",
   "execution_count": 35,
   "metadata": {},
   "outputs": [
    {
     "name": "stdout",
     "output_type": "stream",
     "text": [
      "Answer: 9\n"
     ]
    },
    {
     "data": {
      "image/png": "[encoded data removed]",
      "text/plain": [
       "<Figure size 432x288 with 1 Axes>"
      ]
     },
     "metadata": {
      "needs_background": "light"
     },
     "output_type": "display_data"
    },
    {
     "data": {
      "image/png": "[encoded data removed]",
      "text/plain": [
       "<Figure size 432x288 with 1 Axes>"
      ]
     },
     "metadata": {
      "needs_background": "light"
     },
     "output_type": "display_data"
    }
   ],
   "source": [
    "# Display\n",
    "def image_predict(model, n):\n",
    "    predict = model.predict(x_test)\n",
    "    print('Answer:', Y_test[n])\n",
    "\n",
    "    plt.plot(predict[n])\n",
    "    plt.show()\n",
    "\n",
    "    plt.imshow(X_test[n], cmap='gray')\n",
    "    plt.show()\n",
    "\n",
    "\n",
    "if __name__ == '__main__':\n",
    "    image_predict(model, 9)"
   ]
  }
 ],
 "metadata": {
  "kernelspec": {
   "display_name": "Python 3",
   "language": "python",
   "name": "python3"
  },
  "language_info": {
   "codemirror_mode": {
    "name": "ipython",
    "version": 3
   },
   "file_extension": ".py",
   "mimetype": "text/x-python",
   "name": "python",
   "nbconvert_exporter": "python",
   "pygments_lexer": "ipython3",
   "version": "3.8.3"
  }
 },
 "nbformat": 4,
 "nbformat_minor": 2
}

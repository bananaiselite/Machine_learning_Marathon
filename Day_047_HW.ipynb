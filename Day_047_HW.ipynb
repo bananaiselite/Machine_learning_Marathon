{
 "cells": [
  {
   "cell_type": "markdown",
   "metadata": {},
   "source": [
    "## [作業重點]\n",
    "了解如何使用 Sklearn 中的 hyper-parameter search 找出最佳的超參數"
   ]
  },
  {
   "cell_type": "markdown",
   "metadata": {},
   "source": [
    "### 作業\n",
    "請使用不同的資料集，並使用 hyper-parameter search 的方式，看能不能找出最佳的超參數組合"
   ]
  },
  {
   "cell_type": "code",
   "execution_count": 1,
   "metadata": {},
   "outputs": [],
   "source": [
    "from sklearn import datasets, metrics\n",
    "from sklearn.ensemble import GradientBoostingClassifier\n",
    "from sklearn.model_selection import train_test_split"
   ]
  },
  {
   "cell_type": "code",
   "execution_count": 2,
   "metadata": {},
   "outputs": [],
   "source": [
    "digits = datasets.load_digits()\n",
    "\n",
    "x_train, x_test, y_train, y_test = train_test_split(digits.data, digits.target, test_size=0.25, random_state=4)\n",
    "\n",
    "# 建立模型\n",
    "gbc = GradientBoostingClassifier()\n",
    "\n",
    "# 訓練模型\n",
    "gbc.fit(x_train, y_train)\n",
    "\n",
    "# 預測測試集\n",
    "y_pred = gbc.predict(x_test)"
   ]
  },
  {
   "cell_type": "code",
   "execution_count": 3,
   "metadata": {},
   "outputs": [
    {
     "name": "stdout",
     "output_type": "stream",
     "text": [
      "Acuuracy:  0.9644444444444444\n"
     ]
    }
   ],
   "source": [
    "acc = metrics.accuracy_score(y_test, y_pred)\n",
    "print(\"Acuuracy: \", acc)"
   ]
  },
  {
   "cell_type": "code",
   "execution_count": 4,
   "metadata": {},
   "outputs": [
    {
     "data": {
      "text/plain": [
       "100"
      ]
     },
     "execution_count": 4,
     "metadata": {},
     "output_type": "execute_result"
    }
   ],
   "source": [
    "gbc.n_estimators"
   ]
  },
  {
   "cell_type": "code",
   "execution_count": 13,
   "metadata": {},
   "outputs": [
    {
     "data": {
      "text/plain": [
       "64"
      ]
     },
     "execution_count": 13,
     "metadata": {},
     "output_type": "execute_result"
    }
   ],
   "source": [
    "len(digits.feature_names)"
   ]
  },
  {
   "cell_type": "markdown",
   "metadata": {},
   "source": [
    "我調參數的測略是這樣的，先找出大一點learning rate(>0.1)，再從影響力大的參數開始調"
   ]
  },
  {
   "cell_type": "code",
   "execution_count": 5,
   "metadata": {},
   "outputs": [],
   "source": [
    "import numpy as np\n",
    "score = []\n",
    "for i in np.linspace(0.1, 0.500 , 21):\n",
    "    gbc = GradientBoostingClassifier(learning_rate = 1 )\n",
    "    gbc.fit(x_train, y_train)\n",
    "    temp = gbc.score(x_test, y_test)\n",
    "    score.append(temp)"
   ]
  },
  {
   "cell_type": "code",
   "execution_count": 6,
   "metadata": {},
   "outputs": [
    {
     "data": {
      "image/png": "[encoded data removed]",
      "text/plain": [
       "<Figure size 432x288 with 1 Axes>"
      ]
     },
     "metadata": {
      "needs_background": "light"
     },
     "output_type": "display_data"
    }
   ],
   "source": [
    "import matplotlib.pyplot as plt\n",
    "plt.plot(np.linspace(0.01, 0.500 , 21),score ,color = 'r')\n",
    "plt.xlabel('leaning_rate'),plt.ylabel('score')\n",
    "plt.show()"
   ]
  },
  {
   "cell_type": "code",
   "execution_count": 7,
   "metadata": {},
   "outputs": [
    {
     "name": "stdout",
     "output_type": "stream",
     "text": [
      "best learning rate: 0.108 \n",
      "max score: 0.9733333333333334\n"
     ]
    }
   ],
   "source": [
    "print('best learning rate:',np.linspace(0.01, 0.500 , 21)[score.index(max(score))], '\\nmax score:',max(score))"
   ]
  },
  {
   "cell_type": "markdown",
   "metadata": {},
   "source": [
    "為了獲得最優的參數，我們先設定一些初始值，如下：\n",
    "\n",
    "* min_samples_split = 10：這個值得設定通常在樣本量的0.5-1%之間，但如果是不平衡樣本，值可以在設置的低一些\n",
    "* min_samples_leaf = 4 :可根據直覺設置，這個參數的目的是用於防止過擬合，但是遇到不平衡數據時，可以考慮設置較低一些的值\n",
    "* max_depth = 8 : 可以基於樣本量和特徵量設置在（5-8）左右\n",
    "* max_features = ‘sqrt’ :看心情\n",
    "* subsample = 0.8 : 這個是通常初始化的值 "
   ]
  },
  {
   "cell_type": "code",
   "execution_count": 9,
   "metadata": {},
   "outputs": [
    {
     "data": {
      "text/plain": [
       "GridSearchCV(cv=5,\n",
       "             estimator=GradientBoostingClassifier(learning_rate=0.108,\n",
       "                                                  max_depth=8,\n",
       "                                                  max_features='sqrt',\n",
       "                                                  min_samples_leaf=4,\n",
       "                                                  min_samples_split=10,\n",
       "                                                  random_state=10,\n",
       "                                                  subsample=0.8),\n",
       "             n_jobs=-1, param_grid={'n_estimators': range(20, 81, 10)})"
      ]
     },
     "execution_count": 9,
     "metadata": {},
     "output_type": "execute_result"
    }
   ],
   "source": [
    "#從影響力最大的n_estimators開始\n",
    "from sklearn.model_selection import GridSearchCV\n",
    "param_test1 = {'n_estimators':range(20,81,10)}\n",
    "gsearch1 = GridSearchCV(estimator = GradientBoostingClassifier(learning_rate=0.108, min_samples_split=10,min_samples_leaf=4,max_depth=8,max_features='sqrt',subsample=0.8,random_state=10), \n",
    "param_grid = param_test1,n_jobs=-1, cv=5)\n",
    "gsearch1.fit(x_train, y_train)"
   ]
  },
  {
   "cell_type": "code",
   "execution_count": 10,
   "metadata": {},
   "outputs": [
    {
     "data": {
      "text/plain": [
       "({'n_estimators': 60}, 0.9799531873881315)"
      ]
     },
     "execution_count": 10,
     "metadata": {},
     "output_type": "execute_result"
    }
   ],
   "source": [
    "gsearch1.best_params_, gsearch1.best_score_"
   ]
  },
  {
   "cell_type": "code",
   "execution_count": 11,
   "metadata": {},
   "outputs": [
    {
     "data": {
      "text/plain": [
       "({'max_depth': 11}, 0.9754922208453808)"
      ]
     },
     "execution_count": 11,
     "metadata": {},
     "output_type": "execute_result"
    }
   ],
   "source": [
    "#再來是max_depth\n",
    "param_test2 = {'max_depth':range(5,16,2)}\n",
    "gsearch2 = GridSearchCV(estimator = GradientBoostingClassifier(learning_rate=0.108, n_estimators=60, max_features='sqrt', subsample=0.8, random_state=10), \n",
    "param_grid = param_test2,n_jobs=-1, cv=5)\n",
    "gsearch2.fit(x_train, y_train)\n",
    "gsearch2.best_params_, gsearch2.best_score_"
   ]
  },
  {
   "cell_type": "markdown",
   "metadata": {},
   "source": [
    "**調整min_samples_leaf**\n",
    "\n",
    "範圍10~100，步長5\n",
    "\n",
    "**調整min_samples_splitf**\n",
    "\n",
    "設置一個較大的min_samples_split，範圍4-100,步長3"
   ]
  },
  {
   "cell_type": "code",
   "execution_count": 16,
   "metadata": {},
   "outputs": [
    {
     "data": {
      "text/plain": [
       "({'min_samples_leaf': 13, 'min_samples_split': 10}, 0.9814346688696132)"
      ]
     },
     "execution_count": 16,
     "metadata": {},
     "output_type": "execute_result"
    }
   ],
   "source": [
    "param_test3 = {'min_samples_split':range(10,100,5), 'min_samples_leaf':range(4,100,3)}\n",
    "gsearch3 = GridSearchCV(estimator = GradientBoostingClassifier(learning_rate=0.108, n_estimators=60, max_depth=11, max_features='sqrt', subsample=0.8, random_state=10), \n",
    "param_grid = param_test3,n_jobs=-1, cv=5)\n",
    "gsearch3.fit(x_train, y_train)\n",
    "gsearch3.best_params_, gsearch3.best_score_"
   ]
  },
  {
   "cell_type": "code",
   "execution_count": 21,
   "metadata": {},
   "outputs": [
    {
     "data": {
      "text/plain": [
       "({'max_features': 8}, 0.9814346688696132)"
      ]
     },
     "execution_count": 21,
     "metadata": {},
     "output_type": "execute_result"
    }
   ],
   "source": [
    "#max_features\n",
    "param_test4 = {'max_features':range(5,51,3)}\n",
    "gsearch4 = GridSearchCV(estimator = GradientBoostingClassifier(learning_rate=0.108, n_estimators=60,max_depth=11, min_samples_leaf=13, min_samples_split=10, subsample=0.8, random_state=10), \n",
    "                        param_grid = param_test4, n_jobs = -1, cv=5)\n",
    "gsearch4.fit(x_train, y_train)\n",
    "gsearch4.best_params_, gsearch4.best_score_"
   ]
  },
  {
   "cell_type": "code",
   "execution_count": 22,
   "metadata": {},
   "outputs": [
    {
     "data": {
      "text/plain": [
       "({'subsample': 0.8}, 0.9814346688696132)"
      ]
     },
     "execution_count": 22,
     "metadata": {},
     "output_type": "execute_result"
    }
   ],
   "source": [
    "#subsample\n",
    "param_test5 = {'subsample':[0.6,0.7,0.75,0.8,0.85,0.9]}\n",
    "gsearch5 = GridSearchCV(estimator = GradientBoostingClassifier(learning_rate=0.108, n_estimators= 60,max_depth=11, min_samples_leaf=13, min_samples_split=10, random_state=10,max_features=8),\n",
    "param_grid = param_test5,n_jobs=-1, cv=5)\n",
    "gsearch5.fit(x_train, y_train)\n",
    "gsearch5.best_params_, gsearch5.best_score_"
   ]
  },
  {
   "cell_type": "code",
   "execution_count": 24,
   "metadata": {},
   "outputs": [
    {
     "name": "stdout",
     "output_type": "stream",
     "text": [
      "train score:1.0\n",
      "test score:0.9822222222222222\n"
     ]
    }
   ],
   "source": [
    "gbc =GradientBoostingClassifier(learning_rate=0.108\n",
    "                                , n_estimators= 60\n",
    "                                ,max_depth=11\n",
    "                                ,min_samples_split=10\n",
    "                                , min_samples_leaf=13\n",
    "                                , subsample=0.8\n",
    "                                , random_state=10\n",
    "                                ,max_features=8)\n",
    "gbc.fit(x_train, y_train)\n",
    "\n",
    "print(f'train score:{gbc.score(x_train, y_train)}')\n",
    "print(f'test score:{gbc.score(x_test, y_test)}')"
   ]
  }
 ],
 "metadata": {
  "kernelspec": {
   "display_name": "Python 3",
   "language": "python",
   "name": "python3"
  },
  "language_info": {
   "codemirror_mode": {
    "name": "ipython",
    "version": 3
   },
   "file_extension": ".py",
   "mimetype": "text/x-python",
   "name": "python",
   "nbconvert_exporter": "python",
   "pygments_lexer": "ipython3",
   "version": "3.8.3"
  }
 },
 "nbformat": 4,
 "nbformat_minor": 2
}

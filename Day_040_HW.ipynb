{
 "cells": [
  {
   "cell_type": "markdown",
   "metadata": {},
   "source": [
    "## [作業重點]\n",
    "使用 Sklearn 中的 Lasso, Ridge 模型，來訓練各種資料集，務必了解送進去模型訓練的**資料型態**為何，也請了解模型中各項參數的意義。\n",
    "\n",
    "機器學習的模型非常多種，但要訓練的資料多半有固定的格式，確保你了解訓練資料的格式為何，這樣在應用新模型時，就能夠最快的上手開始訓練！"
   ]
  },
  {
   "cell_type": "markdown",
   "metadata": {},
   "source": [
    "# 練習時間\n",
    "試著使用 sklearn datasets 的其他資料集 (boston, ...)，來訓練自己的線性迴歸模型，並加上適當的正則化來觀察訓練情形。"
   ]
  },
  {
   "cell_type": "markdown",
   "metadata": {},
   "source": [
    "**boston**"
   ]
  },
  {
   "cell_type": "code",
   "execution_count": 2,
   "metadata": {},
   "outputs": [],
   "source": [
    "from sklearn.datasets import load_boston\n",
    "from sklearn import linear_model\n",
    "from sklearn.model_selection import train_test_split\n",
    "from sklearn.metrics import mean_squared_error, r2_score\n",
    "import numpy as np\n",
    "import matplotlib.pyplot as plt"
   ]
  },
  {
   "cell_type": "code",
   "execution_count": 3,
   "metadata": {},
   "outputs": [],
   "source": [
    "boston = load_boston()\n",
    "X = boston.data\n",
    "y = boston.target"
   ]
  },
  {
   "cell_type": "code",
   "execution_count": 4,
   "metadata": {},
   "outputs": [],
   "source": [
    "X_train, X_test, Y_train, Y_test = train_test_split(X, y, test_size =0.3, random_state= 200 )"
   ]
  },
  {
   "cell_type": "code",
   "execution_count": 14,
   "metadata": {},
   "outputs": [
    {
     "data": {
      "text/plain": [
       "array([ 0.1  ,  0.301,  0.502,  0.703,  0.904,  1.105,  1.306,  1.507,\n",
       "        1.708,  1.909,  2.11 ,  2.311,  2.512,  2.713,  2.914,  3.115,\n",
       "        3.316,  3.517,  3.718,  3.919,  4.12 ,  4.321,  4.522,  4.723,\n",
       "        4.924,  5.125,  5.326,  5.527,  5.728,  5.929,  6.13 ,  6.331,\n",
       "        6.532,  6.733,  6.934,  7.135,  7.336,  7.537,  7.738,  7.939,\n",
       "        8.14 ,  8.341,  8.542,  8.743,  8.944,  9.145,  9.346,  9.547,\n",
       "        9.748,  9.949, 10.15 , 10.351, 10.552, 10.753, 10.954, 11.155,\n",
       "       11.356, 11.557, 11.758, 11.959, 12.16 , 12.361, 12.562, 12.763,\n",
       "       12.964, 13.165, 13.366, 13.567, 13.768, 13.969, 14.17 , 14.371,\n",
       "       14.572, 14.773, 14.974, 15.175, 15.376, 15.577, 15.778, 15.979,\n",
       "       16.18 , 16.381, 16.582, 16.783, 16.984, 17.185, 17.386, 17.587,\n",
       "       17.788, 17.989, 18.19 , 18.391, 18.592, 18.793, 18.994, 19.195,\n",
       "       19.396, 19.597, 19.798, 19.999])"
      ]
     },
     "execution_count": 14,
     "metadata": {},
     "output_type": "execute_result"
    }
   ],
   "source": [
    "np.linspace(0.1, 20.2, 100,endpoint=False)"
   ]
  },
  {
   "cell_type": "code",
   "execution_count": 15,
   "metadata": {},
   "outputs": [],
   "source": [
    "mse_score = []\n",
    "for i in np.linspace(0.1, 20.2, 100,endpoint=False):\n",
    "    lasso = linear_model.Lasso(alpha=i)\n",
    "    lasso.fit(X_train, Y_train)\n",
    "    ypred = lasso.predict(X_test)\n",
    "    MSE = mean_squared_error(Y_test, ypred)\n",
    "    mse_score.append(MSE)"
   ]
  },
  {
   "cell_type": "code",
   "execution_count": 17,
   "metadata": {},
   "outputs": [
    {
     "data": {
      "image/png": "[encoded data removed]",
      "text/plain": [
       "<Figure size 432x288 with 1 Axes>"
      ]
     },
     "metadata": {
      "needs_background": "light"
     },
     "output_type": "display_data"
    }
   ],
   "source": [
    "plt.xlabel('alpha'), plt.ylabel('MSE')\n",
    "plt.plot(np.linspace(0.1, 20.2, 100,endpoint=False), mse_score, color=\"r\")\n",
    "plt.show()"
   ]
  },
  {
   "cell_type": "markdown",
   "metadata": {},
   "source": [
    "看得出來本來的模型就預測效果不錯，不需要特地加上正則化，alpha越高也導致MSE越高"
   ]
  }
 ],
 "metadata": {
  "kernelspec": {
   "display_name": "Python 3",
   "language": "python",
   "name": "python3"
  },
  "language_info": {
   "codemirror_mode": {
    "name": "ipython",
    "version": 3
   },
   "file_extension": ".py",
   "mimetype": "text/x-python",
   "name": "python",
   "nbconvert_exporter": "python",
   "pygments_lexer": "ipython3",
   "version": "3.8.3"
  }
 },
 "nbformat": 4,
 "nbformat_minor": 2
}

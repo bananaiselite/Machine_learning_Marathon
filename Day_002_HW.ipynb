{
 "cells": [
  {
   "cell_type": "markdown",
   "metadata": {},
   "source": [
    "## [作業目標]\n",
    "了解機器學習適合應用的領域與範疇。"
   ]
  },
  {
   "cell_type": "markdown",
   "metadata": {},
   "source": [
    "## [作業重點]\n",
    "透過瞭解機器學習的運作方式，找出非常適用機器學習應用的領域及其原因"
   ]
  },
  {
   "cell_type": "markdown",
   "metadata": {},
   "source": [
    "## 作業\n",
    "請找出一個你認為機器學習可以發光發熱的領域並闡述原因? "
   ]
  },
  {
   "cell_type": "markdown",
   "metadata": {},
   "source": [
    "機器學習現在面臨很大一個困境，資料不足，如果沒有足夠的有效資料，就很難train出好的model,即使眾所期望的one-shot learning就目前來看仍處於萌芽的階段，所以就現階段來說，如果能夠做到unsupervised learning是最好的，GAN就是近期在unsupervised出現的一顆發光發熱的新星，可以利用GAN生成的假資料去增加深度學習訓練的廣度，模擬未想像到的情況，甚至可以取代簡單的作畫，作曲等等，因此我覺得GAN是一塊很值得投入研究的領域。"
   ]
  }
 ],
 "metadata": {
  "kernelspec": {
   "display_name": "Python 3",
   "language": "python",
   "name": "python3"
  },
  "language_info": {
   "codemirror_mode": {
    "name": "ipython",
    "version": 3
   },
   "file_extension": ".py",
   "mimetype": "text/x-python",
   "name": "python",
   "nbconvert_exporter": "python",
   "pygments_lexer": "ipython3",
   "version": "3.8.3"
  }
 },
 "nbformat": 4,
 "nbformat_minor": 2
}

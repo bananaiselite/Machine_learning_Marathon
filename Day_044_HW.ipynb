{
 "cells": [
  {
   "cell_type": "markdown",
   "metadata": {},
   "source": [
    "## [作業重點]\n",
    "確保你了解隨機森林模型中每個超參數的意義，並觀察調整超參數對結果的影響"
   ]
  },
  {
   "cell_type": "markdown",
   "metadata": {},
   "source": [
    "## 作業\n",
    "\n",
    "1. 試著調整 RandomForestClassifier(...) 中的參數，並觀察是否會改變結果？\n",
    "2. 改用其他資料集 (boston, wine)，並與回歸模型與決策樹的結果進行比較"
   ]
  },
  {
   "cell_type": "code",
   "execution_count": 1,
   "metadata": {},
   "outputs": [],
   "source": [
    "from sklearn.ensemble import RandomForestClassifier\n",
    "from sklearn.datasets import load_wine\n",
    "from sklearn.model_selection import train_test_split\n",
    "from sklearn.model_selection import cross_val_score\n",
    "import matplotlib.pyplot as plt\n",
    "import numpy as np"
   ]
  },
  {
   "cell_type": "code",
   "execution_count": 2,
   "metadata": {},
   "outputs": [],
   "source": [
    "wine = load_wine()\n",
    "X_train, X_test, Y_train, Y_test = train_test_split(wine.data,wine.target,test_size=0.3)"
   ]
  },
  {
   "cell_type": "code",
   "execution_count": 4,
   "metadata": {},
   "outputs": [
    {
     "name": "stdout",
     "output_type": "stream",
     "text": [
      "Random Forest:0.9814814814814815\n"
     ]
    }
   ],
   "source": [
    "\n",
    "rfc = RandomForestClassifier(random_state=0)\n",
    " \n",
    "rfc = rfc.fit(X_train,Y_train)\n",
    "\n",
    "score_r = rfc.score(X_test,Y_test)\n",
    "\n",
    "print(f\"Random Forest:{score_r}\")"
   ]
  },
  {
   "cell_type": "code",
   "execution_count": 6,
   "metadata": {},
   "outputs": [
    {
     "data": {
      "image/png": "[encoded data removed]",
      "text/plain": [
       "<Figure size 432x288 with 1 Axes>"
      ]
     },
     "metadata": {
      "needs_background": "light"
     },
     "output_type": "display_data"
    }
   ],
   "source": [
    "#總共切割十份(cv=10),每次取一份做測試集，剩下九份做訓練集\n",
    "#交叉驗證來觀察模型穩定性\n",
    "rfc = RandomForestClassifier(n_estimators=25)\n",
    "rfc_s = cross_val_score(rfc,wine.data,wine.target,cv=10)\n",
    "\n",
    "plt.plot(range(1,11),rfc_s)\n",
    "\n",
    "plt.show()"
   ]
  },
  {
   "cell_type": "code",
   "execution_count": 10,
   "metadata": {},
   "outputs": [
    {
     "name": "stdout",
     "output_type": "stream",
     "text": [
      "Accuracy:  0.9814814814814815\n"
     ]
    }
   ],
   "source": [
    "from sklearn import metrics\n",
    "rfc.fit(X_train, Y_train)\n",
    "y_pred = rfc.predict(X_test)\n",
    "acc = metrics.accuracy_score(Y_test, y_pred)\n",
    "print(\"Accuracy: \", acc)"
   ]
  },
  {
   "cell_type": "code",
   "execution_count": 12,
   "metadata": {},
   "outputs": [
    {
     "data": {
      "text/plain": [
       "['alcohol',\n",
       " 'malic_acid',\n",
       " 'ash',\n",
       " 'alcalinity_of_ash',\n",
       " 'magnesium',\n",
       " 'total_phenols',\n",
       " 'flavanoids',\n",
       " 'nonflavanoid_phenols',\n",
       " 'proanthocyanins',\n",
       " 'color_intensity',\n",
       " 'hue',\n",
       " 'od280/od315_of_diluted_wines',\n",
       " 'proline']"
      ]
     },
     "execution_count": 12,
     "metadata": {},
     "output_type": "execute_result"
    }
   ],
   "source": [
    "wine.feature_names"
   ]
  },
  {
   "cell_type": "code",
   "execution_count": 13,
   "metadata": {},
   "outputs": [
    {
     "data": {
      "text/plain": [
       "array([0.1133019 , 0.05126647, 0.01896581, 0.0104602 , 0.02972745,\n",
       "       0.07194722, 0.13961242, 0.01255426, 0.03691937, 0.16871965,\n",
       "       0.05565261, 0.12829971, 0.16257293])"
      ]
     },
     "execution_count": 13,
     "metadata": {},
     "output_type": "execute_result"
    }
   ],
   "source": [
    "rfc.feature_importances_"
   ]
  },
  {
   "cell_type": "code",
   "execution_count": 17,
   "metadata": {},
   "outputs": [
    {
     "name": "stdout",
     "output_type": "stream",
     "text": [
      "feature:alcohol\n",
      "importance:0.11330190083603968\n",
      "\n",
      "feature:malic_acid\n",
      "importance:0.051266466451841554\n",
      "\n",
      "feature:ash\n",
      "importance:0.018965810273730847\n",
      "\n",
      "feature:alcalinity_of_ash\n",
      "importance:0.010460201776008232\n",
      "\n",
      "feature:magnesium\n",
      "importance:0.029727454716844126\n",
      "\n",
      "feature:total_phenols\n",
      "importance:0.07194721867747977\n",
      "\n",
      "feature:flavanoids\n",
      "importance:0.1396124194465044\n",
      "\n",
      "feature:nonflavanoid_phenols\n",
      "importance:0.012554262676519176\n",
      "\n",
      "feature:proanthocyanins\n",
      "importance:0.036919369464265474\n",
      "\n",
      "feature:color_intensity\n",
      "importance:0.16871964724313043\n",
      "\n",
      "feature:hue\n",
      "importance:0.055652613869922304\n",
      "\n",
      "feature:od280/od315_of_diluted_wines\n",
      "importance:0.12829970514393368\n",
      "\n",
      "feature:proline\n",
      "importance:0.16257292942378043\n",
      "\n"
     ]
    }
   ],
   "source": [
    "for feature, importance in zip(wine.feature_names, rfc.feature_importances_):\n",
    "    print(f'feature:{feature}\\nimportance:{importance}\\n')"
   ]
  },
  {
   "cell_type": "code",
   "execution_count": 11,
   "metadata": {},
   "outputs": [
    {
     "name": "stdout",
     "output_type": "stream",
     "text": [
      "在25棵樹上，共有54個index\n"
     ]
    }
   ],
   "source": [
    "print(f'在{rfc.apply(X_test).shape[1]}棵樹上，共有{rfc.apply(X_test).shape[0]}個index')"
   ]
  }
 ],
 "metadata": {
  "kernelspec": {
   "display_name": "Python 3",
   "language": "python",
   "name": "python3"
  },
  "language_info": {
   "codemirror_mode": {
    "name": "ipython",
    "version": 3
   },
   "file_extension": ".py",
   "mimetype": "text/x-python",
   "name": "python",
   "nbconvert_exporter": "python",
   "pygments_lexer": "ipython3",
   "version": "3.8.3"
  }
 },
 "nbformat": 4,
 "nbformat_minor": 2
}

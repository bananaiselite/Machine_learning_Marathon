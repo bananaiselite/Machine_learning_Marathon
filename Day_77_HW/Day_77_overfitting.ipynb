{
 "cells": [
  {
   "cell_type": "markdown",
   "metadata": {},
   "source": [
    "## 範例重點\n",
    "* 學會從 Keras 內建函式取得資料\n",
    "* 能夠建立簡易的深度學習模型\n",
    "* 觀察並了解 Overfit 現象"
   ]
  },
  {
   "cell_type": "code",
   "execution_count": 6,
   "metadata": {},
   "outputs": [],
   "source": [
    "import os\n",
    "import tensorflow.keras as keras\n",
    "\n",
    "# 本範例不需使用 GPU, 將 GPU 設定為 \"無\"\n",
    "os.environ[\"CUDA_VISIBLE_DEVICES\"] = \"\""
   ]
  },
  {
   "cell_type": "code",
   "execution_count": 7,
   "metadata": {},
   "outputs": [],
   "source": [
    "# 從 Keras 的內建功能中，取得 train 與 test 資料集\n",
    "train, test = keras.datasets.cifar10.load_data()"
   ]
  },
  {
   "cell_type": "code",
   "execution_count": 8,
   "metadata": {},
   "outputs": [],
   "source": [
    "# 將 X 與 Y 獨立放進變數\n",
    "x_train, y_train = train\n",
    "x_test, y_test = test\n",
    "# 資料前處理 - 標準化\n",
    "x_train = x_train / 255.\n",
    "x_test = x_test / 255.\n",
    "\n",
    "# 將資料從圖形 (RGB) 轉為向量 (Single Vector)\n",
    "x_train = x_train.reshape((len(x_train), -1))\n",
    "x_test = x_test.reshape((len(x_test), -1))\n",
    "\n",
    "# 將目標轉為 one-hot encoding\n",
    "y_train = keras.utils.to_categorical(y_train, num_classes=10)\n",
    "y_test = keras.utils.to_categorical(y_test, num_classes=10)"
   ]
  },
  {
   "cell_type": "code",
   "execution_count": 9,
   "metadata": {},
   "outputs": [],
   "source": [
    "# 建立一個有三層隱藏層之神經網路\n",
    "def build_mlp():\n",
    "    input_layer = keras.layers.Input([x_train.shape[-1]])\n",
    "    x = keras.layers.Dense(units=512, activation=\"relu\")(input_layer)\n",
    "    x = keras.layers.Dense(units=256, activation=\"relu\")(x)\n",
    "    x = keras.layers.Dense(units=128, activation=\"relu\")(x)\n",
    "    out = keras.layers.Dense(units=10, activation=\"softmax\")(x)\n",
    "    \n",
    "    model = keras.models.Model(inputs=[input_layer], outputs=[out])\n",
    "    return model"
   ]
  },
  {
   "cell_type": "code",
   "execution_count": 10,
   "metadata": {},
   "outputs": [
    {
     "name": "stdout",
     "output_type": "stream",
     "text": [
      "Model: \"model\"\n",
      "_________________________________________________________________\n",
      "Layer (type)                 Output Shape              Param #   \n",
      "=================================================================\n",
      "input_2 (InputLayer)         [(None, 3072)]            0         \n",
      "_________________________________________________________________\n",
      "dense (Dense)                (None, 512)               1573376   \n",
      "_________________________________________________________________\n",
      "dense_1 (Dense)              (None, 256)               131328    \n",
      "_________________________________________________________________\n",
      "dense_2 (Dense)              (None, 128)               32896     \n",
      "_________________________________________________________________\n",
      "dense_3 (Dense)              (None, 10)                1290      \n",
      "=================================================================\n",
      "Total params: 1,738,890\n",
      "Trainable params: 1,738,890\n",
      "Non-trainable params: 0\n",
      "_________________________________________________________________\n"
     ]
    }
   ],
   "source": [
    "model = build_mlp()\n",
    "# 用 Keras 內建方法檢視模型各層參數量\n",
    "model.summary()\n",
    "\n",
    "optimizer = keras.optimizers.Adam(lr=0.001)\n",
    "model.compile(loss=\"categorical_crossentropy\", metrics=[\"accuracy\"], optimizer=optimizer)"
   ]
  },
  {
   "cell_type": "code",
   "execution_count": 11,
   "metadata": {},
   "outputs": [
    {
     "name": "stdout",
     "output_type": "stream",
     "text": [
      "Epoch 1/100\n",
      "196/196 [==============================] - 7s 32ms/step - loss: 2.1200 - accuracy: 0.2369 - val_loss: 1.7933 - val_accuracy: 0.3579\n",
      "Epoch 2/100\n",
      "196/196 [==============================] - 6s 33ms/step - loss: 1.7521 - accuracy: 0.3758 - val_loss: 1.6878 - val_accuracy: 0.3975\n",
      "Epoch 3/100\n",
      "196/196 [==============================] - 8s 38ms/step - loss: 1.6466 - accuracy: 0.4091 - val_loss: 1.5980 - val_accuracy: 0.4346\n",
      "Epoch 4/100\n",
      "196/196 [==============================] - 10s 50ms/step - loss: 1.5721 - accuracy: 0.4356 - val_loss: 1.5385 - val_accuracy: 0.4531\n",
      "Epoch 5/100\n",
      "196/196 [==============================] - 12s 61ms/step - loss: 1.5232 - accuracy: 0.4591 - val_loss: 1.5006 - val_accuracy: 0.4674\n",
      "Epoch 6/100\n",
      "196/196 [==============================] - 10s 50ms/step - loss: 1.4711 - accuracy: 0.4785 - val_loss: 1.5932 - val_accuracy: 0.4283\n",
      "Epoch 7/100\n",
      "196/196 [==============================] - 9s 48ms/step - loss: 1.4459 - accuracy: 0.4805 - val_loss: 1.4834 - val_accuracy: 0.4698\n",
      "Epoch 8/100\n",
      "196/196 [==============================] - 8s 40ms/step - loss: 1.4263 - accuracy: 0.4869 - val_loss: 1.4611 - val_accuracy: 0.4797\n",
      "Epoch 9/100\n",
      "196/196 [==============================] - 8s 41ms/step - loss: 1.3981 - accuracy: 0.4994 - val_loss: 1.4694 - val_accuracy: 0.4766\n",
      "Epoch 10/100\n",
      "196/196 [==============================] - 8s 40ms/step - loss: 1.3579 - accuracy: 0.5154 - val_loss: 1.4278 - val_accuracy: 0.4889\n",
      "Epoch 11/100\n",
      "196/196 [==============================] - 8s 39ms/step - loss: 1.3451 - accuracy: 0.5204 - val_loss: 1.4149 - val_accuracy: 0.5022\n",
      "Epoch 12/100\n",
      "196/196 [==============================] - 9s 48ms/step - loss: 1.3110 - accuracy: 0.5325 - val_loss: 1.4348 - val_accuracy: 0.4926\n",
      "Epoch 13/100\n",
      "196/196 [==============================] - 8s 40ms/step - loss: 1.2804 - accuracy: 0.5432 - val_loss: 1.4671 - val_accuracy: 0.4867\n",
      "Epoch 14/100\n",
      "196/196 [==============================] - 8s 39ms/step - loss: 1.2783 - accuracy: 0.5434 - val_loss: 1.3926 - val_accuracy: 0.5028\n",
      "Epoch 15/100\n",
      "196/196 [==============================] - 7s 37ms/step - loss: 1.2343 - accuracy: 0.5613 - val_loss: 1.3725 - val_accuracy: 0.5131\n",
      "Epoch 16/100\n",
      "196/196 [==============================] - 9s 44ms/step - loss: 1.2094 - accuracy: 0.5711 - val_loss: 1.3886 - val_accuracy: 0.5219\n",
      "Epoch 17/100\n",
      "196/196 [==============================] - 7s 38ms/step - loss: 1.1880 - accuracy: 0.5771 - val_loss: 1.3816 - val_accuracy: 0.5160\n",
      "Epoch 18/100\n",
      "196/196 [==============================] - 8s 42ms/step - loss: 1.1756 - accuracy: 0.5797 - val_loss: 1.3642 - val_accuracy: 0.5230\n",
      "Epoch 19/100\n",
      "196/196 [==============================] - 8s 39ms/step - loss: 1.1526 - accuracy: 0.5913 - val_loss: 1.4094 - val_accuracy: 0.5071\n",
      "Epoch 20/100\n",
      "196/196 [==============================] - 7s 35ms/step - loss: 1.1482 - accuracy: 0.5909 - val_loss: 1.3520 - val_accuracy: 0.5260\n",
      "Epoch 21/100\n",
      "196/196 [==============================] - 6s 33ms/step - loss: 1.1266 - accuracy: 0.5980 - val_loss: 1.3862 - val_accuracy: 0.5217\n",
      "Epoch 22/100\n",
      "196/196 [==============================] - 7s 37ms/step - loss: 1.0999 - accuracy: 0.6083 - val_loss: 1.3459 - val_accuracy: 0.5347\n",
      "Epoch 23/100\n",
      "196/196 [==============================] - 7s 36ms/step - loss: 1.0815 - accuracy: 0.6153 - val_loss: 1.3952 - val_accuracy: 0.5178\n",
      "Epoch 24/100\n",
      "196/196 [==============================] - 7s 38ms/step - loss: 1.0485 - accuracy: 0.6294 - val_loss: 1.4356 - val_accuracy: 0.5150\n",
      "Epoch 25/100\n",
      "196/196 [==============================] - 8s 41ms/step - loss: 1.0410 - accuracy: 0.6266 - val_loss: 1.3923 - val_accuracy: 0.5230\n",
      "Epoch 26/100\n",
      "196/196 [==============================] - 7s 38ms/step - loss: 1.0217 - accuracy: 0.6351 - val_loss: 1.3670 - val_accuracy: 0.5357\n",
      "Epoch 27/100\n",
      "196/196 [==============================] - 7s 34ms/step - loss: 0.9909 - accuracy: 0.6486 - val_loss: 1.4119 - val_accuracy: 0.5210\n",
      "Epoch 28/100\n",
      "196/196 [==============================] - 7s 35ms/step - loss: 0.9797 - accuracy: 0.6489 - val_loss: 1.3815 - val_accuracy: 0.5362\n",
      "Epoch 29/100\n",
      "196/196 [==============================] - 7s 37ms/step - loss: 0.9530 - accuracy: 0.6581 - val_loss: 1.4283 - val_accuracy: 0.5261\n",
      "Epoch 30/100\n",
      "196/196 [==============================] - 8s 41ms/step - loss: 0.9471 - accuracy: 0.6631 - val_loss: 1.4057 - val_accuracy: 0.5336\n",
      "Epoch 31/100\n",
      "196/196 [==============================] - 6s 32ms/step - loss: 0.9120 - accuracy: 0.6747 - val_loss: 1.4474 - val_accuracy: 0.5309\n",
      "Epoch 32/100\n",
      "196/196 [==============================] - 6s 31ms/step - loss: 0.8859 - accuracy: 0.6836 - val_loss: 1.4274 - val_accuracy: 0.5298\n",
      "Epoch 33/100\n",
      "196/196 [==============================] - 6s 32ms/step - loss: 0.8890 - accuracy: 0.6797 - val_loss: 1.5005 - val_accuracy: 0.5231\n",
      "Epoch 34/100\n",
      "196/196 [==============================] - 6s 33ms/step - loss: 0.8818 - accuracy: 0.6857 - val_loss: 1.4866 - val_accuracy: 0.5191\n",
      "Epoch 35/100\n",
      "196/196 [==============================] - 8s 38ms/step - loss: 0.8527 - accuracy: 0.6947 - val_loss: 1.4865 - val_accuracy: 0.5310\n",
      "Epoch 36/100\n",
      "196/196 [==============================] - 6s 32ms/step - loss: 0.8262 - accuracy: 0.7031 - val_loss: 1.4654 - val_accuracy: 0.5322\n",
      "Epoch 37/100\n",
      "196/196 [==============================] - 7s 36ms/step - loss: 0.8269 - accuracy: 0.7036 - val_loss: 1.5030 - val_accuracy: 0.5237\n",
      "Epoch 38/100\n",
      "196/196 [==============================] - 7s 34ms/step - loss: 0.8205 - accuracy: 0.7070 - val_loss: 1.5208 - val_accuracy: 0.5264\n",
      "Epoch 39/100\n",
      "196/196 [==============================] - 6s 32ms/step - loss: 0.7963 - accuracy: 0.7175 - val_loss: 1.5667 - val_accuracy: 0.5232\n",
      "Epoch 40/100\n",
      "196/196 [==============================] - 7s 34ms/step - loss: 0.7779 - accuracy: 0.7223 - val_loss: 1.5688 - val_accuracy: 0.5250\n",
      "Epoch 41/100\n",
      "196/196 [==============================] - 6s 33ms/step - loss: 0.7575 - accuracy: 0.7281 - val_loss: 1.5947 - val_accuracy: 0.5218\n",
      "Epoch 42/100\n",
      "196/196 [==============================] - 6s 33ms/step - loss: 0.7369 - accuracy: 0.7359 - val_loss: 1.6227 - val_accuracy: 0.5237\n",
      "Epoch 43/100\n",
      "196/196 [==============================] - 7s 34ms/step - loss: 0.7414 - accuracy: 0.7366 - val_loss: 1.6696 - val_accuracy: 0.5061\n",
      "Epoch 44/100\n",
      "196/196 [==============================] - 6s 32ms/step - loss: 0.7340 - accuracy: 0.7370 - val_loss: 1.7117 - val_accuracy: 0.5135\n",
      "Epoch 45/100\n",
      "196/196 [==============================] - 7s 34ms/step - loss: 0.7046 - accuracy: 0.7501 - val_loss: 1.6229 - val_accuracy: 0.5198\n",
      "Epoch 46/100\n",
      "196/196 [==============================] - 6s 33ms/step - loss: 0.6773 - accuracy: 0.7593 - val_loss: 1.6742 - val_accuracy: 0.5203\n",
      "Epoch 47/100\n",
      "196/196 [==============================] - 6s 33ms/step - loss: 0.6529 - accuracy: 0.7676 - val_loss: 1.7067 - val_accuracy: 0.5171\n",
      "Epoch 48/100\n",
      "196/196 [==============================] - 7s 34ms/step - loss: 0.6784 - accuracy: 0.7571 - val_loss: 1.7388 - val_accuracy: 0.5181\n",
      "Epoch 49/100\n",
      "196/196 [==============================] - 6s 33ms/step - loss: 0.6412 - accuracy: 0.7713 - val_loss: 1.7225 - val_accuracy: 0.5214\n",
      "Epoch 50/100\n",
      "196/196 [==============================] - 8s 39ms/step - loss: 0.6346 - accuracy: 0.7749 - val_loss: 1.8471 - val_accuracy: 0.5112\n",
      "Epoch 51/100\n",
      "196/196 [==============================] - 7s 35ms/step - loss: 0.6280 - accuracy: 0.7759 - val_loss: 1.8298 - val_accuracy: 0.5114\n",
      "Epoch 52/100\n",
      "196/196 [==============================] - 7s 37ms/step - loss: 0.6238 - accuracy: 0.7760 - val_loss: 1.8374 - val_accuracy: 0.5236\n",
      "Epoch 53/100\n",
      "196/196 [==============================] - 7s 36ms/step - loss: 0.6059 - accuracy: 0.7857 - val_loss: 1.9270 - val_accuracy: 0.5113\n",
      "Epoch 54/100\n",
      "196/196 [==============================] - 7s 37ms/step - loss: 0.5747 - accuracy: 0.7962 - val_loss: 1.8733 - val_accuracy: 0.5192\n",
      "Epoch 55/100\n",
      "196/196 [==============================] - 7s 37ms/step - loss: 0.5700 - accuracy: 0.7977 - val_loss: 1.9065 - val_accuracy: 0.5228\n",
      "Epoch 56/100\n",
      "196/196 [==============================] - 7s 36ms/step - loss: 0.5686 - accuracy: 0.7964 - val_loss: 1.9565 - val_accuracy: 0.5116\n",
      "Epoch 57/100\n"
     ]
    },
    {
     "name": "stdout",
     "output_type": "stream",
     "text": [
      "196/196 [==============================] - 7s 34ms/step - loss: 0.5630 - accuracy: 0.8014 - val_loss: 1.9839 - val_accuracy: 0.5199\n",
      "Epoch 58/100\n",
      "196/196 [==============================] - 6s 32ms/step - loss: 0.5690 - accuracy: 0.7953 - val_loss: 2.0505 - val_accuracy: 0.5132\n",
      "Epoch 59/100\n",
      "196/196 [==============================] - 8s 39ms/step - loss: 0.5368 - accuracy: 0.8095 - val_loss: 1.9536 - val_accuracy: 0.5197\n",
      "Epoch 60/100\n",
      "196/196 [==============================] - 6s 31ms/step - loss: 0.5068 - accuracy: 0.8193 - val_loss: 1.9757 - val_accuracy: 0.5203\n",
      "Epoch 61/100\n",
      "196/196 [==============================] - 6s 32ms/step - loss: 0.5104 - accuracy: 0.8195 - val_loss: 2.1337 - val_accuracy: 0.5068\n",
      "Epoch 62/100\n",
      "196/196 [==============================] - 7s 34ms/step - loss: 0.4953 - accuracy: 0.8229 - val_loss: 2.1184 - val_accuracy: 0.5083\n",
      "Epoch 63/100\n",
      "196/196 [==============================] - 6s 32ms/step - loss: 0.4875 - accuracy: 0.8254 - val_loss: 2.1303 - val_accuracy: 0.5187\n",
      "Epoch 64/100\n",
      "196/196 [==============================] - 6s 33ms/step - loss: 0.4761 - accuracy: 0.8308 - val_loss: 2.1495 - val_accuracy: 0.5072\n",
      "Epoch 65/100\n",
      "196/196 [==============================] - 6s 32ms/step - loss: 0.4905 - accuracy: 0.8227 - val_loss: 2.1920 - val_accuracy: 0.5103\n",
      "Epoch 66/100\n",
      "196/196 [==============================] - 6s 32ms/step - loss: 0.4766 - accuracy: 0.8291 - val_loss: 2.1796 - val_accuracy: 0.5082\n",
      "Epoch 67/100\n",
      "196/196 [==============================] - 6s 31ms/step - loss: 0.4656 - accuracy: 0.8313 - val_loss: 2.2080 - val_accuracy: 0.5163\n",
      "Epoch 68/100\n",
      "196/196 [==============================] - 7s 33ms/step - loss: 0.4465 - accuracy: 0.8372 - val_loss: 2.2659 - val_accuracy: 0.5161\n",
      "Epoch 69/100\n",
      "196/196 [==============================] - 7s 35ms/step - loss: 0.4642 - accuracy: 0.8353 - val_loss: 2.3131 - val_accuracy: 0.5113\n",
      "Epoch 70/100\n",
      "196/196 [==============================] - 7s 34ms/step - loss: 0.4191 - accuracy: 0.8521 - val_loss: 2.3242 - val_accuracy: 0.5159\n",
      "Epoch 71/100\n",
      "196/196 [==============================] - 7s 33ms/step - loss: 0.4445 - accuracy: 0.8405 - val_loss: 2.3594 - val_accuracy: 0.5097\n",
      "Epoch 72/100\n",
      "196/196 [==============================] - 7s 35ms/step - loss: 0.4215 - accuracy: 0.8513 - val_loss: 2.4571 - val_accuracy: 0.5112\n",
      "Epoch 73/100\n",
      "196/196 [==============================] - 7s 33ms/step - loss: 0.4257 - accuracy: 0.8458 - val_loss: 2.3947 - val_accuracy: 0.5094\n",
      "Epoch 74/100\n",
      "196/196 [==============================] - 7s 35ms/step - loss: 0.4040 - accuracy: 0.8552 - val_loss: 2.4976 - val_accuracy: 0.5123\n",
      "Epoch 75/100\n",
      "196/196 [==============================] - 6s 33ms/step - loss: 0.3973 - accuracy: 0.8562 - val_loss: 2.4907 - val_accuracy: 0.5026\n",
      "Epoch 76/100\n",
      "196/196 [==============================] - 7s 34ms/step - loss: 0.4052 - accuracy: 0.8558 - val_loss: 2.5066 - val_accuracy: 0.5005\n",
      "Epoch 77/100\n",
      "196/196 [==============================] - 7s 34ms/step - loss: 0.4056 - accuracy: 0.8514 - val_loss: 2.4985 - val_accuracy: 0.5129\n",
      "Epoch 78/100\n",
      "196/196 [==============================] - 7s 34ms/step - loss: 0.3779 - accuracy: 0.8634 - val_loss: 2.6017 - val_accuracy: 0.5054\n",
      "Epoch 79/100\n",
      "196/196 [==============================] - 7s 34ms/step - loss: 0.3572 - accuracy: 0.8740 - val_loss: 2.6927 - val_accuracy: 0.4992\n",
      "Epoch 80/100\n",
      "196/196 [==============================] - 7s 34ms/step - loss: 0.4078 - accuracy: 0.8526 - val_loss: 2.5890 - val_accuracy: 0.5110\n",
      "Epoch 81/100\n",
      "196/196 [==============================] - 7s 37ms/step - loss: 0.3521 - accuracy: 0.8743 - val_loss: 2.6800 - val_accuracy: 0.5096\n",
      "Epoch 82/100\n",
      "196/196 [==============================] - 7s 34ms/step - loss: 0.3672 - accuracy: 0.8680 - val_loss: 2.6380 - val_accuracy: 0.5085\n",
      "Epoch 83/100\n",
      "196/196 [==============================] - 7s 34ms/step - loss: 0.3368 - accuracy: 0.8795 - val_loss: 2.7837 - val_accuracy: 0.5033\n",
      "Epoch 84/100\n",
      "196/196 [==============================] - 7s 34ms/step - loss: 0.3687 - accuracy: 0.8676 - val_loss: 2.7973 - val_accuracy: 0.5064\n",
      "Epoch 85/100\n",
      "196/196 [==============================] - 7s 34ms/step - loss: 0.3296 - accuracy: 0.8824 - val_loss: 2.8275 - val_accuracy: 0.5100\n",
      "Epoch 86/100\n",
      "196/196 [==============================] - 7s 37ms/step - loss: 0.3328 - accuracy: 0.8819 - val_loss: 2.7254 - val_accuracy: 0.5052\n",
      "Epoch 87/100\n",
      "196/196 [==============================] - 7s 34ms/step - loss: 0.3837 - accuracy: 0.8626 - val_loss: 2.8951 - val_accuracy: 0.5015\n",
      "Epoch 88/100\n",
      "196/196 [==============================] - 7s 37ms/step - loss: 0.3388 - accuracy: 0.8780 - val_loss: 3.0027 - val_accuracy: 0.5045\n",
      "Epoch 89/100\n",
      "196/196 [==============================] - 7s 36ms/step - loss: 0.3102 - accuracy: 0.8920 - val_loss: 2.9031 - val_accuracy: 0.5052\n",
      "Epoch 90/100\n",
      "196/196 [==============================] - 7s 38ms/step - loss: 0.3243 - accuracy: 0.8833 - val_loss: 3.0227 - val_accuracy: 0.5025\n",
      "Epoch 91/100\n",
      "196/196 [==============================] - 7s 35ms/step - loss: 0.3159 - accuracy: 0.8870 - val_loss: 2.9010 - val_accuracy: 0.5091\n",
      "Epoch 92/100\n",
      "196/196 [==============================] - 7s 35ms/step - loss: 0.3343 - accuracy: 0.8799 - val_loss: 3.1427 - val_accuracy: 0.5072\n",
      "Epoch 93/100\n",
      "196/196 [==============================] - 7s 37ms/step - loss: 0.3275 - accuracy: 0.8843 - val_loss: 3.1090 - val_accuracy: 0.4916\n",
      "Epoch 94/100\n",
      "196/196 [==============================] - 7s 35ms/step - loss: 0.3514 - accuracy: 0.8722 - val_loss: 3.0058 - val_accuracy: 0.5026\n",
      "Epoch 95/100\n",
      "196/196 [==============================] - 7s 35ms/step - loss: 0.2917 - accuracy: 0.8978 - val_loss: 3.1014 - val_accuracy: 0.4911\n",
      "Epoch 96/100\n",
      "196/196 [==============================] - 7s 36ms/step - loss: 0.3043 - accuracy: 0.8902 - val_loss: 3.1122 - val_accuracy: 0.5066\n",
      "Epoch 97/100\n",
      "196/196 [==============================] - 7s 37ms/step - loss: 0.2999 - accuracy: 0.8931 - val_loss: 3.0977 - val_accuracy: 0.5049\n",
      "Epoch 98/100\n",
      "196/196 [==============================] - 7s 36ms/step - loss: 0.2717 - accuracy: 0.9031 - val_loss: 3.2685 - val_accuracy: 0.4988\n",
      "Epoch 99/100\n",
      "196/196 [==============================] - 7s 36ms/step - loss: 0.2775 - accuracy: 0.9015 - val_loss: 3.1981 - val_accuracy: 0.5059\n",
      "Epoch 100/100\n",
      "196/196 [==============================] - 7s 34ms/step - loss: 0.2854 - accuracy: 0.8936 - val_loss: 3.2485 - val_accuracy: 0.4965\n"
     ]
    },
    {
     "data": {
      "text/plain": [
       "<tensorflow.python.keras.callbacks.History at 0x7fa5e7cc5070>"
      ]
     },
     "execution_count": 11,
     "metadata": {},
     "output_type": "execute_result"
    }
   ],
   "source": [
    "# 訓練模型並檢視驗證集的結果\n",
    "model.fit(x_train, y_train, \n",
    "          epochs=100, \n",
    "          batch_size=256, \n",
    "          validation_data=(x_test, y_test), \n",
    "          shuffle=True)"
   ]
  },
  {
   "cell_type": "code",
   "execution_count": 13,
   "metadata": {},
   "outputs": [
    {
     "data": {
      "image/png": "[encoded data removed]",
      "text/plain": [
       "<Figure size 432x288 with 1 Axes>"
      ]
     },
     "metadata": {
      "needs_background": "light"
     },
     "output_type": "display_data"
    },
    {
     "data": {
      "image/png": "[encoded data removed]",
      "text/plain": [
       "<Figure size 432x288 with 1 Axes>"
      ]
     },
     "metadata": {
      "needs_background": "light"
     },
     "output_type": "display_data"
    }
   ],
   "source": [
    "# 以視覺畫方式檢視訓練過程\n",
    "import matplotlib.pyplot as plt\n",
    "train_loss = model.history.history[\"loss\"]\n",
    "valid_loss = model.history.history[\"val_loss\"]\n",
    "\n",
    "train_acc = model.history.history[\"accuracy\"]\n",
    "valid_acc = model.history.history[\"val_accuracy\"]\n",
    "\n",
    "plt.plot(range(len(train_loss)), train_loss, label=\"train loss\")\n",
    "plt.plot(range(len(valid_loss)), valid_loss, label=\"valid loss\")\n",
    "plt.legend()\n",
    "plt.title(\"Loss\")\n",
    "plt.show()\n",
    "\n",
    "plt.plot(range(len(train_acc)), train_acc, label=\"train accuracy\")\n",
    "plt.plot(range(len(valid_acc)), valid_acc, label=\"valid accuracy\")\n",
    "plt.legend()\n",
    "plt.title(\"Accuracy\")\n",
    "plt.show()"
   ]
  },
  {
   "cell_type": "markdown",
   "metadata": {},
   "source": [
    "## 作業\n",
    "1. 請將 Epoch 加到 500 個，並觀察 learning curve 的走勢\n",
    "2. 請將 Optimizer 換成 SGD，並觀察 learning curve 的走勢"
   ]
  }
 ],
 "metadata": {
  "kernelspec": {
   "display_name": "Python 3",
   "language": "python",
   "name": "python3"
  },
  "language_info": {
   "codemirror_mode": {
    "name": "ipython",
    "version": 3
   },
   "file_extension": ".py",
   "mimetype": "text/x-python",
   "name": "python",
   "nbconvert_exporter": "python",
   "pygments_lexer": "ipython3",
   "version": "3.8.3"
  }
 },
 "nbformat": 4,
 "nbformat_minor": 2
}

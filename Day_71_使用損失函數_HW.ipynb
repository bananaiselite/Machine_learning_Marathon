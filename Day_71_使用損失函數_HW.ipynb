{
 "cells": [
  {
   "cell_type": "markdown",
   "metadata": {
    "colab_type": "text",
    "id": "cj4tE8e8iUtO"
   },
   "source": [
    "#   \n",
    "\n",
    "# 作業目標:\n",
    "\n",
    "    1. 藉由固定的 dataset, 來驗證不同loss function\n",
    "    2. Dataset 的特性跟我們選用的loss function 對accrancy 的影響\n",
    "    \n",
    "    \n",
    "# 作業重點: \n",
    "    請分別選用 \"MSE\", \"binary _crossentropy\"\n",
    "    查看Train/test accurancy and loss rate\n",
    "    "
   ]
  },
  {
   "cell_type": "markdown",
   "metadata": {
    "colab_type": "text",
    "id": "R51J4KyyiUsL"
   },
   "source": [
    "# 導入必要的函數"
   ]
  },
  {
   "cell_type": "code",
   "execution_count": 1,
   "metadata": {
    "colab": {},
    "colab_type": "code",
    "id": "Qd68OQjciUsM"
   },
   "outputs": [
    {
     "name": "stderr",
     "output_type": "stream",
     "text": [
      "Using TensorFlow backend.\n"
     ]
    }
   ],
   "source": [
    "from keras.datasets import cifar10\n",
    "import numpy as np\n",
    "np.random.seed(10)"
   ]
  },
  {
   "cell_type": "markdown",
   "metadata": {
    "colab_type": "text",
    "id": "GxKuzQLQiUsP"
   },
   "source": [
    "# 資料準備"
   ]
  },
  {
   "cell_type": "code",
   "execution_count": 3,
   "metadata": {
    "colab": {},
    "colab_type": "code",
    "id": "MIbFZdTCiUsQ"
   },
   "outputs": [],
   "source": [
    "#取得Keras Dataset\n",
    "(x_img_train,y_label_train),(x_img_test,y_label_test)=cifar10.load_data()"
   ]
  },
  {
   "cell_type": "code",
   "execution_count": 4,
   "metadata": {
    "colab": {},
    "colab_type": "code",
    "id": "J8CJVjNOiUsS"
   },
   "outputs": [
    {
     "name": "stdout",
     "output_type": "stream",
     "text": [
      "train data: images: (50000, 32, 32, 3)  labels: (50000, 1)\n",
      "test  data: images: (10000, 32, 32, 3)  labels: (10000, 1)\n"
     ]
    }
   ],
   "source": [
    "#確認 CIFAR10 Dataset 資料維度\n",
    "print(\"train data:\",'images:',x_img_train.shape,\n",
    "      \" labels:\",y_label_train.shape) \n",
    "print(\"test  data:\",'images:',x_img_test.shape ,\n",
    "      \" labels:\",y_label_test.shape) "
   ]
  },
  {
   "cell_type": "code",
   "execution_count": 5,
   "metadata": {
    "colab": {},
    "colab_type": "code",
    "id": "V3P6P4DXiUsV"
   },
   "outputs": [],
   "source": [
    "#資料正規化\n",
    "x_img_train_normalize = x_img_train.astype('float32') / 255.0\n",
    "x_img_test_normalize = x_img_test.astype('float32') / 255.0"
   ]
  },
  {
   "cell_type": "code",
   "execution_count": 6,
   "metadata": {
    "colab": {},
    "colab_type": "code",
    "id": "vsDyjKYliUsX"
   },
   "outputs": [
    {
     "data": {
      "text/plain": [
       "(10000, 10)"
      ]
     },
     "execution_count": 6,
     "metadata": {},
     "output_type": "execute_result"
    }
   ],
   "source": [
    "#針對Label 做 ONE HOT ENCODE\n",
    "from keras.utils import np_utils\n",
    "y_label_train_OneHot = np_utils.to_categorical(y_label_train)\n",
    "y_label_test_OneHot = np_utils.to_categorical(y_label_test)\n",
    "y_label_test_OneHot.shape"
   ]
  },
  {
   "cell_type": "markdown",
   "metadata": {
    "colab_type": "text",
    "id": "RutW2OtgiUsZ"
   },
   "source": [
    "# 建立模型"
   ]
  },
  {
   "cell_type": "code",
   "execution_count": 7,
   "metadata": {
    "colab": {},
    "colab_type": "code",
    "id": "aHz592aXiUsa"
   },
   "outputs": [],
   "source": [
    "from tensorflow.keras.models import Sequential\n",
    "from tensorflow.keras.layers import Dense, Dropout, Activation, Flatten\n",
    "from tensorflow.keras.layers import Conv2D, MaxPooling2D, ZeroPadding2D"
   ]
  },
  {
   "cell_type": "code",
   "execution_count": 29,
   "metadata": {
    "colab": {},
    "colab_type": "code",
    "id": "hslqrIp0iUse"
   },
   "outputs": [],
   "source": [
    "model = Sequential()"
   ]
  },
  {
   "cell_type": "code",
   "execution_count": 30,
   "metadata": {
    "colab": {},
    "colab_type": "code",
    "id": "Hqe35hs2iUsi"
   },
   "outputs": [],
   "source": [
    "#卷積層1"
   ]
  },
  {
   "cell_type": "code",
   "execution_count": 31,
   "metadata": {
    "colab": {},
    "colab_type": "code",
    "id": "ED7dqe1YiUsm"
   },
   "outputs": [],
   "source": [
    "model.add(Conv2D(filters=32,kernel_size=(3,3),\n",
    "                 input_shape=(32, 32,3), \n",
    "                 activation='relu', \n",
    "                 padding='same'))"
   ]
  },
  {
   "cell_type": "code",
   "execution_count": 32,
   "metadata": {
    "colab": {},
    "colab_type": "code",
    "id": "n-GRKmPViUso"
   },
   "outputs": [],
   "source": [
    "model.add(Dropout(rate=0.25))"
   ]
  },
  {
   "cell_type": "code",
   "execution_count": 33,
   "metadata": {
    "colab": {},
    "colab_type": "code",
    "id": "GlWnnD1uiUsw"
   },
   "outputs": [],
   "source": [
    "model.add(MaxPooling2D(pool_size=(2, 2)))"
   ]
  },
  {
   "cell_type": "code",
   "execution_count": 34,
   "metadata": {
    "colab": {},
    "colab_type": "code",
    "id": "nawlkt55iUsy"
   },
   "outputs": [],
   "source": [
    "#卷積層2與池化層2"
   ]
  },
  {
   "cell_type": "code",
   "execution_count": 35,
   "metadata": {
    "colab": {},
    "colab_type": "code",
    "id": "xxyETiKNiUs1"
   },
   "outputs": [],
   "source": [
    "model.add(Conv2D(filters=64, kernel_size=(3, 3), \n",
    "                 activation='relu', padding='same'))"
   ]
  },
  {
   "cell_type": "code",
   "execution_count": 36,
   "metadata": {
    "colab": {},
    "colab_type": "code",
    "id": "RqcKWtqGiUs2"
   },
   "outputs": [],
   "source": [
    "model.add(Dropout(0.25))"
   ]
  },
  {
   "cell_type": "code",
   "execution_count": 37,
   "metadata": {
    "colab": {},
    "colab_type": "code",
    "id": "BUOOzlqfiUs4"
   },
   "outputs": [],
   "source": [
    "model.add(MaxPooling2D(pool_size=(2, 2)))"
   ]
  },
  {
   "cell_type": "code",
   "execution_count": 38,
   "metadata": {
    "colab": {},
    "colab_type": "code",
    "id": "LpkppB2siUs7"
   },
   "outputs": [],
   "source": [
    "#建立神經網路(平坦層、隱藏層、輸出層)"
   ]
  },
  {
   "cell_type": "code",
   "execution_count": 39,
   "metadata": {
    "colab": {},
    "colab_type": "code",
    "id": "UQOfU54_iUs_"
   },
   "outputs": [],
   "source": [
    "model.add(Flatten())\n",
    "model.add(Dropout(rate=0.25))"
   ]
  },
  {
   "cell_type": "code",
   "execution_count": 40,
   "metadata": {
    "colab": {},
    "colab_type": "code",
    "id": "_NV-8sq4iUtD"
   },
   "outputs": [],
   "source": [
    "model.add(Dense(1024, activation='relu'))\n",
    "model.add(Dropout(rate=0.25))"
   ]
  },
  {
   "cell_type": "code",
   "execution_count": 41,
   "metadata": {
    "colab": {},
    "colab_type": "code",
    "id": "qVK77krOiUtF"
   },
   "outputs": [],
   "source": [
    "model.add(Dense(10, activation='softmax'))"
   ]
  },
  {
   "cell_type": "code",
   "execution_count": 43,
   "metadata": {
    "colab": {},
    "colab_type": "code",
    "id": "ZxzRIjR0iUtH"
   },
   "outputs": [
    {
     "name": "stdout",
     "output_type": "stream",
     "text": [
      "Model: \"sequential_2\"\n",
      "_________________________________________________________________\n",
      "Layer (type)                 Output Shape              Param #   \n",
      "=================================================================\n",
      "conv2d_3 (Conv2D)            (None, 32, 32, 32)        896       \n",
      "_________________________________________________________________\n",
      "dropout_4 (Dropout)          (None, 32, 32, 32)        0         \n",
      "_________________________________________________________________\n",
      "max_pooling2d_2 (MaxPooling2 (None, 16, 16, 32)        0         \n",
      "_________________________________________________________________\n",
      "conv2d_4 (Conv2D)            (None, 16, 16, 64)        18496     \n",
      "_________________________________________________________________\n",
      "dropout_5 (Dropout)          (None, 16, 16, 64)        0         \n",
      "_________________________________________________________________\n",
      "max_pooling2d_3 (MaxPooling2 (None, 8, 8, 64)          0         \n",
      "_________________________________________________________________\n",
      "flatten_1 (Flatten)          (None, 4096)              0         \n",
      "_________________________________________________________________\n",
      "dropout_6 (Dropout)          (None, 4096)              0         \n",
      "_________________________________________________________________\n",
      "dense_2 (Dense)              (None, 1024)              4195328   \n",
      "_________________________________________________________________\n",
      "dropout_7 (Dropout)          (None, 1024)              0         \n",
      "_________________________________________________________________\n",
      "dense_3 (Dense)              (None, 10)                10250     \n",
      "=================================================================\n",
      "Total params: 4,224,970\n",
      "Trainable params: 4,224,970\n",
      "Non-trainable params: 0\n",
      "_________________________________________________________________\n",
      "None\n"
     ]
    }
   ],
   "source": [
    "#檢查model 的STACK\n",
    "print(model.summary())"
   ]
  },
  {
   "cell_type": "markdown",
   "metadata": {
    "colab_type": "text",
    "id": "QJCtpJM0iUtJ"
   },
   "source": [
    "# 載入之前訓練的模型"
   ]
  },
  {
   "cell_type": "code",
   "execution_count": 24,
   "metadata": {
    "colab": {},
    "colab_type": "code",
    "id": "JU3A6NzQiUtK"
   },
   "outputs": [
    {
     "name": "stdout",
     "output_type": "stream",
     "text": [
      "載入模型失敗!開始訓練一個新模型\n"
     ]
    }
   ],
   "source": [
    "try:\n",
    "    model.load_weights(\"SaveModel/cifarCnnModel.h5\")\n",
    "    print(\"載入模型成功!繼續訓練模型\")\n",
    "except :    \n",
    "    print(\"載入模型失敗!開始訓練一個新模型\")"
   ]
  },
  {
   "cell_type": "markdown",
   "metadata": {
    "colab_type": "text",
    "id": "qBbCuziziUtM"
   },
   "source": [
    "# 訓練模型"
   ]
  },
  {
   "cell_type": "code",
   "execution_count": 25,
   "metadata": {
    "colab": {},
    "colab_type": "code",
    "id": "Q6BiBcseiUtP"
   },
   "outputs": [
    {
     "name": "stdout",
     "output_type": "stream",
     "text": [
      "Epoch 1/12\n",
      "293/293 [==============================] - 89s 301ms/step - loss: 0.0907 - accuracy: 0.1044 - val_loss: 0.0899 - val_accuracy: 0.1226\n",
      "Epoch 2/12\n",
      "293/293 [==============================] - 81s 274ms/step - loss: 0.0902 - accuracy: 0.1097 - val_loss: 0.0897 - val_accuracy: 0.1427\n",
      "Epoch 3/12\n",
      "293/293 [==============================] - 87s 297ms/step - loss: 0.0899 - accuracy: 0.1188 - val_loss: 0.0896 - val_accuracy: 0.1569\n",
      "Epoch 4/12\n",
      "293/293 [==============================] - 86s 294ms/step - loss: 0.0896 - accuracy: 0.1304 - val_loss: 0.0895 - val_accuracy: 0.1638\n",
      "Epoch 5/12\n",
      "293/293 [==============================] - 81s 275ms/step - loss: 0.0895 - accuracy: 0.1359 - val_loss: 0.0893 - val_accuracy: 0.1742\n",
      "Epoch 6/12\n",
      "293/293 [==============================] - 85s 290ms/step - loss: 0.0893 - accuracy: 0.1407 - val_loss: 0.0892 - val_accuracy: 0.1826\n",
      "Epoch 7/12\n",
      "293/293 [==============================] - 93s 317ms/step - loss: 0.0891 - accuracy: 0.1534 - val_loss: 0.0891 - val_accuracy: 0.1882\n",
      "Epoch 8/12\n",
      "293/293 [==============================] - 83s 284ms/step - loss: 0.0889 - accuracy: 0.1530 - val_loss: 0.0890 - val_accuracy: 0.1986\n",
      "Epoch 9/12\n",
      "293/293 [==============================] - 83s 284ms/step - loss: 0.0887 - accuracy: 0.1630 - val_loss: 0.0888 - val_accuracy: 0.2076\n",
      "Epoch 10/12\n",
      "293/293 [==============================] - 83s 284ms/step - loss: 0.0886 - accuracy: 0.1662 - val_loss: 0.0887 - val_accuracy: 0.2135\n",
      "Epoch 11/12\n",
      "293/293 [==============================] - 78s 266ms/step - loss: 0.0882 - accuracy: 0.1769 - val_loss: 0.0885 - val_accuracy: 0.2286\n",
      "Epoch 12/12\n",
      "293/293 [==============================] - 82s 278ms/step - loss: 0.0881 - accuracy: 0.1811 - val_loss: 0.0884 - val_accuracy: 0.2355\n"
     ]
    }
   ],
   "source": [
    "model.compile(loss='MSE', optimizer='sgd', metrics=['accuracy'])\n",
    "\n",
    "'''\n",
    "作業:\n",
    "請分別選用 \"MSE\", \"binary _crossentropy\"\n",
    "查看Train/test accurancy and loss rate\n",
    "'''\n",
    "train_history=model.fit(x_img_train_normalize, y_label_train_OneHot,\n",
    "                        validation_split=0.25,\n",
    "                        epochs=12, batch_size=128, verbose=1) "
   ]
  },
  {
   "cell_type": "code",
   "execution_count": 26,
   "metadata": {
    "colab": {},
    "colab_type": "code",
    "id": "4-GdDgmQiUtS"
   },
   "outputs": [],
   "source": [
    "import matplotlib.pyplot as plt\n",
    "%matplotlib inline\n",
    "\n",
    "#定義一個繪圖函數\n",
    "def show_train_history(train_acc,test_acc):\n",
    "    plt.plot(train_history.history[train_acc])\n",
    "    plt.plot(train_history.history[test_acc])\n",
    "    plt.title('Train History')\n",
    "    plt.ylabel('Accuracy')\n",
    "    plt.xlabel('Epoch')\n",
    "    plt.legend(['train_accuracy', 'val_accuracy'], loc='upper left')\n",
    "    plt.show()"
   ]
  },
  {
   "cell_type": "code",
   "execution_count": 27,
   "metadata": {},
   "outputs": [
    {
     "data": {
      "image/png": "[encoded data removed]",
      "text/plain": [
       "<Figure size 432x288 with 1 Axes>"
      ]
     },
     "metadata": {
      "needs_background": "light"
     },
     "output_type": "display_data"
    }
   ],
   "source": [
    "show_train_history('accuracy','val_accuracy')"
   ]
  },
  {
   "cell_type": "code",
   "execution_count": 45,
   "metadata": {},
   "outputs": [
    {
     "name": "stdout",
     "output_type": "stream",
     "text": [
      "Epoch 1/12\n",
      "293/293 [==============================] - 97s 328ms/step - loss: 0.4252 - accuracy: 0.1047 - val_loss: 0.3657 - val_accuracy: 0.1669\n",
      "Epoch 2/12\n",
      "293/293 [==============================] - 70s 238ms/step - loss: 0.3328 - accuracy: 0.1248 - val_loss: 0.3625 - val_accuracy: 0.1917\n",
      "Epoch 3/12\n",
      "293/293 [==============================] - 83s 285ms/step - loss: 0.3289 - accuracy: 0.1464 - val_loss: 0.3612 - val_accuracy: 0.2334\n",
      "Epoch 4/12\n",
      "293/293 [==============================] - 95s 323ms/step - loss: 0.3249 - accuracy: 0.1627 - val_loss: 0.3576 - val_accuracy: 0.2511\n",
      "Epoch 5/12\n",
      "293/293 [==============================] - 77s 262ms/step - loss: 0.3208 - accuracy: 0.1809 - val_loss: 0.3536 - val_accuracy: 0.2667\n",
      "Epoch 6/12\n",
      "293/293 [==============================] - 74s 254ms/step - loss: 0.3167 - accuracy: 0.1988 - val_loss: 0.3494 - val_accuracy: 0.2724\n",
      "Epoch 7/12\n",
      "293/293 [==============================] - 84s 288ms/step - loss: 0.3122 - accuracy: 0.2141 - val_loss: 0.3440 - val_accuracy: 0.2822\n",
      "Epoch 8/12\n",
      "293/293 [==============================] - 76s 259ms/step - loss: 0.3067 - accuracy: 0.2360 - val_loss: 0.3406 - val_accuracy: 0.2854\n",
      "Epoch 9/12\n",
      "293/293 [==============================] - 75s 256ms/step - loss: 0.3039 - accuracy: 0.2442 - val_loss: 0.3356 - val_accuracy: 0.2972\n",
      "Epoch 10/12\n",
      "293/293 [==============================] - 74s 253ms/step - loss: 0.3008 - accuracy: 0.2538 - val_loss: 0.3334 - val_accuracy: 0.3056\n",
      "Epoch 11/12\n",
      "293/293 [==============================] - 80s 273ms/step - loss: 0.2993 - accuracy: 0.2648 - val_loss: 0.3312 - val_accuracy: 0.3070\n",
      "Epoch 12/12\n",
      "293/293 [==============================] - 99s 339ms/step - loss: 0.2974 - accuracy: 0.2689 - val_loss: 0.3290 - val_accuracy: 0.3111\n"
     ]
    }
   ],
   "source": [
    "model.compile(loss='binary_crossentropy', optimizer='sgd', metrics=['accuracy'])\n",
    "\n",
    "\n",
    "train_history=model.fit(x_img_train_normalize, y_label_train_OneHot,\n",
    "                        validation_split=0.25,\n",
    "                        epochs=12, batch_size=128, verbose=1) "
   ]
  },
  {
   "cell_type": "code",
   "execution_count": 46,
   "metadata": {},
   "outputs": [
    {
     "data": {
      "image/png": "[encoded data removed]",
      "text/plain": [
       "<Figure size 432x288 with 1 Axes>"
      ]
     },
     "metadata": {
      "needs_background": "light"
     },
     "output_type": "display_data"
    }
   ],
   "source": [
    "show_train_history('accuracy','val_accuracy')"
   ]
  }
 ],
 "metadata": {
  "colab": {
   "name": "Day71-使用損失函數_HW.ipynb",
   "provenance": [],
   "version": "0.3.2"
  },
  "kernelspec": {
   "display_name": "Python 3",
   "language": "python",
   "name": "python3"
  },
  "language_info": {
   "codemirror_mode": {
    "name": "ipython",
    "version": 3
   },
   "file_extension": ".py",
   "mimetype": "text/x-python",
   "name": "python",
   "nbconvert_exporter": "python",
   "pygments_lexer": "ipython3",
   "version": "3.8.3"
  }
 },
 "nbformat": 4,
 "nbformat_minor": 1
}
